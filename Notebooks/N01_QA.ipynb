{
 "cells": [
  {
   "cell_type": "markdown",
   "metadata": {},
   "source": [
    "# Data Quality Assurance - Part 1\n",
    "\n",
    "This notebook will perform the following steps:\n",
    "\n",
    "1. Load a list of subjects of interest (i.e., those with at least one resting-state scan at 7T)\n",
    "2. Load motion estimates and compute Framewise Displacement (saves FD to disk on each run folder)\n",
    "3. Attempt loading of ET files for each run (and mark those that are defective)\n",
    "4. Construct a dataframe with the following information per run: correct number of TRs, correct spatial resolution, correct number of volumes, ET available, ET can be loaded\n",
    "\n",
    "A summary of this QA is saved to disk in ${RESOURCES_DIR}/QA_Part1_Results.pkl\n",
    "***"
   ]
  },
  {
   "cell_type": "code",
   "execution_count": 1,
   "metadata": {},
   "outputs": [
    {
     "name": "stdout",
     "output_type": "stream",
     "text": [
      "CPU times: user 411 ms, sys: 173 ms, total: 584 ms\n",
      "Wall time: 8.75 s\n"
     ]
    }
   ],
   "source": [
    "%%time\n",
    "from utils.basics          import get_7t_subjects, load_motion_info\n",
    "from utils.variables       import RUNS, DATA_DIR, ProjectFiles_DF_Path, QA1_Results_DF_Path\n",
    "from utils.ParseEyeLinkAsc import ParseEyeLinkAsc\n",
    "\n",
    "import numpy as np\n",
    "import pandas as pd\n",
    "import os.path as osp\n",
    "import nibabel as nib\n",
    "\n",
    "VERBOSE=False"
   ]
  },
  {
   "cell_type": "markdown",
   "metadata": {},
   "source": [
    "*** \n",
    "## 1. Check the Dataframe with information about available files"
   ]
  },
  {
   "cell_type": "code",
   "execution_count": 2,
   "metadata": {},
   "outputs": [
    {
     "name": "stdout",
     "output_type": "stream",
     "text": [
      "++ INFO: Shape of Project Files_DF is (719, 12)\n"
     ]
    }
   ],
   "source": [
    "ProjectFiles_DF = pd.read_pickle(ProjectFiles_DF_Path)\n",
    "print('++ INFO: Shape of Project Files_DF is %s' % str(ProjectFiles_DF.shape))"
   ]
  },
  {
   "cell_type": "code",
   "execution_count": 3,
   "metadata": {},
   "outputs": [
    {
     "name": "stdout",
     "output_type": "stream",
     "text": [
      "++ INFO: Number of Runs with ET(asc) file available: 570 Runs\n",
      "++ INFO: Number of Runs with ET(csv) file available: 570 Runs\n"
     ]
    }
   ],
   "source": [
    "print('++ INFO: Number of Runs with ET(asc) file available: %d Runs' % (ProjectFiles_DF.shape[0] - ProjectFiles_DF['ET_ASC'].isna().sum()))\n",
    "print('++ INFO: Number of Runs with ET(csv) file available: %d Runs' % (ProjectFiles_DF.shape[0] - ProjectFiles_DF['ET_CSV'].isna().sum()))"
   ]
  },
  {
   "cell_type": "markdown",
   "metadata": {},
   "source": [
    "***\n",
    "## 2. Load List of Subjects of interest"
   ]
  },
  {
   "cell_type": "code",
   "execution_count": 4,
   "metadata": {},
   "outputs": [
    {
     "name": "stdout",
     "output_type": "stream",
     "text": [
      "++ Number of available subjects: 183\n"
     ]
    }
   ],
   "source": [
    "# Load List of Subjects with at least one resting-state scan\n",
    "sbjs = get_7t_subjects()\n",
    "print('++ Number of available subjects: %d' % len(sbjs))"
   ]
  },
  {
   "cell_type": "markdown",
   "metadata": {},
   "source": [
    "***\n",
    "## 4. Load Motion Information and Compute FrameWise Displacement\n",
    "This will generate a file per run with the traces of framewise displacepment for that particular run"
   ]
  },
  {
   "cell_type": "code",
   "execution_count": 5,
   "metadata": {},
   "outputs": [
    {
     "name": "stdout",
     "output_type": "stream",
     "text": [
      "++ Final Shape = (719, 5)\n",
      "CPU times: user 9.01 s, sys: 244 ms, total: 9.25 s\n",
      "Wall time: 10.1 s\n"
     ]
    }
   ],
   "source": [
    "%%time\n",
    "# Load Motion Information for all subjects available and create FD data frame for each run\n",
    "mot_df = load_motion_info(sbjs, write_FD=True, fillnan=False, verbose=VERBOSE)"
   ]
  },
  {
   "cell_type": "code",
   "execution_count": 6,
   "metadata": {},
   "outputs": [
    {
     "name": "stdout",
     "output_type": "stream",
     "text": [
      "++ INFO: Shape of mot_df is (719, 5)\n"
     ]
    },
    {
     "data": {
      "text/html": [
       "<div>\n",
       "<style scoped>\n",
       "    .dataframe tbody tr th:only-of-type {\n",
       "        vertical-align: middle;\n",
       "    }\n",
       "\n",
       "    .dataframe tbody tr th {\n",
       "        vertical-align: top;\n",
       "    }\n",
       "\n",
       "    .dataframe thead th {\n",
       "        text-align: right;\n",
       "    }\n",
       "</style>\n",
       "<table border=\"1\" class=\"dataframe\">\n",
       "  <thead>\n",
       "    <tr style=\"text-align: right;\">\n",
       "      <th></th>\n",
       "      <th>Sbj</th>\n",
       "      <th>Run</th>\n",
       "      <th>FD_mean</th>\n",
       "      <th>FD_max</th>\n",
       "      <th>index</th>\n",
       "    </tr>\n",
       "  </thead>\n",
       "  <tbody>\n",
       "    <tr>\n",
       "      <th>0</th>\n",
       "      <td>100610</td>\n",
       "      <td>rfMRI_REST1_PA</td>\n",
       "      <td>0.286758</td>\n",
       "      <td>0.705716</td>\n",
       "      <td>0</td>\n",
       "    </tr>\n",
       "    <tr>\n",
       "      <th>1</th>\n",
       "      <td>100610</td>\n",
       "      <td>rfMRI_REST2_AP</td>\n",
       "      <td>0.310716</td>\n",
       "      <td>1.115807</td>\n",
       "      <td>1</td>\n",
       "    </tr>\n",
       "    <tr>\n",
       "      <th>2</th>\n",
       "      <td>100610</td>\n",
       "      <td>rfMRI_REST3_PA</td>\n",
       "      <td>0.339171</td>\n",
       "      <td>2.259034</td>\n",
       "      <td>2</td>\n",
       "    </tr>\n",
       "    <tr>\n",
       "      <th>3</th>\n",
       "      <td>100610</td>\n",
       "      <td>rfMRI_REST4_AP</td>\n",
       "      <td>0.292620</td>\n",
       "      <td>1.090774</td>\n",
       "      <td>3</td>\n",
       "    </tr>\n",
       "    <tr>\n",
       "      <th>4</th>\n",
       "      <td>102311</td>\n",
       "      <td>rfMRI_REST1_PA</td>\n",
       "      <td>0.101706</td>\n",
       "      <td>0.522274</td>\n",
       "      <td>4</td>\n",
       "    </tr>\n",
       "  </tbody>\n",
       "</table>\n",
       "</div>"
      ],
      "text/plain": [
       "      Sbj             Run   FD_mean    FD_max  index\n",
       "0  100610  rfMRI_REST1_PA  0.286758  0.705716      0\n",
       "1  100610  rfMRI_REST2_AP  0.310716  1.115807      1\n",
       "2  100610  rfMRI_REST3_PA  0.339171  2.259034      2\n",
       "3  100610  rfMRI_REST4_AP  0.292620  1.090774      3\n",
       "4  102311  rfMRI_REST1_PA  0.101706  0.522274      4"
      ]
     },
     "execution_count": 6,
     "metadata": {},
     "output_type": "execute_result"
    }
   ],
   "source": [
    "print('++ INFO: Shape of mot_df is %s' % str(mot_df.shape))\n",
    "mot_df.head()"
   ]
  },
  {
   "cell_type": "markdown",
   "metadata": {},
   "source": [
    "***\n",
    "## 5. Check the Integrity of Eye Tracker Data Files & See if FD is low\n",
    "\n",
    "Unfortunately, not all eye tracking data files can be loaded properly. \n",
    "\n",
    "During this initial QA, we will test whether or not a given ET file (e.g., that of one run) can be properly loaded or not\n",
    "\n",
    "In addition we will also store the previously computed Mean and Max Framewise Displacement"
   ]
  },
  {
   "cell_type": "code",
   "execution_count": 7,
   "metadata": {
    "scrolled": true
   },
   "outputs": [
    {
     "name": "stdout",
     "output_type": "stream",
     "text": [
      "WARNING: Subject 111312 run rfMRI_REST4_AP does not exists\n",
      "WARNING: Subject 181636 run rfMRI_REST3_PA does not exists\n",
      "WARNING: Subject 181636 run rfMRI_REST4_AP does not exists\n"
     ]
    },
    {
     "name": "stderr",
     "output_type": "stream",
     "text": [
      "/data/SFIMJGC_HCP7T/Apps/envs/hcp7t_fv_sleep_env/lib/python3.7/site-packages/ipykernel_launcher.py:25: DtypeWarning: Columns (1,2) have mixed types.Specify dtype option on import or set low_memory=False.\n"
     ]
    },
    {
     "name": "stdout",
     "output_type": "stream",
     "text": [
      "WARNING: Subject 473952 run rfMRI_REST2_AP does not exists\n",
      "WARNING: Subject 473952 run rfMRI_REST3_PA does not exists\n",
      "WARNING: Subject 473952 run rfMRI_REST4_AP does not exists\n",
      "WARNING: Subject 536647 run rfMRI_REST3_PA does not exists\n",
      "WARNING: Subject 536647 run rfMRI_REST4_AP does not exists\n",
      "WARNING: Subject 552241 run rfMRI_REST3_PA does not exists\n",
      "WARNING: Subject 552241 run rfMRI_REST4_AP does not exists\n",
      "WARNING: Subject 585256 run rfMRI_REST3_PA does not exists\n",
      "WARNING: Subject 973770 run rfMRI_REST3_PA does not exists\n",
      "WARNING: Subject 973770 run rfMRI_REST4_AP does not exists\n",
      "CPU times: user 56min 18s, sys: 1min 46s, total: 58min 4s\n",
      "Wall time: 58min 53s\n"
     ]
    }
   ],
   "source": [
    "%%time\n",
    "# Create Eamty DataFrame with the following columns:\n",
    "# * Sbj = Subject ID\n",
    "# * Run = Run ID\n",
    "# * Dir Avail     = Does the directory for this run exists on our system?\n",
    "# * Mot Avail     = Is the motion file for this run available on our system?\n",
    "# * ET Avail      = Are both ET files for this run available on our system?\n",
    "# * ET_OK         = Are we able to load (e.g., file is uncorrupted) the main ET File\n",
    "df = pd.DataFrame(columns=['Sbj','Run','Dir Avail','Mot Avail','ET Avail', 'ET_OK'])\n",
    "\n",
    "# For all subjects\n",
    "for s,sbj in enumerate(sbjs):\n",
    "    # For all possible runs\n",
    "    for run in RUNS:\n",
    "        # Create the path to this run directory (should it exists)\n",
    "        drun_path = osp.join(DATA_DIR,str(sbj),run)\n",
    "        if osp.exists(drun_path):\n",
    "            # Create the path to the motion file (should it exists)\n",
    "            mot_path  = osp.join(drun_path,'{run}_Movement_Regressors.txt'.format(run=run))\n",
    "            # Create the path to the \n",
    "            et_asc_path   = osp.join(drun_path,'{run}_eyetrack.asc'.format(run=run))\n",
    "            et_csv_path   = osp.join(drun_path,'{run}_eyetrack_summary.csv'.format(run=run))\n",
    "            # Try loading the ET file without causing any type of exception\n",
    "            if osp.exists(et_asc_path):\n",
    "                try:\n",
    "                    dfTrial,dfMsg,dfFix,dfSacc,dfBlink,dfSamples = ParseEyeLinkAsc(et_asc_path)\n",
    "                    et_ok = True\n",
    "                except: # If there was any issue (e.g., an exception), then set et_ok to False\n",
    "                    et_ok = False\n",
    "            # Update the dataframe with the information about this run\n",
    "            df        = df.append({'Sbj':sbj,\n",
    "                               'Run':run,\n",
    "                               'Dir Avail':osp.exists(drun_path),\n",
    "                               'Mot Avail':osp.exists(mot_path),\n",
    "                               'ET Avail':osp.exists(et_asc_path ) & osp.exists(et_csv_path),\n",
    "                               'ET_OK': et_ok}, \n",
    "                               ignore_index=True)\n",
    "            if VERBOSE:\n",
    "                print('INFO: Just finsished with subject {sbj} run {run}'.format(sbj=sbj, run=run))\n",
    "        else: \n",
    "            print('WARNING: Subject {sbj} run {run} does not exists'.format(sbj=sbj, run=run))\n",
    "df = df.infer_objects()"
   ]
  },
  {
   "cell_type": "markdown",
   "metadata": {},
   "source": [
    "***\n",
    "## 6. Check the spatial resolution and length of the scans"
   ]
  },
  {
   "cell_type": "code",
   "execution_count": 21,
   "metadata": {},
   "outputs": [],
   "source": [
    "run_list = [str(row['Sbj'])+'_'+row['Run'] for r,row in df.iterrows() ]"
   ]
  },
  {
   "cell_type": "code",
   "execution_count": 49,
   "metadata": {},
   "outputs": [
    {
     "name": "stdout",
     "output_type": "stream",
     "text": [
      "++ INFO: Number of items to iter [719]\n",
      " + 0..50..100..150..200..250..300..350..400..450..500..550..600..650..700..\n",
      "CPU times: user 2.39 s, sys: 1.45 s, total: 3.83 s\n",
      "Wall time: 55.1 s\n"
     ]
    },
    {
     "data": {
      "text/html": [
       "<div>\n",
       "<style scoped>\n",
       "    .dataframe tbody tr th:only-of-type {\n",
       "        vertical-align: middle;\n",
       "    }\n",
       "\n",
       "    .dataframe tbody tr th {\n",
       "        vertical-align: top;\n",
       "    }\n",
       "\n",
       "    .dataframe thead th {\n",
       "        text-align: right;\n",
       "    }\n",
       "</style>\n",
       "<table border=\"1\" class=\"dataframe\">\n",
       "  <thead>\n",
       "    <tr style=\"text-align: right;\">\n",
       "      <th></th>\n",
       "      <th>Sbj</th>\n",
       "      <th>Run</th>\n",
       "      <th>Dir Avail</th>\n",
       "      <th>Mot Avail</th>\n",
       "      <th>ET Avail</th>\n",
       "      <th>ET_OK</th>\n",
       "      <th>Spatial Resolution OK</th>\n",
       "      <th>Nacq OK</th>\n",
       "      <th>TR OK</th>\n",
       "    </tr>\n",
       "  </thead>\n",
       "  <tbody>\n",
       "    <tr>\n",
       "      <th>0</th>\n",
       "      <td>100610</td>\n",
       "      <td>rfMRI_REST1_PA</td>\n",
       "      <td>True</td>\n",
       "      <td>True</td>\n",
       "      <td>True</td>\n",
       "      <td>True</td>\n",
       "      <td>True</td>\n",
       "      <td>True</td>\n",
       "      <td>True</td>\n",
       "    </tr>\n",
       "    <tr>\n",
       "      <th>1</th>\n",
       "      <td>100610</td>\n",
       "      <td>rfMRI_REST2_AP</td>\n",
       "      <td>True</td>\n",
       "      <td>True</td>\n",
       "      <td>True</td>\n",
       "      <td>True</td>\n",
       "      <td>True</td>\n",
       "      <td>True</td>\n",
       "      <td>True</td>\n",
       "    </tr>\n",
       "    <tr>\n",
       "      <th>2</th>\n",
       "      <td>100610</td>\n",
       "      <td>rfMRI_REST3_PA</td>\n",
       "      <td>True</td>\n",
       "      <td>True</td>\n",
       "      <td>True</td>\n",
       "      <td>True</td>\n",
       "      <td>True</td>\n",
       "      <td>True</td>\n",
       "      <td>True</td>\n",
       "    </tr>\n",
       "    <tr>\n",
       "      <th>3</th>\n",
       "      <td>100610</td>\n",
       "      <td>rfMRI_REST4_AP</td>\n",
       "      <td>True</td>\n",
       "      <td>True</td>\n",
       "      <td>True</td>\n",
       "      <td>True</td>\n",
       "      <td>True</td>\n",
       "      <td>True</td>\n",
       "      <td>True</td>\n",
       "    </tr>\n",
       "    <tr>\n",
       "      <th>4</th>\n",
       "      <td>102311</td>\n",
       "      <td>rfMRI_REST1_PA</td>\n",
       "      <td>True</td>\n",
       "      <td>True</td>\n",
       "      <td>False</td>\n",
       "      <td>True</td>\n",
       "      <td>True</td>\n",
       "      <td>True</td>\n",
       "      <td>True</td>\n",
       "    </tr>\n",
       "  </tbody>\n",
       "</table>\n",
       "</div>"
      ],
      "text/plain": [
       "      Sbj             Run  Dir Avail  Mot Avail  ET Avail  ET_OK  \\\n",
       "0  100610  rfMRI_REST1_PA       True       True      True   True   \n",
       "1  100610  rfMRI_REST2_AP       True       True      True   True   \n",
       "2  100610  rfMRI_REST3_PA       True       True      True   True   \n",
       "3  100610  rfMRI_REST4_AP       True       True      True   True   \n",
       "4  102311  rfMRI_REST1_PA       True       True     False   True   \n",
       "\n",
       "  Spatial Resolution OK Nacq OK TR OK  \n",
       "0                  True    True  True  \n",
       "1                  True    True  True  \n",
       "2                  True    True  True  \n",
       "3                  True    True  True  \n",
       "4                  True    True  True  "
      ]
     },
     "execution_count": 49,
     "metadata": {},
     "output_type": "execute_result"
    }
   ],
   "source": [
    "%%time\n",
    "df['Spatial Resolution OK'] = None\n",
    "df['Nacq OK']               = None\n",
    "df['TR OK']                 = None\n",
    "print('++ INFO: Number of items to iter [%d]' % len(run_list))\n",
    "print(' + ',end='')\n",
    "for i,item in enumerate(run_list):\n",
    "    sbj,run   = item.split('_',1)\n",
    "    file_path = osp.join(DATA_DIR,sbj,run,run+'_mPP.nii.gz')\n",
    "    if np.mod(i,50)==0:\n",
    "        print('%i..' % i, end='')\n",
    "    if not osp.exists(file_path):\n",
    "        df.loc[((df['Sbj']==sbj) & (df['Run']==run),'Spatial Resolution OK')] = False\n",
    "        df.loc[((df['Sbj']==sbj) & (df['Run']==run),'Nacq OK')] = False\n",
    "        df.loc[((df['Sbj']==sbj) & (df['Run']==run),'TR OK')] = False\n",
    "    else:\n",
    "        file_img = nib.load(file_path)\n",
    "        [dx, dy, dz, tr] = file_img.header.get_zooms()\n",
    "        \n",
    "        if np.isclose(dx,1.60) & np.isclose(dx,1.60) & np.isclose(dz,1.60):\n",
    "            df.loc[((df['Sbj']==sbj) & (df['Run']==run),'Spatial Resolution OK')] = True\n",
    "        else:\n",
    "            df.loc[((df['Sbj']==sbj) & (df['Run']==run),'Spatial Resolution OK')] = False\n",
    "            \n",
    "        if np.isclose(tr,1.0):\n",
    "            df.loc[((df['Sbj']==sbj) & (df['Run']==run),'TR OK')] = True\n",
    "        else:\n",
    "            df.loc[((df['Sbj']==sbj) & (df['Run']==run),'TR OK')] = False\n",
    "        \n",
    "        if file_img.shape[3] == 900:\n",
    "            df.loc[((df['Sbj']==sbj) & (df['Run']==run),'Nacq OK')] = True\n",
    "        else:\n",
    "            df.loc[((df['Sbj']==sbj) & (df['Run']==run),'Nacq OK')] = False\n",
    "print('')\n",
    "df.head()"
   ]
  },
  {
   "cell_type": "code",
   "execution_count": 45,
   "metadata": {},
   "outputs": [
    {
     "name": "stdout",
     "output_type": "stream",
     "text": [
      "++ INFO: Number of Runs with directory available:            719\n",
      "++ INFO: Number of Runs with ET available:                   570\n",
      "++ INFO: Number of Runs with ET OK:                          717\n",
      "++ INFO: Number of Runs with correct spatial resolution:     719\n",
      "++ INFO: Number of Runs with correct number of acquisitions: 718\n",
      "++ INFO: Number of Runs with expected TR:                    719\n",
      "++ ===============================================================\n",
      "++ INFO: Number of Runs with all controls OK:                568\n"
     ]
    }
   ],
   "source": [
    "print(\"++ INFO: Number of Runs with directory available:            %d\" % df[df['Dir Avail']==True].shape[0])\n",
    "print(\"++ INFO: Number of Runs with ET available:                   %d\" % df[df['ET Avail']==True].shape[0])\n",
    "print(\"++ INFO: Number of Runs with ET OK:                          %d\" % df[df['ET_OK']==True].shape[0])\n",
    "print(\"++ INFO: Number of Runs with correct spatial resolution:     %d\" % df[df['Spatial Resolution OK']==True].shape[0])\n",
    "print(\"++ INFO: Number of Runs with correct number of acquisitions: %d\" % df[df['Nacq OK']==True].shape[0])\n",
    "print(\"++ INFO: Number of Runs with expected TR:                    %d\" % df[df['TR OK']==True].shape[0])\n",
    "print(\"++ ===============================================================\")\n",
    "print(\"++ INFO: Number of Runs with all controls OK:                %d\" % df[(df['Dir Avail']==True) & \n",
    "                                                                             (df['ET Avail']==True) & \n",
    "                                                                             (df['ET_OK']==True) & \n",
    "                                                                             (df['Spatial Resolution OK']==True) &\n",
    "                                                                             (df['Nacq OK']==True) &\n",
    "                                                                             (df['TR OK']==True)].shape[0])"
   ]
  },
  {
   "cell_type": "markdown",
   "metadata": {},
   "source": [
    "***\n",
    "## Save the summary of this first QA part to disk"
   ]
  },
  {
   "cell_type": "code",
   "execution_count": 46,
   "metadata": {},
   "outputs": [],
   "source": [
    "df.to_pickle(QA1_Results_DF_Path)"
   ]
  },
  {
   "cell_type": "code",
   "execution_count": 47,
   "metadata": {},
   "outputs": [
    {
     "name": "stdout",
     "output_type": "stream",
     "text": [
      "++ INFO: Number of runs missing ET files = 149 RUNS\n",
      "++ INFO: Number of runs with ET files available but unreadable = 2 RUNS\n"
     ]
    }
   ],
   "source": [
    "print('++ INFO: Number of runs missing ET files = %d RUNS' % (df[df['ET Avail']==False].shape[0]))\n",
    "print('++ INFO: Number of runs with ET files available but unreadable = %d RUNS' % (df[df['ET_OK']==False].shape[0]))"
   ]
  },
  {
   "cell_type": "markdown",
   "metadata": {},
   "source": [
    "***\n",
    "\n",
    "### Clean up space\n",
    "\n",
    "Scans that will not be used becuase the ET is not available will be removed from disk"
   ]
  },
  {
   "cell_type": "code",
   "execution_count": 26,
   "metadata": {},
   "outputs": [],
   "source": [
    "df = pd.read_pickle(QA1_Results_DF_Path)"
   ]
  },
  {
   "cell_type": "code",
   "execution_count": 31,
   "metadata": {},
   "outputs": [],
   "source": [
    "df = df[df['ET Avail']==False]"
   ]
  },
  {
   "cell_type": "code",
   "execution_count": 46,
   "metadata": {},
   "outputs": [],
   "source": [
    "command_file = open('./N01_QA_RemoveScansWithBadET.sh','w+')\n",
    "for r,row in df.iterrows():\n",
    "    command_file.write('rm -rf /data/SFIMJGC_HCP7T/HCP7T/{sbj}/{run} \\n'.format(sbj=row['Sbj'],run=row['Run']))\n",
    "command_file.close()"
   ]
  }
 ],
 "metadata": {
  "jupytext": {
   "formats": "ipynb,py:light"
  },
  "kernelspec": {
   "display_name": "hcp7t_fv_sleep_env",
   "language": "python",
   "name": "hcp7t_fv_sleep_env"
  },
  "language_info": {
   "codemirror_mode": {
    "name": "ipython",
    "version": 3
   },
   "file_extension": ".py",
   "mimetype": "text/x-python",
   "name": "python",
   "nbconvert_exporter": "python",
   "pygments_lexer": "ipython3",
   "version": "3.7.11"
  }
 },
 "nbformat": 4,
 "nbformat_minor": 4
}
