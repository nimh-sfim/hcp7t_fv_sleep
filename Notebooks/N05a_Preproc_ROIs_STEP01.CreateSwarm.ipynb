{
 "cells": [
  {
   "cell_type": "markdown",
   "metadata": {},
   "source": [
    "# Description \n",
    "\n",
    "This notebook does the following operations\n",
    "\n",
    "1. Generates a group directory ```ALL``` in the data directory ```DATA_DIR```\n",
    "\n",
    "2. Creates a file named ```mPP_Grid.nii.gz``` in ```DATA_DIR/ALL``` that will serve as the reference grid for spatial normalixation steps (e.g., bring anaotmical masks to minimally pre-processed (mPP) fMRI space.\n",
    "\n",
    "3. Add Label Table to Schaefer Atlas (this is helpful when looking at the data in AFNI).\n",
    "\n",
    "4. Creates a Swarm File so that bash script ```N04_Preprocess_masks_and_ROIs.sh``` can be run in parallel in all subjects, and perform the following operations:\n",
    "\n",
    "    a. Sets AFNI space field equal to MNI in the brainmask, GM ribbon, and parcellation downloaded from ConnectomeDB. Those are set to ORIG, despite the data being in MNI space.\n",
    "\n",
    "    b. Create the following masks by combining different parcellation results:\n",
    "\n",
    "In MNI Space with anatomical grid:\n",
    "\n",
    " * ```ROI.FB.nii.gz```: Subject-specific Full brain mask (copy of brainmask_fs.nii.gz)\n",
    " * ```ROI.GM.nii.gz```: Subject-specific GM Cortical ribbon (GM_Ribbon.nii.gz as downloaded from ConnectomeDB also contains masks for WM)\n",
    " * ```ROI.V4.nii.gz```: Subject-specific Forth Ventricle mask\n",
    " * ```ROI.Vl.nii.gz```: Subject-specific Lateral Ventricles mask\n",
    " * ```ROI.WM.nii.gz```: Subject-specific WM mask\n",
    "    \n",
    "In MNI Space with fMRI grid:\n",
    "\n",
    " * ```ROI.automask.nii.gz```: Subject-specific Full brain mask that only includes voxels with data on all rest runs. This is used to constrain all other masks.\n",
    " * ```ROI.FB.mPP.nii.gz```: Subject-specific Full brain mask (copy of brainmask_fs.nii.gz)\n",
    " * ```ROI.GM.mPP.nii.gz```: Subject-specific GM Cortical ribbon (GM_Ribbon.nii.gz as downloaded from ConnectomeDB also contains masks for WM)\n",
    " * ```ROI.V4.mPP.nii.gz```: Subject-specific Forth Ventricle mask\n",
    " * ```ROI.Vl.mPP.nii.gz```: Subject-specific Lateral Ventricles mask\n",
    " * ```ROI.WM.mPP.nii.gz```: Subject-specific WM mask\n",
    "  \n",
    "In MNI Space with fMRI grid after erosion (1 voxel in Anat grid):\n",
    "\n",
    " * ```ROI.FB_e.mPP.nii.gz```: Subject-specific Full brain mask (copy of brainmask_fs.nii.gz)\n",
    " * ```ROI.GM_e.mPP.nii.gz```: Subject-specific GM Cortical ribbon (GM_Ribbon.nii.gz as downloaded from ConnectomeDB also contains masks for WM)\n",
    " * ```ROI.V4_e.mPP.nii.gz```: Subject-specific Forth Ventricle mask\n",
    " * ```ROI.Vl_e.mPP.nii.gz```: Subject-specific Lateral Ventricles mask * ```ROI.WM_e.mPP.nii.gz```: Subject-specific WM mask\n",
    "\n",
    "***\n",
    "> **IMPORTANT NOTE:** Parts of this study were conducted using the NIH's High Performance Computing system (https://hpc.nih.gov). The code in this notebook generates a swarm file that permits parallel pre-processing of all runs using that particular system. This code may need to be modified for your particular computational environment.\n",
    "\n",
    "> **IMPORTANT NOTE 2:** Similarly, this notebook assumes that AFNI (https://afni.nimh.nih.gov/) is avialable and in your PATH.\n",
    "\n",
    "***"
   ]
  },
  {
   "cell_type": "code",
   "execution_count": 1,
   "metadata": {},
   "outputs": [],
   "source": [
    "import os\n",
    "import os.path as osp\n",
    "import numpy as np\n",
    "import pandas as pd\n",
    "import subprocess\n",
    "from utils.variables import DATA_DIR, ATLAS_DIR, ATLAS_NAME\n",
    "from utils.basics import get_7t_subjects"
   ]
  },
  {
   "cell_type": "markdown",
   "metadata": {},
   "source": [
    "***\n",
    "# 1. Create Group Results Folder"
   ]
  },
  {
   "cell_type": "code",
   "execution_count": 2,
   "metadata": {},
   "outputs": [
    {
     "name": "stdout",
     "output_type": "stream",
     "text": [
      "++ WARNING: Group Folder [/data/SFIMJGC_HCP7T/HCP7T/ALL] already exists. You may want to check its content to avoid overwriting pre-existing files\n"
     ]
    }
   ],
   "source": [
    "group_folder_path = osp.join(DATA_DIR,'ALL')\n",
    "if not osp.exists(group_folder_path):\n",
    "    os.mkdir(group_folder_path)\n",
    "    print(\"++ INFO: Group Folder [%s] created\" % group_folder_path)\n",
    "else:\n",
    "    print(\"++ WARNING: Group Folder [%s] already exists. You may want to check its content to avoid overwriting pre-existing files\" % group_folder_path)"
   ]
  },
  {
   "cell_type": "markdown",
   "metadata": {},
   "source": [
    "***\n",
    "# 2. Create Reference Grid File\n",
    "\n",
    "All minimally-preprocessed resting-state scans are already in the same space and grid. Therefore, any run from any subject can serve to create a file to be used as a reference (or master) grid in spatial normalization operations. ?Here we decided to use the first run from subject 100610."
   ]
  },
  {
   "cell_type": "code",
   "execution_count": 3,
   "metadata": {},
   "outputs": [
    {
     "name": "stdout",
     "output_type": "stream",
     "text": [
      "[+] Loading AFNI current-openmp  ... \n",
      "AFNI/current-openmp last updated  2021-08-24\n",
      "\n",
      "++ 3dcalc: AFNI version=AFNI_21.2.05 (Aug 22 2021) [64-bit]\n",
      "++ Authored by: A cast of thousands\n",
      "++ Output dataset /data/SFIMJGC_HCP7T/HCP7T/ALL/mPP_Grid.nii.gz\n"
     ]
    }
   ],
   "source": [
    "command = 'module load afni; \\\n",
    "           3dcalc -overwrite -a {data_dir}/100610/rfMRI_REST1_PA/rfMRI_REST1_PA_mPP.nii.gz[0] -expr \"a\" -prefix {data_dir}/ALL/mPP_Grid.nii.gz'.format(data_dir=DATA_DIR)\n",
    "output  = subprocess.check_output(command, shell=True, stderr=subprocess.STDOUT)\n",
    "print(output.strip().decode())"
   ]
  },
  {
   "cell_type": "markdown",
   "metadata": {},
   "source": [
    "***\n",
    "# 3. Add Table Label to Schaefer Atlas File"
   ]
  },
  {
   "cell_type": "code",
   "execution_count": 4,
   "metadata": {},
   "outputs": [
    {
     "name": "stdout",
     "output_type": "stream",
     "text": [
      "[+] Loading AFNI current-openmp  ... \n",
      "AFNI/current-openmp last updated  2021-08-24\n",
      "\n",
      "++ 3drefit: AFNI version=AFNI_21.2.05 (Aug 22 2021) [64-bit]\n",
      "++ Authored by: RW Cox\n",
      "++ Processing AFNI dataset Schaefer2018_200Parcels_7Networks_order_FSLMNI152_2mm.nii.gz\n",
      " + setting labeltable\n",
      " + loading and re-writing dataset Schaefer2018_200Parcels_7Networks_order_FSLMNI152_2mm.nii.gz (/gpfs/gsfs9/users/SFIMJGC_HCP7T/HCP7T/Atlases/Schaefer2018_200Parcels_7Networks/Schaefer2018_200Parcels_7Networks_order_FSLMNI152_2mm.nii.gz in NIFTI storage)\n",
      "++ 3drefit processed 1 datasets\n"
     ]
    }
   ],
   "source": [
    "command = 'module load afni; \\\n",
    "           cd {atlas_dir}; \\\n",
    "           3drefit -space MNI {atlas}_order_FSLMNI152_2mm.nii.gz; \\\n",
    "           @MakeLabelTable -lab_file {atlas}_order.txt 1 0 -labeltable {atlas}_order.niml.lt -dset {atlas}_order_FSLMNI152_2mm.nii.gz;'.format(atlas_dir=ATLAS_DIR, atlas=ATLAS_NAME) \n",
    "output  = subprocess.check_output(command, shell=True, stderr=subprocess.STDOUT)\n",
    "print(output.strip().decode())"
   ]
  },
  {
   "cell_type": "markdown",
   "metadata": {},
   "source": [
    "***\n",
    "# 4. Create Swarm File"
   ]
  },
  {
   "cell_type": "code",
   "execution_count": 5,
   "metadata": {},
   "outputs": [
    {
     "name": "stdout",
     "output_type": "stream",
     "text": [
      "++ INFO: Number of Subjects: 183\n"
     ]
    }
   ],
   "source": [
    "# Load list of available subjects\n",
    "# ===============================\n",
    "Sbjs = get_7t_subjects() \n",
    "print('++ INFO: Number of Subjects: %d' % len(Sbjs))"
   ]
  },
  {
   "cell_type": "code",
   "execution_count": 6,
   "metadata": {},
   "outputs": [],
   "source": [
    "# Create log dir for swarm jobs to write their output and error messages\n",
    "# ======================================================================\n",
    "if not osp.exists('./N05a_Preproc_ROIs_STEP01.logs'):\n",
    "    print('++ INFO: Creating logging dir: N05a_Preproc_ROIs_STEP01.logs')\n",
    "    os.mkdir('./N05a_Preproc_ROIs_STEP01.logs')"
   ]
  },
  {
   "cell_type": "code",
   "execution_count": 7,
   "metadata": {},
   "outputs": [],
   "source": [
    "# Create Swarm file for extracting representative power\n",
    "# ======================================================\n",
    "os.system('echo \"#swarm -f ./N05a_Preproc_ROIs_STEP01.SWARM.sh -g 16 -t 16 --partition quick,norm --module afni --logdir ./N05a_Preproc_ROIs_STEP01.logs\" > ./N05a_Preproc_ROIs_STEP01.SWARM.sh')\n",
    "for sbj in Sbjs:\n",
    "    os.system('echo \"export SBJ={sbj}; ./N05a_Preproc_ROIs_STEP01.sh\" >> ./N05a_Preproc_ROIs_STEP01.SWARM.sh'.format(sbj=sbj))"
   ]
  },
  {
   "cell_type": "markdown",
   "metadata": {},
   "source": [
    "***\n",
    "# 5. Submit jobs to the cluster\n",
    "\n",
    "```bash\n",
    "swarm -f ./N05a_Preproc_ROIs_STEP01.SWARM.sh -g 16 -t 16 --partition quick,norm --module afni --logdir ./N05a_Preproc_ROIs_STEP01.logs\n",
    "```\n",
    "\n",
    "You can check the status of your jobs with\n",
    "\n",
    "```bash\n",
    "squeue -u <your_user_name>\n",
    "```\n",
    "\n",
    "***\n",
    "# 6. Check for missing outputs\n",
    "\n",
    "Once all your batch jobs have completed, you can run the following code to check that all outputs were created as expected"
   ]
  },
  {
   "cell_type": "code",
   "execution_count": 10,
   "metadata": {},
   "outputs": [
    {
     "name": "stdout",
     "output_type": "stream",
     "text": [
      "CPU times: user 11.9 ms, sys: 14.4 ms, total: 26.4 ms\n",
      "Wall time: 25.8 ms\n"
     ]
    }
   ],
   "source": [
    "%%time\n",
    "for sbj in Sbjs:\n",
    "    for file in ['ROI.automask.nii.gz','ROI.FB.nii.gz',       'ROI.GM.nii.gz',       'ROI.V4.nii.gz',       'ROI.Vl.nii.gz',       'ROI.WM.nii.gz', \n",
    "                 'ROI.FB.mPP.nii.gz',   'ROI.GM.mPP.nii.gz',   'ROI.V4.mPP.nii.gz',   'ROI.Vl.mPP.nii.gz',   'ROI.WM.mPP.nii.gz',\n",
    "                 'ROI.FB_e.mPP.nii.gz', 'ROI.GM_e.mPP.nii.gz', 'ROI.V4_e.mPP.nii.gz', 'ROI.Vl_e.mPP.nii.gz', 'ROI.WM_e.mPP.nii.gz']:\n",
    "        aux_path = osp.join(DATA_DIR,sbj,file)\n",
    "        if not osp.exists(aux_path):\n",
    "            print ('++ WARNING: Output missing [%s]' % aux_path)"
   ]
  },
  {
   "cell_type": "code",
   "execution_count": null,
   "metadata": {},
   "outputs": [],
   "source": []
  }
 ],
 "metadata": {
  "jupytext": {
   "formats": "ipynb,py:light"
  },
  "kernelspec": {
   "display_name": "hcp7t_fv_sleep_env",
   "language": "python",
   "name": "hcp7t_fv_sleep_env"
  },
  "language_info": {
   "codemirror_mode": {
    "name": "ipython",
    "version": 3
   },
   "file_extension": ".py",
   "mimetype": "text/x-python",
   "name": "python",
   "nbconvert_exporter": "python",
   "pygments_lexer": "ipython3",
   "version": "3.7.11"
  }
 },
 "nbformat": 4,
 "nbformat_minor": 4
}
