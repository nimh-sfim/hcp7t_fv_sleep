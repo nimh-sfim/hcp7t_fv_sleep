{
 "cells": [
  {
   "cell_type": "markdown",
   "metadata": {},
   "source": [
    "# Description - Spectrogram Analysis (Evolution of Spectral Power over time)\n",
    "\n",
    "This notebook generates swarm files to compute spectrograms for all scans. The primary outputs for each scan are:\n",
    "\n",
    "* ```${DATA_DIR}/${SBJ}/${RUN}/${RUN}_mPP.Signal.V4_grp.Spectrogram.pkl```: Spectrogram for a given scan\n",
    "* ```${DATA_DIR}/${SBJ}/${RUN}/${RUN}_mPP.Signal.V4_grp.Spectrogram_BandLimited.pkl```: Timeseries of average power in the Sleep band for a given scan"
   ]
  },
  {
   "cell_type": "code",
   "execution_count": 2,
   "metadata": {},
   "outputs": [],
   "source": [
    "import os\n",
    "import os.path as osp\n",
    "import numpy as np\n",
    "import pandas as pd\n",
    "from utils.variables import Resources_Dir, DATA_DIR\n",
    "from utils.basics import get_available_runs"
   ]
  },
  {
   "cell_type": "markdown",
   "metadata": {},
   "source": [
    "## Get list of Scans included in the manuscript"
   ]
  },
  {
   "cell_type": "code",
   "execution_count": 3,
   "metadata": {},
   "outputs": [
    {
     "name": "stdout",
     "output_type": "stream",
     "text": [
      "++ INFO: Number of Runs = 404\n"
     ]
    }
   ],
   "source": [
    "Manuscript_Runs = get_available_runs(when='final', type='all')\n",
    "print('++ INFO: Number of Runs = %d' % len(Manuscript_Runs))"
   ]
  },
  {
   "cell_type": "markdown",
   "metadata": {},
   "source": [
    "## Create Logging folder for Swarm jobs"
   ]
  },
  {
   "cell_type": "code",
   "execution_count": 4,
   "metadata": {},
   "outputs": [
    {
     "name": "stdout",
     "output_type": "stream",
     "text": [
      "++ INFO: Creating logging dir\n"
     ]
    }
   ],
   "source": [
    "if not osp.exists('./N10_mPP_Spectrogram.logs'):\n",
    "    print('++ INFO: Creating logging dir')\n",
    "    os.mkdir('./N10_mPP_Spectrogram.logs')"
   ]
  },
  {
   "cell_type": "markdown",
   "metadata": {},
   "source": [
    "## Create Swarm File"
   ]
  },
  {
   "cell_type": "code",
   "execution_count": 5,
   "metadata": {},
   "outputs": [],
   "source": [
    "# Create Swarm file for extracting representative power\n",
    "# ==========================================================\n",
    "os.system('echo \"#swarm -f ./N10_mPP_Spectrogram.SWARM.sh -g 16 -t 16 --partition quick,norm --time 00:20:00 --logdir ./N10_mPP_Spectrogram.logs\" > ./N10_mPP_Spectrogram.SWARM.sh')\n",
    "for sbj_run in Manuscript_Runs:\n",
    "    sbj,run  = sbj_run.split('_',1)\n",
    "    out_dir  = osp.join(DATA_DIR,sbj,run)\n",
    "    for region in ['V4_grp']:\n",
    "        os.system('echo \"export SBJ={sbj} REGION={reg} RUN={run} DATADIR={ddir}; sh ./N10_mPP_Spectrogram.sh\" >> ./N10_mPP_Spectrogram.SWARM.sh'.format(sbj=sbj, run=run, reg=region, ddir=DATA_DIR))"
   ]
  },
  {
   "cell_type": "markdown",
   "metadata": {},
   "source": [
    "## Submit jobs to the cluster\n",
    "\n",
    "Open a terminal in biowulf and run the following commands:\n",
    "\n",
    "```bash\n",
    "cd /data/SFIMJGC_HCP7T/hcp7t_fv_sleep/Notebooks\n",
    "rm /N10_mPP_Spectrogram.logs/*\n",
    "swarm -f ./N10_mPP_Spectrogram.SWARM.sh -g 16 -t 16 --partition quick,norm --time 00:20:00 --logdir ./N10_mPP_Spectrogram.logs\n",
    "watch -n 30 squeue -u javiergc\n",
    "```"
   ]
  },
  {
   "cell_type": "markdown",
   "metadata": {},
   "source": [
    "***\n",
    "\n",
    "### Test all outputs have been generated"
   ]
  },
  {
   "cell_type": "code",
   "execution_count": 6,
   "metadata": {},
   "outputs": [
    {
     "name": "stdout",
     "output_type": "stream",
     "text": [
      "++ INFO: Number of available files = 808\n"
     ]
    }
   ],
   "source": [
    "num_files=0\n",
    "suffix='mPP'\n",
    "region='V4_grp'\n",
    "for sbj_run in Manuscript_Runs:\n",
    "    sbj,run  = sbj_run.split('_',1)\n",
    "    out_file01 = osp.join(DATA_DIR,sbj,run,'{run}_{suffix}.Signal.{region}.Spectrogram.pkl'.format(run=run, region=region, suffix=suffix))\n",
    "    out_file02 = osp.join(DATA_DIR,sbj,run,'{run}_{suffix}.Signal.{region}.Spectrogram_BandLimited.pkl'.format(run=run, region=region, suffix=suffix))\n",
    "    for out_file in [out_file01, out_file02]:\n",
    "        if not osp.exists(out_file):\n",
    "            print('++ WARNING: File missing [%s]' % out_file)\n",
    "        else:\n",
    "            num_files +=1\n",
    "print('++ INFO: Number of available files = %d' % num_files)"
   ]
  }
 ],
 "metadata": {
  "jupytext": {
   "formats": "ipynb,py:light"
  },
  "kernelspec": {
   "display_name": "Vigilance Project",
   "language": "python",
   "name": "vigilance"
  },
  "language_info": {
   "codemirror_mode": {
    "name": "ipython",
    "version": 3
   },
   "file_extension": ".py",
   "mimetype": "text/x-python",
   "name": "python",
   "nbconvert_exporter": "python",
   "pygments_lexer": "ipython3",
   "version": "3.8.5"
  }
 },
 "nbformat": 4,
 "nbformat_minor": 4
}
