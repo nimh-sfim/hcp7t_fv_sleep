{
 "cells": [
  {
   "cell_type": "markdown",
   "metadata": {},
   "source": [
    "Forth Ventricle Signal (NeuroImage 2021) - Data Download from XNAT\n",
    "==================================================================\n",
    "\n",
    "This notebook downloads the 7T resting state sample form the Human Connectome Project dataset using the pyxnat library.\n",
    "\n",
    "Prior to using this notebook, you need to manually download the Behavioral Info file for the 7T dataset directly from the ConnectomeDB website.\n",
    "\n",
    "The notebook expects the downloaded file to be located at: <PRJ_DIR>/Resources/7T_SubjectList.csv. \n",
    "\n",
    "Project Setup\n",
    "---------------\n",
    "\n",
    "Prior to running any script, it is recommended that you correctly setup the following variables to match you environment:\n",
    "\n",
    "* **SCRIPTS_DIR**: It should point to the folder containing all the scripts for this project (e.g., '/data/SFIMJGC_HCP7T/hcp7t_fv_sleep')\n",
    "* **DATA_DIR**: It should point to the folder where the HCP data will be downloaded (e.g., '/data/SFIMJGC_HCP7T/HCP7T')\n",
    "\n",
    "What does this notebook do\n",
    "----------------------------\n",
    "\n",
    "* Creates one folder per subject inside DATA_DIR (184 folders)\n",
    "* Attempts to **download the T1 map (T1w_restore_brain.nii.gz)** in MNI space for each individual subject and place it in DATA_DIR/SBJ_DIR\n",
    "* Attempts to **download the T2 map (T2w_restore_brain.nii.gz)** in MNI space for each individual subject and place it in DATA_DIR/SBJ_DIR\n",
    "* Attempts to **downlaod the full brain mask (brainmask_fs.nii.gz)** in MNI space at the resolution of the T1 and place it in DATA_DIR/SBJ_DIR\n",
    "* Attempts to **download the GM ribbon mask (GM_Ribbon.nii.gz)** in MNI space at the resolution of the T1 and place it in DATA_DIR/SBJ_DIR\n",
    "* Attempts to **download the Freesurfer parcellation (aparc.a2009s+aseg.nii.gz)** in MNI space at the resolution of the T1 and place in DATA_DIR/SBJ_DIR\n",
    "* Gather information regarding what rest runs are available for each subject. If one is available, a corresponding run folder is created in DATA_DIR/SBJ_DIR\n",
    "\n",
    "In addition, for each existing resting-state run the following extra files are downloaded and placed in the appropriate run folder (e.g., rfMRI_REST1_PA):\n",
    "\n",
    "* Attempts to **download the minimally pre-processed data** for this run (e.g., rfMRI_REST1_PA_mPP.nii.gz).\n",
    "* Attempts to **download the EPI reference scan** for this run (e.g., rfMRI_REST1_PA_SBRef.nii.gz).\n",
    "* Attempts to **download the motion parameters** for this run (e.g., rfMRI_REST1_PA_Movement_Regressors.txt).\n",
    "* Attempts to **download the first derivative of the motion parameters** for this run (e.g., rfMRI_REST1_PA_Movement_Regressors_dt.txt).\n",
    "* Attempts to **download both eye tracking files** for this run (e.g., rfMRI_REST1_PA_eyetrack.asc,  rfMRI_REST1_PA_eyetrack_summary.csv).\n",
    "\n",
    "Finally, the notebook creates an additional pkl file with a dataframe listing the final location of all the files that were downloaded from XNAT. When a file was missing from\n",
    "the database (e.g., an eye tracker file not present in ConnectomeDB) the corresponding cell contains a NaN. The path to this pickle file is given by **ProjectFiles_DF_Path**, which can be found in utils/variables.py\n",
    "\n",
    "\n",
    "> **Importnat Results:** There are 184 subjects in this dataset. Although target was to acquire 4 resting runs per subject, this was not always achieved. Similarly, although the original target was to have concurrent ET in all runs, that was also not achieved.\n",
    "\n",
    "> **NOTE**: This notebook must be run with the Non Brain Signals (pyxnat) environment. This is the only environment that contains a working version of pyxnat. Becuase that is uncomatible with the latest versions of many of the other libraries used in this study, we have this separate environment just for this download notebook\n",
    "\n",
    "> **NOTE**: One subject is completely missing from the final dataset becuase we later realized that the parcellation for such subject had failed. The problematic subject is: 178647\n",
    "\n",
    "* Original Target:                     184 * 4 = 736 rest scans\n",
    "* Existing Rest Scans:                 723 \n",
    "* Scans after removing subject 178647: 719\n",
    "\n",
    "***"
   ]
  },
  {
   "cell_type": "code",
   "execution_count": 2,
   "metadata": {},
   "outputs": [],
   "source": [
    "import pyxnat\n",
    "import pandas as pd\n",
    "import numpy  as np\n",
    "import os.path as osp\n",
    "import glob\n",
    "import os\n",
    "import shutil\n",
    "import fnmatch\n",
    "from utils.variables import DATA_DIR, SCRIPTS_DIR, SbjList_Orig_Path, ProjectFiles_DF_Path, Avail_fMRI_Runs_Info_DF_Path\n",
    "from utils.variables import XNAT_USER, XNAT_PASSWORD"
   ]
  },
  {
   "cell_type": "code",
   "execution_count": 3,
   "metadata": {},
   "outputs": [],
   "source": [
    "cbd = pyxnat.Interface('https://db.humanconnectome.org',XNAT_USER,XNAT_PASSWORD)\n",
    "XNAT_PROJECT = 'HCP_1200'"
   ]
  },
  {
   "cell_type": "markdown",
   "metadata": {},
   "source": [
    "## 1. Get the list of subjects with at least one rest run on the 7T\n",
    "\n",
    "I downloaded the CSV file from the connectomeDB website. This one contains one entry per subject with a lot of different variables. One such variable is the number of resting-state scans conducted at 7T. We use that variable to select subjects with at least one 7T resting-state scan."
   ]
  },
  {
   "cell_type": "code",
   "execution_count": 4,
   "metadata": {},
   "outputs": [
    {
     "name": "stdout",
     "output_type": "stream",
     "text": [
      "++ INFO: Gatheting subject list from: /data/SFIMJGC_HCP7T/hcp7t_fv_sleep/Resources/7T_SubjectList.csv\n"
     ]
    },
    {
     "data": {
      "text/html": [
       "<div>\n",
       "<style scoped>\n",
       "    .dataframe tbody tr th:only-of-type {\n",
       "        vertical-align: middle;\n",
       "    }\n",
       "\n",
       "    .dataframe tbody tr th {\n",
       "        vertical-align: top;\n",
       "    }\n",
       "\n",
       "    .dataframe thead th {\n",
       "        text-align: right;\n",
       "    }\n",
       "</style>\n",
       "<table border=\"1\" class=\"dataframe\">\n",
       "  <thead>\n",
       "    <tr style=\"text-align: right;\">\n",
       "      <th></th>\n",
       "      <th>Subject</th>\n",
       "      <th>Release</th>\n",
       "      <th>Acquisition</th>\n",
       "      <th>Gender</th>\n",
       "      <th>Age</th>\n",
       "      <th>3T_Full_MR_Compl</th>\n",
       "      <th>T1_Count</th>\n",
       "      <th>T2_Count</th>\n",
       "      <th>3T_RS-fMRI_Count</th>\n",
       "      <th>3T_RS-fMRI_PctCompl</th>\n",
       "      <th>...</th>\n",
       "      <th>Noise_Comp</th>\n",
       "      <th>Odor_Unadj</th>\n",
       "      <th>Odor_AgeAdj</th>\n",
       "      <th>PainIntens_RawScore</th>\n",
       "      <th>PainInterf_Tscore</th>\n",
       "      <th>Taste_Unadj</th>\n",
       "      <th>Taste_AgeAdj</th>\n",
       "      <th>Mars_Log_Score</th>\n",
       "      <th>Mars_Errs</th>\n",
       "      <th>Mars_Final</th>\n",
       "    </tr>\n",
       "  </thead>\n",
       "  <tbody>\n",
       "    <tr>\n",
       "      <th>0</th>\n",
       "      <td>100610</td>\n",
       "      <td>S900</td>\n",
       "      <td>Q08</td>\n",
       "      <td>M</td>\n",
       "      <td>26-30</td>\n",
       "      <td>True</td>\n",
       "      <td>2</td>\n",
       "      <td>1</td>\n",
       "      <td>4</td>\n",
       "      <td>100.0</td>\n",
       "      <td>...</td>\n",
       "      <td>2.0</td>\n",
       "      <td>122.25</td>\n",
       "      <td>110.45</td>\n",
       "      <td>0</td>\n",
       "      <td>38.6</td>\n",
       "      <td>84.84</td>\n",
       "      <td>85.31</td>\n",
       "      <td>1.92</td>\n",
       "      <td>1</td>\n",
       "      <td>1.88</td>\n",
       "    </tr>\n",
       "    <tr>\n",
       "      <th>1</th>\n",
       "      <td>102311</td>\n",
       "      <td>S500</td>\n",
       "      <td>Q06</td>\n",
       "      <td>F</td>\n",
       "      <td>26-30</td>\n",
       "      <td>True</td>\n",
       "      <td>1</td>\n",
       "      <td>1</td>\n",
       "      <td>4</td>\n",
       "      <td>100.0</td>\n",
       "      <td>...</td>\n",
       "      <td>4.4</td>\n",
       "      <td>122.25</td>\n",
       "      <td>110.45</td>\n",
       "      <td>1</td>\n",
       "      <td>52.2</td>\n",
       "      <td>98.31</td>\n",
       "      <td>99.06</td>\n",
       "      <td>1.80</td>\n",
       "      <td>0</td>\n",
       "      <td>1.80</td>\n",
       "    </tr>\n",
       "    <tr>\n",
       "      <th>2</th>\n",
       "      <td>102816</td>\n",
       "      <td>Q3</td>\n",
       "      <td>Q03</td>\n",
       "      <td>F</td>\n",
       "      <td>26-30</td>\n",
       "      <td>True</td>\n",
       "      <td>1</td>\n",
       "      <td>1</td>\n",
       "      <td>4</td>\n",
       "      <td>100.0</td>\n",
       "      <td>...</td>\n",
       "      <td>5.2</td>\n",
       "      <td>122.25</td>\n",
       "      <td>111.41</td>\n",
       "      <td>1</td>\n",
       "      <td>52.6</td>\n",
       "      <td>98.31</td>\n",
       "      <td>97.68</td>\n",
       "      <td>1.72</td>\n",
       "      <td>1</td>\n",
       "      <td>1.68</td>\n",
       "    </tr>\n",
       "    <tr>\n",
       "      <th>3</th>\n",
       "      <td>104416</td>\n",
       "      <td>S900</td>\n",
       "      <td>Q09</td>\n",
       "      <td>F</td>\n",
       "      <td>31-35</td>\n",
       "      <td>True</td>\n",
       "      <td>2</td>\n",
       "      <td>2</td>\n",
       "      <td>4</td>\n",
       "      <td>100.0</td>\n",
       "      <td>...</td>\n",
       "      <td>2.8</td>\n",
       "      <td>101.12</td>\n",
       "      <td>87.11</td>\n",
       "      <td>0</td>\n",
       "      <td>38.6</td>\n",
       "      <td>95.36</td>\n",
       "      <td>93.48</td>\n",
       "      <td>1.92</td>\n",
       "      <td>1</td>\n",
       "      <td>1.88</td>\n",
       "    </tr>\n",
       "    <tr>\n",
       "      <th>4</th>\n",
       "      <td>105923</td>\n",
       "      <td>MEG2</td>\n",
       "      <td>Q07</td>\n",
       "      <td>F</td>\n",
       "      <td>31-35</td>\n",
       "      <td>True</td>\n",
       "      <td>2</td>\n",
       "      <td>2</td>\n",
       "      <td>4</td>\n",
       "      <td>100.0</td>\n",
       "      <td>...</td>\n",
       "      <td>5.2</td>\n",
       "      <td>122.25</td>\n",
       "      <td>111.41</td>\n",
       "      <td>0</td>\n",
       "      <td>38.6</td>\n",
       "      <td>97.26</td>\n",
       "      <td>96.41</td>\n",
       "      <td>1.88</td>\n",
       "      <td>1</td>\n",
       "      <td>1.84</td>\n",
       "    </tr>\n",
       "  </tbody>\n",
       "</table>\n",
       "<p>5 rows × 383 columns</p>\n",
       "</div>"
      ],
      "text/plain": [
       "   Subject Release Acquisition Gender    Age  3T_Full_MR_Compl  T1_Count  \\\n",
       "0   100610    S900         Q08      M  26-30              True         2   \n",
       "1   102311    S500         Q06      F  26-30              True         1   \n",
       "2   102816      Q3         Q03      F  26-30              True         1   \n",
       "3   104416    S900         Q09      F  31-35              True         2   \n",
       "4   105923    MEG2         Q07      F  31-35              True         2   \n",
       "\n",
       "   T2_Count  3T_RS-fMRI_Count  3T_RS-fMRI_PctCompl  ...  Noise_Comp  \\\n",
       "0         1                 4                100.0  ...         2.0   \n",
       "1         1                 4                100.0  ...         4.4   \n",
       "2         1                 4                100.0  ...         5.2   \n",
       "3         2                 4                100.0  ...         2.8   \n",
       "4         2                 4                100.0  ...         5.2   \n",
       "\n",
       "   Odor_Unadj  Odor_AgeAdj  PainIntens_RawScore  PainInterf_Tscore  \\\n",
       "0      122.25       110.45                    0               38.6   \n",
       "1      122.25       110.45                    1               52.2   \n",
       "2      122.25       111.41                    1               52.6   \n",
       "3      101.12        87.11                    0               38.6   \n",
       "4      122.25       111.41                    0               38.6   \n",
       "\n",
       "   Taste_Unadj  Taste_AgeAdj  Mars_Log_Score  Mars_Errs  Mars_Final  \n",
       "0        84.84         85.31            1.92          1        1.88  \n",
       "1        98.31         99.06            1.80          0        1.80  \n",
       "2        98.31         97.68            1.72          1        1.68  \n",
       "3        95.36         93.48            1.92          1        1.88  \n",
       "4        97.26         96.41            1.88          1        1.84  \n",
       "\n",
       "[5 rows x 383 columns]"
      ]
     },
     "execution_count": 4,
     "metadata": {},
     "output_type": "execute_result"
    }
   ],
   "source": [
    "print('++ INFO: Gatheting subject list from: %s' % SbjList_Orig_Path)\n",
    "SbjInfo = pd.read_csv(SbjList_Orig_Path)\n",
    "SbjInfo.head()"
   ]
  },
  {
   "cell_type": "code",
   "execution_count": 5,
   "metadata": {},
   "outputs": [
    {
     "name": "stdout",
     "output_type": "stream",
     "text": [
      "++ Number of Subjects with 7T resting-state scans is: 184\n",
      "++ Number of 7T resting-state scans is: 723\n"
     ]
    }
   ],
   "source": [
    "SbjList_7T = list(SbjInfo[SbjInfo['7T_RS-fMRI_Count']>0]['Subject'].values.astype(str))\n",
    "print('++ Number of Subjects with 7T resting-state scans is: %d' % len(SbjList_7T))\n",
    "print('++ Number of 7T resting-state scans is: %d' % SbjInfo['7T_RS-fMRI_Count'].sum())"
   ]
  },
  {
   "cell_type": "markdown",
   "metadata": {},
   "source": [
    "***\n",
    "## 2. Create subject directories in DATA_DIR folder"
   ]
  },
  {
   "cell_type": "code",
   "execution_count": 6,
   "metadata": {
    "scrolled": true
   },
   "outputs": [],
   "source": [
    "for sbj in SbjList_7T:\n",
    "    aux_path = osp.join(DATA_DIR,sbj)\n",
    "    if not osp.exists(aux_path):\n",
    "        os.mkdir(aux_path)\n",
    "    else:\n",
    "        print('++WARNING: Directory already existed. Not created [%s]' %sbj)"
   ]
  },
  {
   "cell_type": "markdown",
   "metadata": {},
   "source": [
    "***\n",
    "## 3. Download the MNI T1w, T2w, brainmask, fs_parcellation and GM ribbon mask to the subject directory\n",
    "\n",
    "Those files are per-subject, not per run... so they can be downloaded before we have more detailed information about what rest scans actually exists in XNAT."
   ]
  },
  {
   "cell_type": "code",
   "execution_count": null,
   "metadata": {
    "lines_to_next_cell": 2,
    "scrolled": true
   },
   "outputs": [],
   "source": [
    "%%time\n",
    "hcp1200 = cbd.select.project(XNAT_PROJECT)\n",
    "for i,sbj in enumerate(SbjList_7T):\n",
    "    print('--> Downloading anatomical data for sbj [%d, %s]' %(i,str(sbj)))\n",
    "    sbj_dir     = osp.join(DATA_DIR,str(sbj))\n",
    "    xnat_t1w  = hcp1200.subject(str(sbj)).experiment(str(sbj)+'_3T').resource('Structural_preproc').file('MNINonLinear/T1w_restore_brain.nii.gz')\n",
    "    xnat_t2w  = hcp1200.subject(str(sbj)).experiment(str(sbj)+'_3T').resource('Structural_preproc').file('MNINonLinear/T2w_restore_brain.nii.gz')\n",
    "    xnat_bm   = hcp1200.subject(str(sbj)).experiment(str(sbj)+'_3T').resource('Structural_preproc').file('MNINonLinear/brainmask_fs.nii.gz')\n",
    "    xnat_rois = hcp1200.subject(str(sbj)).experiment(str(sbj)+'_3T').resource('Structural_preproc').file('MNINonLinear/aparc.a2009s+aseg.nii.gz')\n",
    "    xnat_rib  = hcp1200.subject(str(sbj)).experiment(str(sbj)+'_3T').resource('Structural_preproc').file('MNINonLinear/ribbon.nii.gz')\n",
    "    t1w_path  = osp.join(sbj_dir,'T1w_restore_brain.nii.gz')\n",
    "    t2w_path  = osp.join(sbj_dir,'T2w_restore_brain.nii.gz')\n",
    "    bm_path   = osp.join(sbj_dir,'brainmask_fs.nii.gz')\n",
    "    rois_path = osp.join(sbj_dir,'aparc.a2009s+aseg.nii.gz')\n",
    "    rib_path  = osp.join(sbj_dir,'GM_Ribbon.nii.gz')\n",
    "\n",
    "    if not osp.exists(t1w_path):\n",
    "        xnat_t1w.get(t1w_path)\n",
    "    else:\n",
    "        print('++WARNING: T1 file already existed. Not created [%s]' % sbj)\n",
    "    if not osp.exists(t2w_path):\n",
    "        xnat_t2w.get(t2w_path)\n",
    "    else:\n",
    "        print('++WARNING: T2 file already existed. Not created [%s]' % sbj)\n",
    "    if not osp.exists(bm_path):\n",
    "        xnat_bm.get(bm_path)\n",
    "    else:\n",
    "        print('++WARNING: Brain mask file already existed. Not created [%s]' % sbj)\n",
    "    if not osp.exists(rois_path):\n",
    "        xnat_rois.get(rois_path)\n",
    "    else:\n",
    "        print('++WARNING: Parcellation file already existed. Not created [%s]' % sbj)\n",
    "    if not osp.exists(rib_path):\n",
    "        xnat_rib.get(rib_path)\n",
    "    else:\n",
    "        print('++WARNING: GM Ribbon file already existed. Not created [%s]' % sbj)"
   ]
  },
  {
   "cell_type": "markdown",
   "metadata": {},
   "source": [
    "***\n",
    "## 4. Create Run Directories only for those runs that actually were acquired\n",
    "\n",
    "This is very time-intensive cell that traverses the XNAT hierarchy to gather information about what runs actually exists for each subject. For each run, it creates an entry in a dataframe with the subject ID, run ID, and path where data associated with that run will be saved in biowulf"
   ]
  },
  {
   "cell_type": "code",
   "execution_count": null,
   "metadata": {
    "scrolled": true
   },
   "outputs": [],
   "source": [
    "%%time\n",
    "# Get list of available runs per subject (Quite time consuming step)\n",
    "# ==================================================================\n",
    "df = pd.DataFrame(columns=['Sbj','Run','Path'])\n",
    "hcp1200 = cbd.select.project(XNAT_PROJECT)\n",
    "for sbj in SbjList_7T:\n",
    "    print('--> Subject %s' % str(sbj))\n",
    "    sbj_dir    = osp.join(DATA_DIR,str(sbj))    \n",
    "    expt       = hcp1200.subject(str(sbj)).experiment(str(sbj)+'_7T')\n",
    "    resources  = [res.label() for res in expt.resources()]\n",
    "    avial_pkgs = fnmatch.filter(resources,'rfMRI_REST?_??_unproc')\n",
    "    print(' -> Aavailable runs: %s' % str(avial_pkgs))\n",
    "    for pkg in avial_pkgs:\n",
    "        run_name = pkg.replace('_unproc','')\n",
    "        run_dir  = osp.join(DATA_DIR,sbj,run_name)\n",
    "        if not osp.exists(run_dir):\n",
    "            print(' > Creating directory [%s]' % run_dir)\n",
    "            os.mkdir(run_dir)\n",
    "        else:\n",
    "            print('++WARNING: Run directory already existed. Not created [%s]' %sbj)\n",
    "        df = df.append({'Sbj':sbj,'Run':run_name,'Path':run_dir}, ignore_index=True)"
   ]
  },
  {
   "cell_type": "code",
   "execution_count": 9,
   "metadata": {},
   "outputs": [
    {
     "name": "stdout",
     "output_type": "stream",
     "text": [
      "++ INFO: Information about existing resting state runs saved to [/data/SFIMJGC_HCP7T/hcp7t_fv_sleep/Resources/7T_XNAT_Available_Runs_Info.pkl]\n"
     ]
    }
   ],
   "source": [
    "df.to_pickle(Avail_fMRI_Runs_Info_DF_Path)\n",
    "print('++ INFO: Information about existing resting state runs saved to [%s]' % Avail_fMRI_Runs_Info_DF_Path)"
   ]
  },
  {
   "cell_type": "code",
   "execution_count": 6,
   "metadata": {},
   "outputs": [],
   "source": [
    "# Only run if needed (e.g., you did not run all the previous cells and want to check a previously saved version of this dataframe)\n",
    "df = pd.read_pickle(Avail_fMRI_Runs_Info_DF_Path)"
   ]
  },
  {
   "cell_type": "code",
   "execution_count": 10,
   "metadata": {},
   "outputs": [
    {
     "name": "stdout",
     "output_type": "stream",
     "text": [
      "Number of Runs with at least fMRI data in ConnectomeDB: 723 runs\n"
     ]
    },
    {
     "data": {
      "text/html": [
       "<div>\n",
       "<style scoped>\n",
       "    .dataframe tbody tr th:only-of-type {\n",
       "        vertical-align: middle;\n",
       "    }\n",
       "\n",
       "    .dataframe tbody tr th {\n",
       "        vertical-align: top;\n",
       "    }\n",
       "\n",
       "    .dataframe thead th {\n",
       "        text-align: right;\n",
       "    }\n",
       "</style>\n",
       "<table border=\"1\" class=\"dataframe\">\n",
       "  <thead>\n",
       "    <tr style=\"text-align: right;\">\n",
       "      <th></th>\n",
       "      <th>Sbj</th>\n",
       "      <th>Run</th>\n",
       "      <th>Path</th>\n",
       "    </tr>\n",
       "  </thead>\n",
       "  <tbody>\n",
       "    <tr>\n",
       "      <th>0</th>\n",
       "      <td>100610</td>\n",
       "      <td>rfMRI_REST1_PA</td>\n",
       "      <td>/data/SFIMJGC_HCP7T/HCP7T/100610/rfMRI_REST1_PA</td>\n",
       "    </tr>\n",
       "    <tr>\n",
       "      <th>1</th>\n",
       "      <td>100610</td>\n",
       "      <td>rfMRI_REST2_AP</td>\n",
       "      <td>/data/SFIMJGC_HCP7T/HCP7T/100610/rfMRI_REST2_AP</td>\n",
       "    </tr>\n",
       "    <tr>\n",
       "      <th>2</th>\n",
       "      <td>100610</td>\n",
       "      <td>rfMRI_REST3_PA</td>\n",
       "      <td>/data/SFIMJGC_HCP7T/HCP7T/100610/rfMRI_REST3_PA</td>\n",
       "    </tr>\n",
       "    <tr>\n",
       "      <th>3</th>\n",
       "      <td>100610</td>\n",
       "      <td>rfMRI_REST4_AP</td>\n",
       "      <td>/data/SFIMJGC_HCP7T/HCP7T/100610/rfMRI_REST4_AP</td>\n",
       "    </tr>\n",
       "    <tr>\n",
       "      <th>4</th>\n",
       "      <td>102311</td>\n",
       "      <td>rfMRI_REST1_PA</td>\n",
       "      <td>/data/SFIMJGC_HCP7T/HCP7T/102311/rfMRI_REST1_PA</td>\n",
       "    </tr>\n",
       "  </tbody>\n",
       "</table>\n",
       "</div>"
      ],
      "text/plain": [
       "      Sbj             Run                                             Path\n",
       "0  100610  rfMRI_REST1_PA  /data/SFIMJGC_HCP7T/HCP7T/100610/rfMRI_REST1_PA\n",
       "1  100610  rfMRI_REST2_AP  /data/SFIMJGC_HCP7T/HCP7T/100610/rfMRI_REST2_AP\n",
       "2  100610  rfMRI_REST3_PA  /data/SFIMJGC_HCP7T/HCP7T/100610/rfMRI_REST3_PA\n",
       "3  100610  rfMRI_REST4_AP  /data/SFIMJGC_HCP7T/HCP7T/100610/rfMRI_REST4_AP\n",
       "4  102311  rfMRI_REST1_PA  /data/SFIMJGC_HCP7T/HCP7T/102311/rfMRI_REST1_PA"
      ]
     },
     "execution_count": 10,
     "metadata": {},
     "output_type": "execute_result"
    }
   ],
   "source": [
    "print('Number of Runs with at least fMRI data in ConnectomeDB: %d runs' % df.shape[0])\n",
    "df.head()"
   ]
  },
  {
   "cell_type": "markdown",
   "metadata": {},
   "source": [
    "***\n",
    "## 5. Download minimally pre-processed data, motion and ref scan"
   ]
  },
  {
   "cell_type": "code",
   "execution_count": null,
   "metadata": {
    "scrolled": true
   },
   "outputs": [],
   "source": [
    "orig_path1200 = cbd.select.project(XNAT_PROJECT)\n",
    "for index,data in df.iterrows():\n",
    "    sbj = data['Sbj']\n",
    "    run = data['Run']\n",
    "    _,run_id, run_ap = run.split('_')\n",
    "    pkg = run + '_preproc'\n",
    "    xnat_mPP   = hcp1200.subject(str(sbj)).experiment(str(sbj)+'_7T').resource(pkg).file('MNINonLinear/Results/{dir}/{dir}.nii.gz'.format(dir='rfMRI_'+run_id+'_7T_'+run_ap))\n",
    "    mPP_path   = osp.join(DATA_DIR,sbj,run,run+'_'+'mPP.nii.gz')\n",
    "    xnat_SBref = hcp1200.subject(str(sbj)).experiment(str(sbj)+'_7T').resource(pkg).file('MNINonLinear/Results/{dir}/{dir}_SBRef.nii.gz'.format(dir='rfMRI_'+run_id+'_7T_'+run_ap))\n",
    "    SBref_path = osp.join(DATA_DIR,sbj,run,run+'_'+'SBRef.nii.gz')\n",
    "    xnat_motdt = hcp1200.subject(str(sbj)).experiment(str(sbj)+'_7T').resource(pkg).file('MNINonLinear/Results/{dir}/Movement_Regressors_dt.txt'.format(dir='rfMRI_'+run_id+'_7T_'+run_ap))\n",
    "    motdt_path = osp.join(DATA_DIR,sbj,run,run+'_'+'Movement_Regressors_dt.txt')\n",
    "    xnat_mot   = hcp1200.subject(str(sbj)).experiment(str(sbj)+'_7T').resource(pkg).file('MNINonLinear/Results/{dir}/Movement_Regressors.txt'.format(dir='rfMRI_'+run_id+'_7T_'+run_ap))\n",
    "    mot_path   = osp.join(DATA_DIR,sbj,run,run+'_'+'Movement_Regressors.txt')\n",
    "    \n",
    "    for xnat,local in zip([xnat_mPP,xnat_SBref,xnat_motdt,xnat_mot],\n",
    "                          [mPP_path,SBref_path,motdt_path,mot_path]):\n",
    "        if not osp.exists(local):\n",
    "            print('++ INFO [%d]: Downloading from XNAT %s' % (index,local))\n",
    "            xnat.get(local)\n",
    "        else:\n",
    "            print('++ WARNING [%d]: File already in destination, no need to download or copy [%s]' % (index,local))\n",
    "    print('++ --------')"
   ]
  },
  {
   "cell_type": "markdown",
   "metadata": {},
   "source": [
    "***\n",
    "## 6. Download Eye Tracker Data (two files per run)"
   ]
  },
  {
   "cell_type": "code",
   "execution_count": null,
   "metadata": {
    "scrolled": true
   },
   "outputs": [],
   "source": [
    "for index,data in df.iterrows():\n",
    "    sbj = data['Sbj']\n",
    "    run = data['Run']\n",
    "    _,run_id, run_ap = run.split('_')\n",
    "    pkg = run + '_unproc'\n",
    "    for file_suffix in ['eyetrack_summary.csv','eyetrack.asc']:\n",
    "        xnat_et  = hcp1200.subject(str(sbj)).experiment(str(sbj)+'_7T').resource(pkg).file('LINKED_DATA/EYETRACKER/{sbj}_7T_{run}_{suff}'.format(sbj=sbj,run=run_id, suff=file_suffix))\n",
    "        if xnat_et.exists():\n",
    "            et_path = osp.join(DATA_DIR,sbj,run,run+'_'+file_suffix)\n",
    "            xnat_et.get(et_path)\n",
    "        else:\n",
    "            print(' + WARNING --> File missing: %s' % xnat_et)"
   ]
  },
  {
   "cell_type": "markdown",
   "metadata": {},
   "source": [
    "***\n",
    "# 7. Ensure all folders were created\n",
    "\n",
    "1. Check that there is one directory for each subject\n",
    "2. Check that there is one directory per available resting-state scan"
   ]
  },
  {
   "cell_type": "code",
   "execution_count": 13,
   "metadata": {},
   "outputs": [
    {
     "name": "stdout",
     "output_type": "stream",
     "text": [
      "++ INFO: Number of Subject Directories = 184 --> ALL SUBJECT DIRECTORIES EXIST.\n"
     ]
    }
   ],
   "source": [
    "XNAT_Subjects = list(SbjInfo['Subject'].values.astype(str))                     # list of all subject numbers\n",
    "SbjDirs = glob.glob(DATA_DIR+'/??????')                                         # path to subject directories\n",
    "if len(SbjDirs) == len(XNAT_Subjects):                                          # chekcs if there is same number of subjects as number of subject directories\n",
    "    print('++ INFO: Number of Subject Directories = %d --> ALL SUBJECT DIRECTORIES EXIST.' % len(SbjDirs) )\n",
    "else: \n",
    "    print('++ WARNING: Number of Subject Directories = %d --> Some directories are missing.' % len(SbjDirs) )"
   ]
  },
  {
   "cell_type": "code",
   "execution_count": 14,
   "metadata": {},
   "outputs": [
    {
     "name": "stdout",
     "output_type": "stream",
     "text": [
      "++ INFO: Number of Subject Directories = 723 --> ALL RUN DIRECTORIES EXIST.\n"
     ]
    }
   ],
   "source": [
    "NXAT_NumberOfRestRuns = SbjInfo['7T_RS-fMRI_Count'].sum()                       # sum of totoal number of fMRI resting state runs\n",
    "RunDirs               = glob.glob(DATA_DIR+'/??????/rfMRI_REST?_??')            # path to run directory \n",
    "if len(RunDirs) == NXAT_NumberOfRestRuns:                                       # check if there is the same number of totoal runs as there are run directories\n",
    "    print('++ INFO: Number of Subject Directories = %d --> ALL RUN DIRECTORIES EXIST.' % len(RunDirs) )\n",
    "else: \n",
    "    print('++ WARNING: Number of Subject Directories = %d --> Some run directories are missing.' % len(RunDirs) )"
   ]
  },
  {
   "cell_type": "markdown",
   "metadata": {},
   "source": [
    "***\n",
    "# 8. Remove problematic subjects\n",
    "\n",
    "Subject 178647 has an incorrect forth ventricle mask in the Freesurfer automatic parcellation. For this reason this subject was removed from all analyses. To ensure this data is not used, the next cell checks if a directory for this subject exists, and if so it removes it from the DATA_DIR folder.\n",
    "\n",
    "<img src='./images/178647_Parcellation.jpg'>\n",
    "\n",
    "Following removal of this subject, the size of our starting dataset should be 719 resting-state scans distributed across 183 subjects."
   ]
  },
  {
   "cell_type": "code",
   "execution_count": 35,
   "metadata": {},
   "outputs": [],
   "source": [
    "# Remove this subject from the dataframe that contains information about downloaded resting-state scans\n",
    "df = df[df['Sbj'].str.contains('178647')==False]\n",
    "print(\"++ INFO: Final shape of df dataframe: %s\" % str(df.shape))\n",
    "# Remove the folder from the DATA_DIR folder\n",
    "bad_sbj_folder = osp.join(DATA_DIR,'178647')\n",
    "if osp.exists(bad_sbj_folder):\n",
    "    shutil.rmtree(bad_sbj_folder)\n",
    "    print(\"++ INFO: Folder for subject 178647 was removed\")"
   ]
  },
  {
   "cell_type": "markdown",
   "metadata": {},
   "source": [
    "***\n",
    "# 9. Create the final output of this notebook, a DF with the paths to all the files that have been downloaded"
   ]
  },
  {
   "cell_type": "code",
   "execution_count": 53,
   "metadata": {},
   "outputs": [
    {
     "name": "stdout",
     "output_type": "stream",
     "text": [
      "CPU times: user 2.58 s, sys: 75.1 ms, total: 2.66 s\n",
      "Wall time: 2.67 s\n"
     ]
    },
    {
     "data": {
      "text/html": [
       "<div>\n",
       "<style scoped>\n",
       "    .dataframe tbody tr th:only-of-type {\n",
       "        vertical-align: middle;\n",
       "    }\n",
       "\n",
       "    .dataframe tbody tr th {\n",
       "        vertical-align: top;\n",
       "    }\n",
       "\n",
       "    .dataframe thead th {\n",
       "        text-align: right;\n",
       "    }\n",
       "</style>\n",
       "<table border=\"1\" class=\"dataframe\">\n",
       "  <thead>\n",
       "    <tr style=\"text-align: right;\">\n",
       "      <th></th>\n",
       "      <th>Sbj</th>\n",
       "      <th>Run</th>\n",
       "      <th>T1 (MNI)</th>\n",
       "      <th>T2 (MNI)</th>\n",
       "      <th>Brainmask (MNI)</th>\n",
       "      <th>GM Ribbon (MNI)</th>\n",
       "      <th>FS Parcels (MNI)</th>\n",
       "      <th>Rest_mPP (MNI)</th>\n",
       "      <th>SBref (Orig)</th>\n",
       "      <th>ET_ASC</th>\n",
       "      <th>ET_CSV</th>\n",
       "      <th>Motion</th>\n",
       "    </tr>\n",
       "  </thead>\n",
       "  <tbody>\n",
       "    <tr>\n",
       "      <th>0</th>\n",
       "      <td>100610</td>\n",
       "      <td>rfMRI_REST1_PA</td>\n",
       "      <td>/data/SFIMJGC_HCP7T/HCP7T/100610/T1w_restore_b...</td>\n",
       "      <td>/data/SFIMJGC_HCP7T/HCP7T/100610/T2w_restore_b...</td>\n",
       "      <td>/data/SFIMJGC_HCP7T/HCP7T/100610/brainmask_fs....</td>\n",
       "      <td>/data/SFIMJGC_HCP7T/HCP7T/100610/GM_Ribbon.nii.gz</td>\n",
       "      <td>/data/SFIMJGC_HCP7T/HCP7T/100610/aparc.a2009s+...</td>\n",
       "      <td>/data/SFIMJGC_HCP7T/HCP7T/100610/rfMRI_REST1_P...</td>\n",
       "      <td>/data/SFIMJGC_HCP7T/HCP7T/100610/rfMRI_REST1_P...</td>\n",
       "      <td>/data/SFIMJGC_HCP7T/HCP7T/100610/rfMRI_REST1_P...</td>\n",
       "      <td>/data/SFIMJGC_HCP7T/HCP7T/100610/rfMRI_REST1_P...</td>\n",
       "      <td>/data/SFIMJGC_HCP7T/HCP7T/100610/rfMRI_REST1_P...</td>\n",
       "    </tr>\n",
       "    <tr>\n",
       "      <th>1</th>\n",
       "      <td>100610</td>\n",
       "      <td>rfMRI_REST2_AP</td>\n",
       "      <td>/data/SFIMJGC_HCP7T/HCP7T/100610/T1w_restore_b...</td>\n",
       "      <td>/data/SFIMJGC_HCP7T/HCP7T/100610/T2w_restore_b...</td>\n",
       "      <td>/data/SFIMJGC_HCP7T/HCP7T/100610/brainmask_fs....</td>\n",
       "      <td>/data/SFIMJGC_HCP7T/HCP7T/100610/GM_Ribbon.nii.gz</td>\n",
       "      <td>/data/SFIMJGC_HCP7T/HCP7T/100610/aparc.a2009s+...</td>\n",
       "      <td>/data/SFIMJGC_HCP7T/HCP7T/100610/rfMRI_REST2_A...</td>\n",
       "      <td>/data/SFIMJGC_HCP7T/HCP7T/100610/rfMRI_REST2_A...</td>\n",
       "      <td>/data/SFIMJGC_HCP7T/HCP7T/100610/rfMRI_REST2_A...</td>\n",
       "      <td>/data/SFIMJGC_HCP7T/HCP7T/100610/rfMRI_REST2_A...</td>\n",
       "      <td>/data/SFIMJGC_HCP7T/HCP7T/100610/rfMRI_REST2_A...</td>\n",
       "    </tr>\n",
       "    <tr>\n",
       "      <th>2</th>\n",
       "      <td>100610</td>\n",
       "      <td>rfMRI_REST3_PA</td>\n",
       "      <td>/data/SFIMJGC_HCP7T/HCP7T/100610/T1w_restore_b...</td>\n",
       "      <td>/data/SFIMJGC_HCP7T/HCP7T/100610/T2w_restore_b...</td>\n",
       "      <td>/data/SFIMJGC_HCP7T/HCP7T/100610/brainmask_fs....</td>\n",
       "      <td>/data/SFIMJGC_HCP7T/HCP7T/100610/GM_Ribbon.nii.gz</td>\n",
       "      <td>/data/SFIMJGC_HCP7T/HCP7T/100610/aparc.a2009s+...</td>\n",
       "      <td>/data/SFIMJGC_HCP7T/HCP7T/100610/rfMRI_REST3_P...</td>\n",
       "      <td>/data/SFIMJGC_HCP7T/HCP7T/100610/rfMRI_REST3_P...</td>\n",
       "      <td>/data/SFIMJGC_HCP7T/HCP7T/100610/rfMRI_REST3_P...</td>\n",
       "      <td>/data/SFIMJGC_HCP7T/HCP7T/100610/rfMRI_REST3_P...</td>\n",
       "      <td>/data/SFIMJGC_HCP7T/HCP7T/100610/rfMRI_REST3_P...</td>\n",
       "    </tr>\n",
       "    <tr>\n",
       "      <th>3</th>\n",
       "      <td>100610</td>\n",
       "      <td>rfMRI_REST4_AP</td>\n",
       "      <td>/data/SFIMJGC_HCP7T/HCP7T/100610/T1w_restore_b...</td>\n",
       "      <td>/data/SFIMJGC_HCP7T/HCP7T/100610/T2w_restore_b...</td>\n",
       "      <td>/data/SFIMJGC_HCP7T/HCP7T/100610/brainmask_fs....</td>\n",
       "      <td>/data/SFIMJGC_HCP7T/HCP7T/100610/GM_Ribbon.nii.gz</td>\n",
       "      <td>/data/SFIMJGC_HCP7T/HCP7T/100610/aparc.a2009s+...</td>\n",
       "      <td>/data/SFIMJGC_HCP7T/HCP7T/100610/rfMRI_REST4_A...</td>\n",
       "      <td>/data/SFIMJGC_HCP7T/HCP7T/100610/rfMRI_REST4_A...</td>\n",
       "      <td>/data/SFIMJGC_HCP7T/HCP7T/100610/rfMRI_REST4_A...</td>\n",
       "      <td>/data/SFIMJGC_HCP7T/HCP7T/100610/rfMRI_REST4_A...</td>\n",
       "      <td>/data/SFIMJGC_HCP7T/HCP7T/100610/rfMRI_REST4_A...</td>\n",
       "    </tr>\n",
       "    <tr>\n",
       "      <th>4</th>\n",
       "      <td>102311</td>\n",
       "      <td>rfMRI_REST1_PA</td>\n",
       "      <td>/data/SFIMJGC_HCP7T/HCP7T/102311/T1w_restore_b...</td>\n",
       "      <td>/data/SFIMJGC_HCP7T/HCP7T/102311/T2w_restore_b...</td>\n",
       "      <td>/data/SFIMJGC_HCP7T/HCP7T/102311/brainmask_fs....</td>\n",
       "      <td>/data/SFIMJGC_HCP7T/HCP7T/102311/GM_Ribbon.nii.gz</td>\n",
       "      <td>/data/SFIMJGC_HCP7T/HCP7T/102311/aparc.a2009s+...</td>\n",
       "      <td>/data/SFIMJGC_HCP7T/HCP7T/102311/rfMRI_REST1_P...</td>\n",
       "      <td>/data/SFIMJGC_HCP7T/HCP7T/102311/rfMRI_REST1_P...</td>\n",
       "      <td>NaN</td>\n",
       "      <td>NaN</td>\n",
       "      <td>/data/SFIMJGC_HCP7T/HCP7T/102311/rfMRI_REST1_P...</td>\n",
       "    </tr>\n",
       "  </tbody>\n",
       "</table>\n",
       "</div>"
      ],
      "text/plain": [
       "      Sbj             Run                                           T1 (MNI)  \\\n",
       "0  100610  rfMRI_REST1_PA  /data/SFIMJGC_HCP7T/HCP7T/100610/T1w_restore_b...   \n",
       "1  100610  rfMRI_REST2_AP  /data/SFIMJGC_HCP7T/HCP7T/100610/T1w_restore_b...   \n",
       "2  100610  rfMRI_REST3_PA  /data/SFIMJGC_HCP7T/HCP7T/100610/T1w_restore_b...   \n",
       "3  100610  rfMRI_REST4_AP  /data/SFIMJGC_HCP7T/HCP7T/100610/T1w_restore_b...   \n",
       "4  102311  rfMRI_REST1_PA  /data/SFIMJGC_HCP7T/HCP7T/102311/T1w_restore_b...   \n",
       "\n",
       "                                            T2 (MNI)  \\\n",
       "0  /data/SFIMJGC_HCP7T/HCP7T/100610/T2w_restore_b...   \n",
       "1  /data/SFIMJGC_HCP7T/HCP7T/100610/T2w_restore_b...   \n",
       "2  /data/SFIMJGC_HCP7T/HCP7T/100610/T2w_restore_b...   \n",
       "3  /data/SFIMJGC_HCP7T/HCP7T/100610/T2w_restore_b...   \n",
       "4  /data/SFIMJGC_HCP7T/HCP7T/102311/T2w_restore_b...   \n",
       "\n",
       "                                     Brainmask (MNI)  \\\n",
       "0  /data/SFIMJGC_HCP7T/HCP7T/100610/brainmask_fs....   \n",
       "1  /data/SFIMJGC_HCP7T/HCP7T/100610/brainmask_fs....   \n",
       "2  /data/SFIMJGC_HCP7T/HCP7T/100610/brainmask_fs....   \n",
       "3  /data/SFIMJGC_HCP7T/HCP7T/100610/brainmask_fs....   \n",
       "4  /data/SFIMJGC_HCP7T/HCP7T/102311/brainmask_fs....   \n",
       "\n",
       "                                     GM Ribbon (MNI)  \\\n",
       "0  /data/SFIMJGC_HCP7T/HCP7T/100610/GM_Ribbon.nii.gz   \n",
       "1  /data/SFIMJGC_HCP7T/HCP7T/100610/GM_Ribbon.nii.gz   \n",
       "2  /data/SFIMJGC_HCP7T/HCP7T/100610/GM_Ribbon.nii.gz   \n",
       "3  /data/SFIMJGC_HCP7T/HCP7T/100610/GM_Ribbon.nii.gz   \n",
       "4  /data/SFIMJGC_HCP7T/HCP7T/102311/GM_Ribbon.nii.gz   \n",
       "\n",
       "                                    FS Parcels (MNI)  \\\n",
       "0  /data/SFIMJGC_HCP7T/HCP7T/100610/aparc.a2009s+...   \n",
       "1  /data/SFIMJGC_HCP7T/HCP7T/100610/aparc.a2009s+...   \n",
       "2  /data/SFIMJGC_HCP7T/HCP7T/100610/aparc.a2009s+...   \n",
       "3  /data/SFIMJGC_HCP7T/HCP7T/100610/aparc.a2009s+...   \n",
       "4  /data/SFIMJGC_HCP7T/HCP7T/102311/aparc.a2009s+...   \n",
       "\n",
       "                                      Rest_mPP (MNI)  \\\n",
       "0  /data/SFIMJGC_HCP7T/HCP7T/100610/rfMRI_REST1_P...   \n",
       "1  /data/SFIMJGC_HCP7T/HCP7T/100610/rfMRI_REST2_A...   \n",
       "2  /data/SFIMJGC_HCP7T/HCP7T/100610/rfMRI_REST3_P...   \n",
       "3  /data/SFIMJGC_HCP7T/HCP7T/100610/rfMRI_REST4_A...   \n",
       "4  /data/SFIMJGC_HCP7T/HCP7T/102311/rfMRI_REST1_P...   \n",
       "\n",
       "                                        SBref (Orig)  \\\n",
       "0  /data/SFIMJGC_HCP7T/HCP7T/100610/rfMRI_REST1_P...   \n",
       "1  /data/SFIMJGC_HCP7T/HCP7T/100610/rfMRI_REST2_A...   \n",
       "2  /data/SFIMJGC_HCP7T/HCP7T/100610/rfMRI_REST3_P...   \n",
       "3  /data/SFIMJGC_HCP7T/HCP7T/100610/rfMRI_REST4_A...   \n",
       "4  /data/SFIMJGC_HCP7T/HCP7T/102311/rfMRI_REST1_P...   \n",
       "\n",
       "                                              ET_ASC  \\\n",
       "0  /data/SFIMJGC_HCP7T/HCP7T/100610/rfMRI_REST1_P...   \n",
       "1  /data/SFIMJGC_HCP7T/HCP7T/100610/rfMRI_REST2_A...   \n",
       "2  /data/SFIMJGC_HCP7T/HCP7T/100610/rfMRI_REST3_P...   \n",
       "3  /data/SFIMJGC_HCP7T/HCP7T/100610/rfMRI_REST4_A...   \n",
       "4                                                NaN   \n",
       "\n",
       "                                              ET_CSV  \\\n",
       "0  /data/SFIMJGC_HCP7T/HCP7T/100610/rfMRI_REST1_P...   \n",
       "1  /data/SFIMJGC_HCP7T/HCP7T/100610/rfMRI_REST2_A...   \n",
       "2  /data/SFIMJGC_HCP7T/HCP7T/100610/rfMRI_REST3_P...   \n",
       "3  /data/SFIMJGC_HCP7T/HCP7T/100610/rfMRI_REST4_A...   \n",
       "4                                                NaN   \n",
       "\n",
       "                                              Motion  \n",
       "0  /data/SFIMJGC_HCP7T/HCP7T/100610/rfMRI_REST1_P...  \n",
       "1  /data/SFIMJGC_HCP7T/HCP7T/100610/rfMRI_REST2_A...  \n",
       "2  /data/SFIMJGC_HCP7T/HCP7T/100610/rfMRI_REST3_P...  \n",
       "3  /data/SFIMJGC_HCP7T/HCP7T/100610/rfMRI_REST4_A...  \n",
       "4  /data/SFIMJGC_HCP7T/HCP7T/102311/rfMRI_REST1_P...  "
      ]
     },
     "execution_count": 53,
     "metadata": {},
     "output_type": "execute_result"
    }
   ],
   "source": [
    "%%time\n",
    "# data frame of run with path to each file created above\n",
    "Project_Files_DF = pd.DataFrame(columns=['Sbj','Run',\n",
    "                                         'T1 (MNI)','T2 (MNI)',\n",
    "                                         'Brainmask (MNI)','GM Ribbon (MNI)',\n",
    "                                         'FS Parcels (MNI)',\n",
    "                                         'Rest_mPP (MNI)',\n",
    "                                         'SBref (Orig)',\n",
    "                                         'ET_ASC','ET_CSV',\n",
    "                                         'Motion'])\n",
    "#                                index=range(df.shape[0]))\n",
    "\n",
    "for index,data in df.iterrows():\n",
    "    sbj         = data['Sbj'] # subject number\n",
    "    run         = data['Run'] # run number\n",
    "    # path to all files created above\n",
    "    sbj_dir     = osp.join(DATA_DIR,str(sbj))\n",
    "    t1w_path    = osp.join(sbj_dir,'T1w_restore_brain.nii.gz')\n",
    "    t2w_path    = osp.join(sbj_dir,'T2w_restore_brain.nii.gz')\n",
    "    bm_path     = osp.join(sbj_dir,'brainmask_fs.nii.gz')\n",
    "    rois_path   = osp.join(sbj_dir,'aparc.a2009s+aseg.nii.gz')\n",
    "    rib_path    = osp.join(sbj_dir,'GM_Ribbon.nii.gz')\n",
    "    et_asc_path = osp.join(DATA_DIR,sbj,run,run+'_eyetrack_summary.csv')\n",
    "    et_csv_path = osp.join(DATA_DIR,sbj,run,run+'_eyetrack.asc')\n",
    "    mot_path    = osp.join(DATA_DIR,sbj,run,run+'_'+'Movement_Regressors.txt')\n",
    "    sbref_path  = osp.join(DATA_DIR,sbj,run,run+'_'+'SBRef.nii.gz')\n",
    "    unproc_path = osp.join(DATA_DIR,sbj,run,run+'.nii.gz')\n",
    "    fix_path    = osp.join(DATA_DIR,sbj,run,run+'_FIX.nii.gz')\n",
    "    mPP_path    = osp.join(DATA_DIR,sbj,run,run+'_mPP.nii.gz')\n",
    "    Project_Files_DF.loc[index,'Sbj'] = sbj\n",
    "    Project_Files_DF.loc[index,'Run'] = run\n",
    "    # append each path with the coresponding column for each run if path doesnt exixt put NaN\n",
    "    for (label, aux_path) in zip(['T1 (MNI)','T2 (MNI)','Brainmask (MNI)', 'GM Ribbon (MNI)', 'FS Parcels (MNI)', 'Rest_mPP (MNI)', 'SBref (Orig)', 'ET_ASC',    'ET_CSV',    'Motion'],\n",
    "                                 [t1w_path,  t2w_path,   bm_path,          rib_path,          rois_path,          mPP_path,         sbref_path,     et_asc_path, et_csv_path, mot_path]):\n",
    "        Project_Files_DF.loc[index,label]  = (lambda path: path if osp.exists(path) else np.nan)(aux_path)\n",
    "\n",
    "Project_Files_DF.head()    "
   ]
  },
  {
   "cell_type": "code",
   "execution_count": 67,
   "metadata": {},
   "outputs": [
    {
     "name": "stdout",
     "output_type": "stream",
     "text": [
      "++ INFO: Final number of subjects: 183\n",
      "++ INFO: Number of missing files per file_type\n"
     ]
    },
    {
     "data": {
      "text/plain": [
       "Sbj                   0\n",
       "Run                   0\n",
       "T1 (MNI)              0\n",
       "T2 (MNI)              0\n",
       "Brainmask (MNI)       0\n",
       "GM Ribbon (MNI)       0\n",
       "FS Parcels (MNI)      0\n",
       "Rest_mPP (MNI)        0\n",
       "SBref (Orig)          0\n",
       "ET_ASC              149\n",
       "ET_CSV              149\n",
       "Motion                0\n",
       "dtype: int64"
      ]
     },
     "execution_count": 67,
     "metadata": {},
     "output_type": "execute_result"
    }
   ],
   "source": [
    "print(\"++ INFO: Final number of subjects: %d\" % len(Project_Files_DF['Sbj'].unique()))\n",
    "print('++ INFO: Number of missing files per file_type')\n",
    "Project_Files_DF.isna().sum() # count for each column (i.e. file) how many empyt values there are (i.e. the file does not exist)"
   ]
  },
  {
   "cell_type": "code",
   "execution_count": 68,
   "metadata": {},
   "outputs": [
    {
     "name": "stdout",
     "output_type": "stream",
     "text": [
      "++ INFO: Information about downloaded files available at [/data/SFIMJGC_HCP7T/hcp7t_fv_sleep/Resources/7T_ProjectFiles.pkl]\n"
     ]
    }
   ],
   "source": [
    "# Save information to disk\n",
    "ProjectFiles_DF_Path = osp.join(SCRIPTS_DIR,'Resources','7T_ProjectFiles.pkl') # create path for data frame created in above cell\n",
    "Project_Files_DF.to_pickle(ProjectFiles_DF_Path) # save data frame as pickle file\n",
    "print(\"++ INFO: Information about downloaded files available at [%s]\" % ProjectFiles_DF_Path)"
   ]
  },
  {
   "cell_type": "markdown",
   "metadata": {},
   "source": [
    "***\n",
    "***\n",
    "# ADDITIONAL CODE TO DOWNLOAD OTHER FILES (NOT USED IN THIS PAPER)\n",
    "\n",
    "### Download or Copy the un-processed datasets (NOT USED IN THE PAPER)"
   ]
  },
  {
   "cell_type": "code",
   "execution_count": null,
   "metadata": {
    "scrolled": true
   },
   "outputs": [],
   "source": [
    "hcp1200 = cbd.select.project(XNAT_PROJECT)\n",
    "for index,data in df.iterrows():\n",
    "    sbj = data['Sbj']\n",
    "    run = data['Run']\n",
    "    _,run_id, run_ap = run.split('_')\n",
    "    pkg = run + '_unproc'\n",
    "    prev_path = osp.join(DATA_DIR,sbj,'rfMRI_'+run_id+'_7T_'+run_ap,sbj+'_7T_rfMRI_'+run_id+'_'+run_ap+'.nii.gz')\n",
    "    dest_path = osp.join(DATA_DIR,sbj,run,run+'.nii.gz')\n",
    "    if not osp.exists(dest_path):\n",
    "        if osp.exists(prev_path):\n",
    "            print('++ INFO [%d]: Moving file from different local path %s' % (index,prev_path))\n",
    "            os.system('mv {orig} {dest}'.format(orig=prev_path,dest=dest_path))\n",
    "        else:\n",
    "            print('++ INFO [%d]: Downloading from XNAT %s' % (index,dest_path))\n",
    "            xnat_path = hcp1200.subject(str(sbj)).experiment(str(sbj)+'_7T').resource(pkg).file(sbj+'_7T_'+run+'.nii.gz')\n",
    "            xnat_path.get(dest_path)\n",
    "    else:\n",
    "        print('++ WARNING [%d]: File already in destination, no need to download or copy [%s]' % (index,dest_path))"
   ]
  },
  {
   "cell_type": "markdown",
   "metadata": {},
   "source": [
    "### Download or copy fix-clean data (NOT USED IN THE PAPER)"
   ]
  },
  {
   "cell_type": "code",
   "execution_count": null,
   "metadata": {},
   "outputs": [],
   "source": [
    "# Download or copy FIX rsfMRI runs\n",
    "# ================================\n",
    "LOCAL_DIR = '/data/SFIMJGC_HCP7T/PRJ_IndividualDifferences/PrcsData/'\n",
    "hcp1200 = cbd.select.project(XNAT_PROJECT)\n",
    "for index,data in df.iterrows():\n",
    "    sbj = data['Sbj']\n",
    "    run = data['Run']\n",
    "    _,run_id, run_ap = run.split('_')\n",
    "    pkg = run + '_FIX'\n",
    "    prev_path = osp.join(LOCAL_DIR,sbj,'D00_OriginalData','rfMRI_'+run_id+'_7T_'+run_ap+'_hp2000_clean.nii.gz')\n",
    "    dest_path = osp.join(DATA_DIR,sbj,run+'_mPP',run+'_FIX.nii.gz')\n",
    "    if not osp.exists(dest_path):\n",
    "        if osp.exists(prev_path):\n",
    "            print('++ INFO [%d]: Moving file from different local path %s' % (index,prev_path))\n",
    "            os.system('mv {orig} {dest}'.format(orig=prev_path,dest=dest_path))\n",
    "        else:\n",
    "            print('++ INFO [%d]: Downloading from XNAT %s' % (index,dest_path))\n",
    "            xnat_path = hcp1200.subject(str(sbj)).experiment(str(sbj)+'_7T').resource(pkg).file('rfMRI_'+run_id+'_7T_'+run_ap+'/rfMRI_'+run_id+'_7T_'+run_ap+'_hp2000.nii.gz')\n",
    "            xnat_path.get(dest_path)\n",
    "    else:\n",
    "        print('++ WARNING [%d]: File already in destination, no need to download or copy [%s]' % (index,dest_path))"
   ]
  }
 ],
 "metadata": {
  "jupytext": {
   "formats": "ipynb,py:light"
  },
  "kernelspec": {
   "display_name": "Non Brain Signals (pyxnat)",
   "language": "python",
   "name": "non_brain_signals"
  },
  "language_info": {
   "codemirror_mode": {
    "name": "ipython",
    "version": 3
   },
   "file_extension": ".py",
   "mimetype": "text/x-python",
   "name": "python",
   "nbconvert_exporter": "python",
   "pygments_lexer": "ipython3",
   "version": "3.7.3"
  }
 },
 "nbformat": 4,
 "nbformat_minor": 4
}
