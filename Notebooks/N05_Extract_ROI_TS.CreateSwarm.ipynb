{
 "cells": [
  {
   "cell_type": "markdown",
   "metadata": {},
   "source": [
    "# Description\n",
    "\n",
    "1. Create consensus (group-level) 4th Ventricle ROI\n",
    "\n",
    "2. Create average (group-level) T1, T2 and EPI reference image\n",
    "\n",
    "3. Create a Swarm file for batch processing of all subjects. Processing steps include:\n",
    "\n",
    "* Generate new mPP dataset with Signal Percent Units\n",
    "\n",
    "* Extract representative time-series (based on SPC dataset) for GM, Full Brain (Global Signal), FV (using group ROI), FV (using subject-specific ROI), lateral ventricles, WM.\n",
    "\n",
    "## Ouputs\n",
    "\n",
    "### Group-level Files\n",
    "\n",
    "* ```${DATA_DIR}/ALL/ALL_ROI.V4.mPP.nii.gz```: group-level FV ROI.\n",
    "* ```${DATA_DIR}/ALL/ALL_T1w_restore_brain.nii.gz```: average T1 image across all subjects\n",
    "* ```${DATA_DIR}/ALL/ALL_T2w_restore_brain.nii.gz```: average T2 image across all subjects\n",
    "* ```${DATA_DIR}/ALL/ALL_EPI.nii.gz```: average EPI across all runs\n",
    "\n",
    "### Run Specific Outputs\n",
    "* ```${DATA_DIR}/${SBJ}/${RUN}/${RUN}_mPP.scale.nii.gz```:     minimally pre-processed dataset in units of signal percent change.\n",
    "* ```${DATA_DIR}/${SBJ}/${RUN}/${RUN}_mPP.Signal.V4_grp.1D```: representative timeseries for FV (using group-level ROI)\n",
    "* ```${DATA_DIR}/${SBJ}/${RUN}/${RUN}_mPP.Signal.V4_e.1D```:   representative timeseries for FV (using subject-specific ROI)\n",
    "* ```${DATA_DIR}/${SBJ}/${RUN}/${RUN}_mPP.Signal.Vl_e.1D```:   representative timeseries for the laterval ventricles eroded (subject-specific)\n",
    "* ```${DATA_DIR}/${SBJ}/${RUN}/${RUN}_mPP.Signal.FB.1D```:     global signal (full brain - subject-specific)\n",
    "* ```${DATA_DIR}/${SBJ}/${RUN}/${RUN}_mPP.Signal.GM.1D```:     global signal (GM ribbon only - subject-specific)\n",
    "* ```${DATA_DIR}/${SBJ}/${RUN}/${RUN}_mPP.Signal.WM_e.1D```:   representative WM signal (subject-specific)\n",
    "\n",
    "***"
   ]
  },
  {
   "cell_type": "code",
   "execution_count": 1,
   "metadata": {},
   "outputs": [],
   "source": [
    "import os\n",
    "import os.path as osp\n",
    "import numpy as np\n",
    "import pandas as pd\n",
    "import subprocess\n",
    "\n",
    "from utils.variables import Resources_Dir, DATA_DIR\n",
    "from utils.basics import get_7t_subjects, get_available_runs"
   ]
  },
  {
   "cell_type": "code",
   "execution_count": 2,
   "metadata": {},
   "outputs": [],
   "source": [
    "ALL_DIR  = osp.join(DATA_DIR,'ALL')"
   ]
  },
  {
   "cell_type": "markdown",
   "metadata": {},
   "source": [
    "*** \n",
    "# 1. Create Forth Ventricle (FV) group-level ROI"
   ]
  },
  {
   "cell_type": "code",
   "execution_count": 3,
   "metadata": {},
   "outputs": [
    {
     "name": "stdout",
     "output_type": "stream",
     "text": [
      "[+] Loading AFNI current-openmp  ... \n",
      "AFNI/current-openmp last updated  2021-08-23\n",
      "\n",
      "++ 3dMean: AFNI version=AFNI_21.2.05 (Aug 22 2021) [64-bit]\n",
      "++ 3dcalc: AFNI version=AFNI_21.2.05 (Aug 22 2021) [64-bit]\n",
      "++ Authored by: A cast of thousands\n",
      "++ Output dataset ./ALL_ROI.V4.mPP.nii.gz\n",
      "CPU times: user 5.11 ms, sys: 8.48 ms, total: 13.6 ms\n",
      "Wall time: 4.71 s\n"
     ]
    }
   ],
   "source": [
    "%%time\n",
    "Sbjs     = get_7t_subjects()\n",
    "fv_masks = ['../{sbj}/ROI.V4.mPP.nii.gz'.format(sbj=sbj) for sbj in Sbjs]\n",
    "command  = 'module load afni; \\\n",
    "            cd {all_dir}; \\\n",
    "            3dMean -overwrite -prefix ALL_ROI.V4.mPP_avg.nii.gz {files}; \\\n",
    "            3dcalc -overwrite -a ALL_ROI.V4.mPP_avg.nii.gz -expr \"ispositive(a-0.98)\" -prefix ALL_ROI.V4.mPP.nii.gz'.format(all_dir=ALL_DIR, files=' '.join(fv_masks))\n",
    "output  = subprocess.check_output(command, shell=True, stderr=subprocess.STDOUT)\n",
    "print(output.strip().decode())"
   ]
  },
  {
   "cell_type": "markdown",
   "metadata": {},
   "source": [
    "***\n",
    "# 2. Create Average T1, T2 and EPI images for reference in group folder"
   ]
  },
  {
   "cell_type": "code",
   "execution_count": 4,
   "metadata": {},
   "outputs": [
    {
     "name": "stdout",
     "output_type": "stream",
     "text": [
      "[+] Loading AFNI current-openmp  ... \n",
      "AFNI/current-openmp last updated  2021-08-23\n",
      "\n",
      "++ 3dMean: AFNI version=AFNI_21.2.05 (Aug 22 2021) [64-bit]\n",
      "CPU times: user 5.37 ms, sys: 7.51 ms, total: 12.9 ms\n",
      "Wall time: 1min 29s\n"
     ]
    }
   ],
   "source": [
    "%%time\n",
    "t1_files = ['../{sbj}/T1w_restore_brain.nii.gz'.format(sbj=sbj) for sbj in Sbjs]\n",
    "command  = 'module load afni; \\\n",
    "            cd {all_dir}; \\\n",
    "            3dMean -overwrite -prefix ALL_T1w_restore_brain.nii.gz {files};'.format(all_dir=ALL_DIR,files=' '.join(t1_files))\n",
    "output  = subprocess.check_output(command, shell=True, stderr=subprocess.STDOUT)\n",
    "print(output.strip().decode())"
   ]
  },
  {
   "cell_type": "code",
   "execution_count": 5,
   "metadata": {},
   "outputs": [
    {
     "name": "stdout",
     "output_type": "stream",
     "text": [
      "[+] Loading AFNI current-openmp  ... \n",
      "AFNI/current-openmp last updated  2021-08-23\n",
      "\n",
      "++ 3dMean: AFNI version=AFNI_21.2.05 (Aug 22 2021) [64-bit]\n",
      "CPU times: user 2.7 ms, sys: 9.65 ms, total: 12.3 ms\n",
      "Wall time: 1min 28s\n"
     ]
    }
   ],
   "source": [
    "%%time\n",
    "t2_files = ['../{sbj}/T2w_restore_brain.nii.gz'.format(sbj=sbj) for sbj in Sbjs]\n",
    "command  = 'module load afni; \\\n",
    "            cd {all_dir}; \\\n",
    "            3dMean -overwrite -prefix ALL_T2w_restore_brain.nii.gz {files};'.format(all_dir=ALL_DIR,files=' '.join(t2_files))\n",
    "output  = subprocess.check_output(command, shell=True, stderr=subprocess.STDOUT)\n",
    "print(output.strip().decode())"
   ]
  },
  {
   "cell_type": "code",
   "execution_count": null,
   "metadata": {},
   "outputs": [],
   "source": [
    "%%time\n",
    "run_list  = get_available_runs('final')\n",
    "epi_files = ['../{sbj}/{run}/{run}_mPP.nii.gz[0]'.format(sbj=item.split('_')[0],run=item.split('_',1)[1]) for item in run_list]\n",
    "command   = 'module load afni; \\\n",
    "             cd {all_dir}; \\\n",
    "             3dTcat -overwrite -prefix ALL_EPI_firstvols.nii.gz {files}; \\\n",
    "             3dTstat -overwrite -mean -prefix ALL_EPI.nii.gz ALL_EPI_firstvols.nii.gz; \\\n",
    "             rm ALL_EPI_firstvols.nii.gz'.format(all_dir=ALL_DIR, files=' '.join(epi_files))\n",
    "output  = subprocess.check_output(command, shell=True, stderr=subprocess.STDOUT)\n",
    "print(output.strip().decode())"
   ]
  },
  {
   "cell_type": "markdown",
   "metadata": {},
   "source": [
    "***\n",
    "# 3. Create Swarm Scripts for job submission"
   ]
  },
  {
   "cell_type": "code",
   "execution_count": 5,
   "metadata": {},
   "outputs": [],
   "source": [
    "run_list = get_available_runs(when='final')"
   ]
  },
  {
   "cell_type": "code",
   "execution_count": 17,
   "metadata": {},
   "outputs": [
    {
     "name": "stdout",
     "output_type": "stream",
     "text": [
      "++ INFO: Creating logging dir\n"
     ]
    }
   ],
   "source": [
    "if not osp.exists('./N05_Extract_ROI_TS.logs'):\n",
    "    print('++ INFO: Creating logging dir: ./N05_Extract_ROI_TS.logs')\n",
    "    os.mkdir('./N05_Extract_ROI_TS.logs')\n",
    "else:\n",
    "    print('++ INFO: Logging directory already existed')"
   ]
  },
  {
   "cell_type": "code",
   "execution_count": 18,
   "metadata": {},
   "outputs": [],
   "source": [
    "# Create Swarm file for extracting representative power\n",
    "# ==========================================================\n",
    "os.system('echo \"#swarm -f ./N05_Extract_ROI_TS.SWARM.sh -g 64 -t 32 --partition quick,norm --logdir ./N05_Extract_ROI_TS.logs\" > ./N05_Extract_ROI_TS.SWARM.sh')\n",
    "for sbj_run in run_list:\n",
    "    sbj,run  = sbj_run.split('_',1)\n",
    "    out_dir  = osp.join(DATA_DIR,sbj,run)\n",
    "    os.system('echo \"export SBJ={sbj} RUN={run}; sh ./N05_Extract_ROI_TS.sh\" >> ./N05_Extract_ROI_TS.SWARM.sh'.format(sbj=sbj, run=run, ddir=DATA_DIR))"
   ]
  },
  {
   "cell_type": "markdown",
   "metadata": {},
   "source": [
    "***\n",
    "\n",
    "# 4. Check all outputs exists\n",
    "\n",
    "## 4.1. Group Files"
   ]
  },
  {
   "cell_type": "code",
   "execution_count": 3,
   "metadata": {},
   "outputs": [],
   "source": [
    "for group_file in ['ALL_EPI.nii.gz','ALL_T1w_restore_brain.nii.gz','ALL_T2w_restore_brain.nii.gz','ALL_ROI.V4.mPP.nii.gz']:\n",
    "    path = osp.join(DATA_DIR,'ALL',group_file)\n",
    "    if not osp.exists(path):\n",
    "        print(\"++ WARNING: [%s] is missing.\" % path)"
   ]
  },
  {
   "cell_type": "markdown",
   "metadata": {},
   "source": [
    "## 4.2 Subject-specific Files"
   ]
  },
  {
   "cell_type": "code",
   "execution_count": 6,
   "metadata": {},
   "outputs": [
    {
     "name": "stdout",
     "output_type": "stream",
     "text": [
      "CPU times: user 65.2 ms, sys: 147 ms, total: 212 ms\n",
      "Wall time: 3.86 s\n"
     ]
    }
   ],
   "source": [
    "%%time\n",
    "for item in run_list:\n",
    "    sbj,run=item.split('_',1)\n",
    "    for suffix in ['scale.nii.gz', 'Signal.V4_grp.1D', 'Signal.V4_e.1D', 'Signal.Vl_e.1D', 'Signal.FB.1D', 'Signal.GM.1D', 'Signal.WM_e.1D']:\n",
    "        path = osp.join(DATA_DIR,sbj,run,'{run}_mPP.{suffix}'.format(run=run, suffix=suffix))\n",
    "        if not osp.exists(path):\n",
    "            print('++ WARNING: [%s] is missing.' % path)"
   ]
  },
  {
   "cell_type": "code",
   "execution_count": null,
   "metadata": {},
   "outputs": [],
   "source": []
  }
 ],
 "metadata": {
  "jupytext": {
   "formats": "ipynb,py:light"
  },
  "kernelspec": {
   "display_name": "Vigilance Project",
   "language": "python",
   "name": "vigilance"
  },
  "language_info": {
   "codemirror_mode": {
    "name": "ipython",
    "version": 3
   },
   "file_extension": ".py",
   "mimetype": "text/x-python",
   "name": "python",
   "nbconvert_exporter": "python",
   "pygments_lexer": "ipython3",
   "version": "3.8.5"
  }
 },
 "nbformat": 4,
 "nbformat_minor": 4
}
