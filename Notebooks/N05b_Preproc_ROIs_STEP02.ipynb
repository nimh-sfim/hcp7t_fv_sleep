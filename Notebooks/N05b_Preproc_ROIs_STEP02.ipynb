{
 "cells": [
  {
   "cell_type": "markdown",
   "id": "8effc070-81d9-429b-92e8-d9515111ae1a",
   "metadata": {
    "tags": []
   },
   "source": [
    "# Description - Generate Group Level Schaeffer Atlas \n",
    "\n",
    "The purpose of this notebook is to generate a version of the Schaeffer Atlas that only contains ROI with a minimum of 75 voxels once the atlas has been limited to the GM ribbon of all subjects"
   ]
  },
  {
   "cell_type": "code",
   "execution_count": 1,
   "id": "803abce4-a1fd-46d7-925e-af8531c5f221",
   "metadata": {},
   "outputs": [],
   "source": [
    "import pandas as pd\n",
    "import numpy as np\n",
    "import matplotlib.pyplot as plt"
   ]
  },
  {
   "cell_type": "code",
   "execution_count": 2,
   "id": "a94b786a-e01d-474c-bd03-a0f72cb415b6",
   "metadata": {},
   "outputs": [],
   "source": [
    "Minimum_NumVoxels_Size = 75"
   ]
  },
  {
   "cell_type": "markdown",
   "id": "e058a48d-145d-4880-9b34-11155da4a319",
   "metadata": {},
   "source": [
    "***\n",
    "# Combine indivudual subject GM ribbon masks and apply to the Atlas"
   ]
  },
  {
   "cell_type": "markdown",
   "id": "9ae10032-4ef6-4d9e-99ff-4a49ebb6d40f",
   "metadata": {},
   "source": [
    "```bash\n",
    "cd /data/SFIMJGC_HCP7T/HCP7T/ALL\n",
    "# Calculate group-level GM mask\n",
    "# =============================\n",
    "3dMean     -overwrite -prefix ROI.ALL.GM.mPP.avg.nii.gz ../??????/ROI.GM.mPP.nii.gz\n",
    "3dcalc     -overwrite -a ROI.ALL.GM.mPP.avg.nii.gz -expr 'step(a-0.5)' -prefix ROI.ALL.GM.mPP.mask.nii.gz\n",
    "# Resample original Shaeffer Atlas to mPP grid\n",
    "# ============================================\n",
    "3dresample -overwrite -input ../Atlases/Schaefer2018_200Parcels_7Networks/Schaefer2018_200Parcels_7Networks_order_FSLMNI152_2mm.nii.gz \\\n",
    "           -rmode NN -master ROI.ALL.GM.mPP.mask.nii.gz -prefix Schaefer2018_200Parcels_7Networks_order_mPP.nii.gz\n",
    "@MakeLabelTable -lab_file ../Atlases/Schaefer2018_200Parcels_7Networks/Schaefer2018_200Parcels_7Networks_order.txt 1 0 \\\n",
    "                -labeltable Schaefer2018_200Parcels_7Networks_order_mPP.niml.lt -dset Schaefer2018_200Parcels_7Networks_order_mPP.nii.gz\n",
    "# Restrict Atlas to only voxels in the group-level GM mask\n",
    "# ========================================================\n",
    "3dcalc     -overwrite -a Schaefer2018_200Parcels_7Networks_order_mPP.nii.gz -b ROI.ALL.GM.mPP.mask.nii.gz \\\n",
    "           -expr 'a*b' -prefix rm.Schaefer2018_200Parcels_7Networks_order_mPP.GM_Ribbon.nii.gz\n",
    "@MakeLabelTable -lab_file ../Atlases/Schaefer2018_200Parcels_7Networks/Schaefer2018_200Parcels_7Networks_order.txt 1 0 \\\n",
    "                -labeltable Schaefer2018_200Parcels_7Networks_order_mPP.GM_Ribbon.niml.lt -dset rm.Schaefer2018_200Parcels_7Networks_order_mPP.GM_Ribbon.nii.gz\n",
    "# Gather information about size of ROIs after being constrained to the group-level GM ribbon\n",
    "# ==========================================================================================\n",
    "3dROIstats -nzvoxels -mask rm.Schaefer2018_200Parcels_7Networks_order_mPP.GM_Ribbon.nii.gz \\\n",
    "                           rm.Schaefer2018_200Parcels_7Networks_order_mPP.GM_Ribbon.nii.gz > rm.Schaefer2018_200Parcels_7Networks_order_mPP.GM_Ribbon.info.txt\n",
    "```"
   ]
  },
  {
   "cell_type": "markdown",
   "id": "fc29237d-bc7a-448a-924a-15804d6a90f9",
   "metadata": {},
   "source": [
    "***\n",
    "# Check for excessively small ROIs\n",
    "\n",
    "Given the imaging FOV, some lower ROIs end up with only a handful of valid voxels. It is better to remove those from the atlas to avoid issues later.\n",
    "\n",
    "The code below does the following:\n",
    "\n",
    "* Loads into memory the information obtained from 3dROIstats above: for each ROI we have the ROI ID and the number of voxels in the ROI\n",
    "* Re-arranges that information into a dataframe so that is it easy to us\n",
    "* Finds the ROIs with less voxels than the set threshold of 75 voxels\n",
    "* Prints information to the screen about which ROIs are those"
   ]
  },
  {
   "cell_type": "code",
   "execution_count": 3,
   "id": "518423dc-54aa-4cb9-aeeb-aa123d6307de",
   "metadata": {},
   "outputs": [],
   "source": [
    "# Load information about ROI sizes\n",
    "aux_roi_info = pd.read_csv('/data/SFIMJGC_HCP7T/HCP7T/ALL/rm.Schaefer2018_200Parcels_7Networks_order_mPP.GM_Ribbon.info.txt', sep='\\t').T.drop(['File','Sub-brick'])"
   ]
  },
  {
   "cell_type": "code",
   "execution_count": 4,
   "id": "85f6f3c6-95b9-4cc7-a4db-56c8319fea50",
   "metadata": {},
   "outputs": [],
   "source": [
    "# Extract columns with ROI IDs (mean) and Number of voxles (NZcount) as well as a clean list of ROI Names\n",
    "mean_indexes  = [c for c in aux_roi_info.index if 'Mean'    in c]\n",
    "nzvox_indexes = [c for c in aux_roi_info.index if 'NZcount' in c]\n",
    "roi_indexes   = [(c.split('_',2)[2]).strip() for c in aux_roi_info.index if 'Mean'    in c]"
   ]
  },
  {
   "cell_type": "code",
   "execution_count": 5,
   "id": "406e274e-4cf0-4f63-aed1-53b5e37a6c46",
   "metadata": {},
   "outputs": [],
   "source": [
    "# Reformat the information in a way that it is easily manageable\n",
    "roi_info = pd.DataFrame(columns=['ROI ID','ROI Size'], index=roi_indexes)\n",
    "roi_info['ROI ID']   = aux_roi_info.loc[mean_indexes].values\n",
    "roi_info['ROI ID']   = roi_info['ROI ID'].astype(int)\n",
    "roi_info['ROI Size'] = aux_roi_info.loc[nzvox_indexes].values"
   ]
  },
  {
   "cell_type": "code",
   "execution_count": 6,
   "id": "f8846752-6703-4173-a901-cf3b5ba3ac4c",
   "metadata": {},
   "outputs": [
    {
     "data": {
      "text/plain": [
       "Text(0.5, 1.0, 'Distribition of ROI Sizes in Schaeffer Atlas (GM Ribbon)')"
      ]
     },
     "execution_count": 6,
     "metadata": {},
     "output_type": "execute_result"
    }
   ],
   "source": [
    "# Histogram of ROI Sizes\n",
    "# ======================\n",
    "fig = roi_info.plot.hist(y='ROI Size', bins=100)\n",
    "plt.plot([Minimum_NumVoxels_Size, Minimum_NumVoxels_Size],[0,8],'k--')\n",
    "fig.set_title('Distribition of ROI Sizes in Schaeffer Atlas (GM Ribbon)')"
   ]
  },
  {
   "cell_type": "code",
   "execution_count": 7,
   "id": "d12d9225-c90e-4526-b671-20462b101a99",
   "metadata": {},
   "outputs": [
    {
     "data": {
      "text/html": [
       "<div>\n",
       "<style scoped>\n",
       "    .dataframe tbody tr th:only-of-type {\n",
       "        vertical-align: middle;\n",
       "    }\n",
       "\n",
       "    .dataframe tbody tr th {\n",
       "        vertical-align: top;\n",
       "    }\n",
       "\n",
       "    .dataframe thead th {\n",
       "        text-align: right;\n",
       "    }\n",
       "</style>\n",
       "<table border=\"1\" class=\"dataframe\">\n",
       "  <thead>\n",
       "    <tr style=\"text-align: right;\">\n",
       "      <th></th>\n",
       "      <th>ROI ID</th>\n",
       "      <th>ROI Size</th>\n",
       "    </tr>\n",
       "  </thead>\n",
       "  <tbody>\n",
       "    <tr>\n",
       "      <th>LH_Limbic_OFC_2</th>\n",
       "      <td>56</td>\n",
       "      <td>20</td>\n",
       "    </tr>\n",
       "    <tr>\n",
       "      <th>LH_Default_Temp_2</th>\n",
       "      <td>75</td>\n",
       "      <td>31</td>\n",
       "    </tr>\n",
       "    <tr>\n",
       "      <th>RH_Limbic_OFC_1</th>\n",
       "      <td>159</td>\n",
       "      <td>1</td>\n",
       "    </tr>\n",
       "  </tbody>\n",
       "</table>\n",
       "</div>"
      ],
      "text/plain": [
       "                   ROI ID ROI Size\n",
       "LH_Limbic_OFC_2        56       20\n",
       "LH_Default_Temp_2      75       31\n",
       "RH_Limbic_OFC_1       159        1"
      ]
     },
     "execution_count": 7,
     "metadata": {},
     "output_type": "execute_result"
    }
   ],
   "source": [
    "# List of ROIs to remove from the Atlas\n",
    "# =====================================\n",
    "roi_info[roi_info['ROI Size'] < Minimum_NumVoxels_Size]"
   ]
  },
  {
   "cell_type": "code",
   "execution_count": 8,
   "id": "7582b408-1a97-452f-9a4e-a9547123a5d0",
   "metadata": {},
   "outputs": [
    {
     "name": "stdout",
     "output_type": "stream",
     "text": [
      "[56, 75, 159]\n"
     ]
    }
   ],
   "source": [
    "rois_to_delete = list(roi_info[roi_info['ROI Size'] < Minimum_NumVoxels_Size]['ROI ID'].values)\n",
    "print(rois_to_delete)"
   ]
  },
  {
   "cell_type": "code",
   "execution_count": 9,
   "id": "494d8a82-6ded-4b3f-b0c0-a7f8c87f2a0f",
   "metadata": {},
   "outputs": [
    {
     "name": "stdout",
     "output_type": "stream",
     "text": [
      "++ INFO: Final Number of ROIs in ATLAS = 197\n"
     ]
    }
   ],
   "source": [
    "print('++ INFO: Final Number of ROIs in ATLAS = %d' % roi_info[roi_info['ROI Size'] >= Minimum_NumVoxels_Size].shape[0])"
   ]
  },
  {
   "cell_type": "markdown",
   "id": "990681de-8239-4ac2-ae83-f8220c060f27",
   "metadata": {},
   "source": [
    "In addition, it looks like some additional ROIs may cause issues later becuase they have flat time series\n",
    "\n",
    "* 191 (flat timeseries 146735/rfMRI_REST1_PA) --> hemispheric equivalent: 84"
   ]
  },
  {
   "cell_type": "code",
   "execution_count": 10,
   "id": "d448dc9a-fa20-4ae5-9b98-56300502318b",
   "metadata": {},
   "outputs": [
    {
     "name": "stdout",
     "output_type": "stream",
     "text": [
      "++ INFO: Final Number of ROIs in ATLAS = 195\n"
     ]
    },
    {
     "data": {
      "text/plain": [
       "[56, 75, 159, 191, 84]"
      ]
     },
     "execution_count": 10,
     "metadata": {},
     "output_type": "execute_result"
    }
   ],
   "source": [
    "rois_to_delete = rois_to_delete + [191, 84]\n",
    "print('++ INFO: Final Number of ROIs in ATLAS = %d' % (roi_info.shape[0] - len(rois_to_delete)))\n",
    "rois_to_delete"
   ]
  },
  {
   "cell_type": "markdown",
   "id": "351760b0-88c8-41e8-9f38-4fef89f9b72f",
   "metadata": {},
   "source": [
    "***\n",
    "# Create an updated Label Table file with only the remaining ROIs\n",
    "\n",
    "When ROIs are removed, you end up with a discontinued set of ROI IDs. This is not optimal and needs to be corrected. To do so, we need to:\n",
    "\n",
    "* Create a new label file with only the remaining ROIs and with the ROI IDs changed to their rank\n",
    "* Create a new AFNI dataset with the ROIs also changed to their rank\n",
    "* Attach the new label file to the new ROI AFNI dataset so that we have a correct final parcellation\n",
    "\n",
    "Outputs:\n",
    "\n",
    "* ```Schaefer2018_200Parcels_7Networks_order_mPP.GM_Ribbon_order.txt```: Correct label table file for the final version of the atlas\n",
    "* ```Schaefer2018_200Parcels_7Networks_order_mPP.GM_Ribbon.nii.gz```: Correct final version of the atlas"
   ]
  },
  {
   "cell_type": "code",
   "execution_count": 11,
   "id": "0942b729-c65a-4a18-8be2-0a026b117c64",
   "metadata": {},
   "outputs": [],
   "source": [
    "aux = pd.read_csv('/data/SFIMJGC_HCP7T/HCP7T/Atlases/Schaefer2018_200Parcels_7Networks/Schaefer2018_200Parcels_7Networks_order.txt',sep='\\t', header=None)\n",
    "aux = aux.drop(rois_to_delete)\n",
    "aux.index = np.arange(aux.shape[0]) + 1\n",
    "aux = aux.drop(0,axis=1)\n",
    "aux.to_csv('/data/SFIMJGC_HCP7T/HCP7T/ALL/Schaefer2018_200Parcels_7Networks_order_mPP.GM_Ribbon_order.txt', sep='\\t', header=None)"
   ]
  },
  {
   "cell_type": "markdown",
   "id": "12f99dc3-9e05-4c9b-a8f0-f77d415cb89e",
   "metadata": {},
   "source": [
    "***\n",
    "\n",
    "# Create an updated Coordinate File for the Atlas"
   ]
  },
  {
   "cell_type": "code",
   "execution_count": 12,
   "id": "208ec34c-659d-46f4-85ac-f8ea02a5a738",
   "metadata": {},
   "outputs": [],
   "source": [
    "Nw2Id={'Vis':1,'SomMot':2,'DorsAttn':3,'SalVentAttn':4,'Limbic':5,'Cont':6,'Default':7}"
   ]
  },
  {
   "cell_type": "code",
   "execution_count": 13,
   "id": "de4875ad-18e7-48a9-abc9-acf642589e2a",
   "metadata": {},
   "outputs": [
    {
     "data": {
      "text/html": [
       "<div>\n",
       "<style scoped>\n",
       "    .dataframe tbody tr th:only-of-type {\n",
       "        vertical-align: middle;\n",
       "    }\n",
       "\n",
       "    .dataframe tbody tr th {\n",
       "        vertical-align: top;\n",
       "    }\n",
       "\n",
       "    .dataframe thead th {\n",
       "        text-align: right;\n",
       "    }\n",
       "</style>\n",
       "<table border=\"1\" class=\"dataframe\">\n",
       "  <thead>\n",
       "    <tr style=\"text-align: right;\">\n",
       "      <th></th>\n",
       "      <th>ROI Label</th>\n",
       "      <th>ROI Name</th>\n",
       "      <th>R</th>\n",
       "      <th>A</th>\n",
       "      <th>S</th>\n",
       "      <th>Short ROI Name</th>\n",
       "      <th>Node Size</th>\n",
       "      <th>Node Color</th>\n",
       "    </tr>\n",
       "  </thead>\n",
       "  <tbody>\n",
       "    <tr>\n",
       "      <th>0</th>\n",
       "      <td>1</td>\n",
       "      <td>7Networks_LH_Vis_1</td>\n",
       "      <td>-24</td>\n",
       "      <td>-54</td>\n",
       "      <td>-10</td>\n",
       "      <td>LH_Vis_1</td>\n",
       "      <td>1</td>\n",
       "      <td>1</td>\n",
       "    </tr>\n",
       "    <tr>\n",
       "      <th>1</th>\n",
       "      <td>2</td>\n",
       "      <td>7Networks_LH_Vis_2</td>\n",
       "      <td>-26</td>\n",
       "      <td>-78</td>\n",
       "      <td>-14</td>\n",
       "      <td>LH_Vis_2</td>\n",
       "      <td>1</td>\n",
       "      <td>1</td>\n",
       "    </tr>\n",
       "    <tr>\n",
       "      <th>2</th>\n",
       "      <td>3</td>\n",
       "      <td>7Networks_LH_Vis_3</td>\n",
       "      <td>-46</td>\n",
       "      <td>-70</td>\n",
       "      <td>-8</td>\n",
       "      <td>LH_Vis_3</td>\n",
       "      <td>1</td>\n",
       "      <td>1</td>\n",
       "    </tr>\n",
       "    <tr>\n",
       "      <th>3</th>\n",
       "      <td>4</td>\n",
       "      <td>7Networks_LH_Vis_4</td>\n",
       "      <td>-10</td>\n",
       "      <td>-68</td>\n",
       "      <td>-4</td>\n",
       "      <td>LH_Vis_4</td>\n",
       "      <td>1</td>\n",
       "      <td>1</td>\n",
       "    </tr>\n",
       "    <tr>\n",
       "      <th>4</th>\n",
       "      <td>5</td>\n",
       "      <td>7Networks_LH_Vis_5</td>\n",
       "      <td>-26</td>\n",
       "      <td>-96</td>\n",
       "      <td>-12</td>\n",
       "      <td>LH_Vis_5</td>\n",
       "      <td>1</td>\n",
       "      <td>1</td>\n",
       "    </tr>\n",
       "    <tr>\n",
       "      <th>...</th>\n",
       "      <td>...</td>\n",
       "      <td>...</td>\n",
       "      <td>...</td>\n",
       "      <td>...</td>\n",
       "      <td>...</td>\n",
       "      <td>...</td>\n",
       "      <td>...</td>\n",
       "      <td>...</td>\n",
       "    </tr>\n",
       "    <tr>\n",
       "      <th>190</th>\n",
       "      <td>191</td>\n",
       "      <td>7Networks_RH_Default_PFCdPFCm_6</td>\n",
       "      <td>28</td>\n",
       "      <td>30</td>\n",
       "      <td>42</td>\n",
       "      <td>RH_Default_PFCdPFCm_6</td>\n",
       "      <td>1</td>\n",
       "      <td>7</td>\n",
       "    </tr>\n",
       "    <tr>\n",
       "      <th>191</th>\n",
       "      <td>192</td>\n",
       "      <td>7Networks_RH_Default_PFCdPFCm_7</td>\n",
       "      <td>24</td>\n",
       "      <td>24</td>\n",
       "      <td>54</td>\n",
       "      <td>RH_Default_PFCdPFCm_7</td>\n",
       "      <td>1</td>\n",
       "      <td>7</td>\n",
       "    </tr>\n",
       "    <tr>\n",
       "      <th>192</th>\n",
       "      <td>193</td>\n",
       "      <td>7Networks_RH_Default_pCunPCC_1</td>\n",
       "      <td>12</td>\n",
       "      <td>-54</td>\n",
       "      <td>14</td>\n",
       "      <td>RH_Default_pCunPCC_1</td>\n",
       "      <td>1</td>\n",
       "      <td>7</td>\n",
       "    </tr>\n",
       "    <tr>\n",
       "      <th>193</th>\n",
       "      <td>194</td>\n",
       "      <td>7Networks_RH_Default_pCunPCC_2</td>\n",
       "      <td>6</td>\n",
       "      <td>-48</td>\n",
       "      <td>30</td>\n",
       "      <td>RH_Default_pCunPCC_2</td>\n",
       "      <td>1</td>\n",
       "      <td>7</td>\n",
       "    </tr>\n",
       "    <tr>\n",
       "      <th>194</th>\n",
       "      <td>195</td>\n",
       "      <td>7Networks_RH_Default_pCunPCC_3</td>\n",
       "      <td>6</td>\n",
       "      <td>-58</td>\n",
       "      <td>44</td>\n",
       "      <td>RH_Default_pCunPCC_3</td>\n",
       "      <td>1</td>\n",
       "      <td>7</td>\n",
       "    </tr>\n",
       "  </tbody>\n",
       "</table>\n",
       "<p>195 rows × 8 columns</p>\n",
       "</div>"
      ],
      "text/plain": [
       "     ROI Label                         ROI Name   R   A   S  \\\n",
       "0            1               7Networks_LH_Vis_1 -24 -54 -10   \n",
       "1            2               7Networks_LH_Vis_2 -26 -78 -14   \n",
       "2            3               7Networks_LH_Vis_3 -46 -70  -8   \n",
       "3            4               7Networks_LH_Vis_4 -10 -68  -4   \n",
       "4            5               7Networks_LH_Vis_5 -26 -96 -12   \n",
       "..         ...                              ...  ..  ..  ..   \n",
       "190        191  7Networks_RH_Default_PFCdPFCm_6  28  30  42   \n",
       "191        192  7Networks_RH_Default_PFCdPFCm_7  24  24  54   \n",
       "192        193   7Networks_RH_Default_pCunPCC_1  12 -54  14   \n",
       "193        194   7Networks_RH_Default_pCunPCC_2   6 -48  30   \n",
       "194        195   7Networks_RH_Default_pCunPCC_3   6 -58  44   \n",
       "\n",
       "            Short ROI Name  Node Size  Node Color  \n",
       "0                 LH_Vis_1          1           1  \n",
       "1                 LH_Vis_2          1           1  \n",
       "2                 LH_Vis_3          1           1  \n",
       "3                 LH_Vis_4          1           1  \n",
       "4                 LH_Vis_5          1           1  \n",
       "..                     ...        ...         ...  \n",
       "190  RH_Default_PFCdPFCm_6          1           7  \n",
       "191  RH_Default_PFCdPFCm_7          1           7  \n",
       "192   RH_Default_pCunPCC_1          1           7  \n",
       "193   RH_Default_pCunPCC_2          1           7  \n",
       "194   RH_Default_pCunPCC_3          1           7  \n",
       "\n",
       "[195 rows x 8 columns]"
      ]
     },
     "execution_count": 13,
     "metadata": {},
     "output_type": "execute_result"
    }
   ],
   "source": [
    "aux = pd.read_csv('/data/SFIMJGC_HCP7T/HCP7T/Atlases/Schaefer2018_200Parcels_7Networks/Schaefer2018_200Parcels_7Networks_order_FSLMNI152_2mm.Centroid_RAS.csv')\n",
    "aux = aux.drop(rois_to_delete)\n",
    "aux = aux.reset_index(drop=True)\n",
    "aux['Short ROI Name'] = [n.split('_',1)[1] for n in aux['ROI Name']]\n",
    "aux['Node Size']  = 1\n",
    "aux['Node Color'] = [Nw2Id[n.split('_')[2]] for n in aux['ROI Name']]\n",
    "aux['ROI Label']  = aux.index + 1\n",
    "aux"
   ]
  },
  {
   "cell_type": "code",
   "execution_count": 14,
   "id": "f113a4dd-8f43-459b-b92c-150f4be64cd6",
   "metadata": {},
   "outputs": [],
   "source": [
    "aux.to_csv('/data/SFIMJGC_HCP7T/HCP7T/ALL/Schaefer2018_200Parcels_7Networks_order_mPP.GM_Ribbon.Centroid_RAS.csv', sep=',', index=None)\n",
    "aux[['R','A','S']].to_csv('/data/SFIMJGC_HCP7T/hcp7t_fv_sleep/Resources/NBS_Node_Coordinates.txt', sep=' ', index=None, header=None)\n",
    "aux['ROI Name'].to_csv('/data/SFIMJGC_HCP7T/hcp7t_fv_sleep/Resources/NBS_Node_Labels.txt', sep=' ', index=None, header=None)"
   ]
  },
  {
   "cell_type": "markdown",
   "id": "33d1414a-5666-454e-abba-9f870aeea47c",
   "metadata": {},
   "source": [
    "### Create BrainNetViewer Node File"
   ]
  },
  {
   "cell_type": "code",
   "execution_count": 15,
   "id": "806e02fb-b11c-4bc3-ae67-16d0edd2cabf",
   "metadata": {},
   "outputs": [],
   "source": [
    "aux[['R','A','S','Node Color','Node Size','Short ROI Name']].to_csv('/data/SFIMJGC_HCP7T/hcp7t_fv_sleep/Resources/BrainNet_Nodes.node', sep=' ', index=None, header=None)"
   ]
  },
  {
   "cell_type": "markdown",
   "id": "bb77fedf-0c40-4740-b799-1de9a62d54f9",
   "metadata": {},
   "source": [
    "***\n",
    "# Remove Small ROIs from the Atlas"
   ]
  },
  {
   "cell_type": "markdown",
   "id": "ea3905df-c365-4dc2-9ec9-51485dd7770d",
   "metadata": {},
   "source": [
    "Based on the information provided in the previous two cells, it looks like we need to eliminate 3 ROIs from the atlas to avoid future isses regarding working with small ROIs for which we may have only a few bad voxels at the borders. To do that, please run the following code:\n",
    "\n",
    "```bash\n",
    "cd /data/SFIMJGC_HCP7T/HCP7T/ALL\n",
    "3dcalc -overwrite -a rm.Schaefer2018_200Parcels_7Networks_order_mPP.GM_Ribbon.nii.gz \\\n",
    "       -expr 'a-56*equals(a,56)-75*equals(a,75)-159*equals(a,159)-191*equals(a,191)-84*equals(a,84)' \\\n",
    "       -prefix rm.Schaefer2018_200Parcels_7Networks_order_mPP.GM_Ribbon.nii.gz\n",
    "\n",
    "3dmerge -overwrite -1rank \\\n",
    "        -prefix Schaefer2018_200Parcels_7Networks_order_mPP.GM_Ribbon.nii.gz \\\n",
    "        rm.Schaefer2018_200Parcels_7Networks_order_mPP.GM_Ribbon.nii.gz       \n",
    "       \n",
    "@MakeLabelTable -lab_file  Schaefer2018_200Parcels_7Networks_order_mPP.GM_Ribbon_order.txt 1 0 \\\n",
    "                -labeltable Schaefer2018_200Parcels_7Networks_order_mPP.GM_Ribbon.niml.lt\\\n",
    "                -dset Schaefer2018_200Parcels_7Networks_order_mPP.GM_Ribbon.nii.gz\n",
    "```\n",
    "\n",
    "> **NOTE:** Be aware that the ROIs being eliminated are hardcoded in the 3dcalc command. If those need to be changed, you will need to change that command accordingly"
   ]
  },
  {
   "cell_type": "code",
   "execution_count": null,
   "id": "fee986fb-11f2-469f-abdd-45650b7b9b89",
   "metadata": {},
   "outputs": [],
   "source": []
  }
 ],
 "metadata": {
  "jupytext": {
   "formats": "ipynb,py:light"
  },
  "kernelspec": {
   "display_name": "hcp7t_fv_sleep_env",
   "language": "python",
   "name": "hcp7t_fv_sleep_env"
  },
  "language_info": {
   "codemirror_mode": {
    "name": "ipython",
    "version": 3
   },
   "file_extension": ".py",
   "mimetype": "text/x-python",
   "name": "python",
   "nbconvert_exporter": "python",
   "pygments_lexer": "ipython3",
   "version": "3.7.11"
  }
 },
 "nbformat": 4,
 "nbformat_minor": 5
}
