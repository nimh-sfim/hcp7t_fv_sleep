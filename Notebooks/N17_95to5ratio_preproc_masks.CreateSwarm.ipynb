{
 "cells": [
  {
   "cell_type": "markdown",
   "id": "b1ac1388-fa14-4600-9c3d-abd1604ad443",
   "metadata": {},
   "source": [
    "# Description\n",
    "\n",
    "This notebook does some basic pre-processing on data in orig space for the purpose of conducting the per-slice 95th-5th percentile analysis.\n",
    "\n",
    "In particular, for each Drowsy scan of interest, we perform the following steps:\n",
    "\n",
    "1. Discard initial 10s of data --> ```${RUN}_orig.discard.nii.gz```\n",
    "2. Time-shift correct the data --> ```${RUN}_orig.tshift.nii.gz```\n",
    "3. Detrend the time-shifted data (mean re-introduced) --> ```${RUN}_orig.detrend.nii.gz```\n",
    "4. Compute MEAN and STDV maps --> ```${RUN}_orig.MEAN.nii.gz``` and ```${RUN}_orig.STDV.nii.gz```\n",
    "5. Create Full Brain mask --> ```${RUN}_orig.mask.FB_auto.nii.gz```\n",
    "6. Create Automated version of the ventricular mask --> ```${RUN}_orig.mask.FV.auto_union.nii.gz```\n",
    "7. Copy automated mask into ```${RUN}_orig.mask.FV.manual.nii.gz``` \n",
    "\n",
    "After this, it was necessary to have manual intervention to generate an accurate version of the ventricular mask in original space\n",
    "\n",
    "***\n",
    "\n",
    "#### Load necessary libraries"
   ]
  },
  {
   "cell_type": "code",
   "execution_count": 2,
   "id": "3bcca5e8-7bd1-4b0b-b822-0cddcfaab19f",
   "metadata": {},
   "outputs": [],
   "source": [
    "import os.path as osp\n",
    "import os\n",
    "import numpy as np\n",
    "import subprocess\n",
    "from utils.variables import Resources_Dir, DATA_DIR"
   ]
  },
  {
   "cell_type": "markdown",
   "id": "2f7d23a6-57f8-4b22-83b0-c3933eda24cd",
   "metadata": {},
   "source": [
    "#### Load list of scans with long EC segments on interest"
   ]
  },
  {
   "cell_type": "code",
   "execution_count": 3,
   "id": "d3924ae9-2c40-4fb3-a81d-cab4b8bf3a6d",
   "metadata": {},
   "outputs": [
    {
     "name": "stdout",
     "output_type": "stream",
     "text": [
      "['115017_rfMRI_REST1_PA' '115017_rfMRI_REST3_PA' '115825_rfMRI_REST1_PA'\n",
      " '134627_rfMRI_REST1_PA' '134627_rfMRI_REST3_PA' '134829_rfMRI_REST1_PA'\n",
      " '134829_rfMRI_REST3_PA' '146432_rfMRI_REST1_PA' '146432_rfMRI_REST2_AP'\n",
      " '164131_rfMRI_REST1_PA' '173334_rfMRI_REST3_PA' '175237_rfMRI_REST2_AP'\n",
      " '198653_rfMRI_REST1_PA' '199655_rfMRI_REST3_PA' '581450_rfMRI_REST3_PA'\n",
      " '581450_rfMRI_REST4_AP' '782561_rfMRI_REST2_AP' '826353_rfMRI_REST2_AP'\n",
      " '899885_rfMRI_REST3_PA' '942658_rfMRI_REST4_AP' '943862_rfMRI_REST1_PA'\n",
      " '943862_rfMRI_REST3_PA' '966975_rfMRI_REST1_PA' '966975_rfMRI_REST3_PA'\n",
      " '966975_rfMRI_REST4_AP' '995174_rfMRI_REST3_PA']\n"
     ]
    }
   ],
   "source": [
    "selected_scans_csv_path = osp.join(Resources_Dir,'EC_lowMot_highPSD_scans.csv')\n",
    "scan_list               = np.loadtxt(selected_scans_csv_path,dtype=str)\n",
    "print(scan_list)"
   ]
  },
  {
   "cell_type": "markdown",
   "id": "14a210fa-63e5-4ada-b565-93a75c9767eb",
   "metadata": {
    "tags": []
   },
   "source": [
    "#### Create Log Dir for swarm jobs"
   ]
  },
  {
   "cell_type": "code",
   "execution_count": 4,
   "id": "177464c4-921c-4051-9c73-bee6655705c1",
   "metadata": {
    "tags": []
   },
   "outputs": [],
   "source": [
    "# Create log dir for swarm jobs to write their output and error messages\n",
    "# ======================================================================\n",
    "if not osp.exists('./N17_95to5ratio_preproc_masks.logs'):\n",
    "    print('++ INFO: Creating logging dir: N17_95to5ratio_preproc_masks.logs')\n",
    "    os.mkdir('./N17_95to5ratio_preproc_masks.logs')"
   ]
  },
  {
   "cell_type": "markdown",
   "id": "ce41d05c-297d-4e80-923a-86b4d0d0f951",
   "metadata": {},
   "source": [
    "#### Create Swarm File"
   ]
  },
  {
   "cell_type": "code",
   "execution_count": 5,
   "id": "a754aed2-7d92-44b8-ac3c-709961e35ee7",
   "metadata": {},
   "outputs": [],
   "source": [
    "# Create Swarm file for extracting representative power\n",
    "# ======================================================\n",
    "os.system('echo \"#swarm -f ./N17_95to5ratio_preproc_masks.SWARM.sh -g 16 -t 16 --partition quick,norm --module afni --logdir ./N17_95to5ratio_preproc_masks.logs\" > ./N17_95to5ratio_preproc_masks.SWARM.sh')\n",
    "for item in scan_list:\n",
    "    sbj,run = item.split('_',1)\n",
    "    os.system('echo \"export SBJ={sbj} RUN={run}; sh ./N17_95to5ratio_preproc_masks.sh\" >> ./N17_95to5ratio_preproc_masks.SWARM.sh'.format(sbj=sbj,run=run))"
   ]
  },
  {
   "cell_type": "markdown",
   "id": "0637eac6-452f-4d02-bbc8-64526e880e03",
   "metadata": {},
   "source": [
    "***\n",
    "\n",
    "# BEFORE GOING TO N18, YOU NEED TO MANUALLY CORRECT THE MASKS\n",
    "\n",
    "In AFNI correct the ```${RUN}_orig.mask.FV.manual.nii.gz``` so that it only includes voxels of interest in the 4th ventricle\n"
   ]
  }
 ],
 "metadata": {
  "jupytext": {
   "formats": "ipynb,py:light"
  },
  "kernelspec": {
   "display_name": "hcp7t_fv_sleep_env",
   "language": "python",
   "name": "hcp7t_fv_sleep_env"
  },
  "language_info": {
   "codemirror_mode": {
    "name": "ipython",
    "version": 3
   },
   "file_extension": ".py",
   "mimetype": "text/x-python",
   "name": "python",
   "nbconvert_exporter": "python",
   "pygments_lexer": "ipython3",
   "version": "3.7.11"
  }
 },
 "nbformat": 4,
 "nbformat_minor": 5
}
