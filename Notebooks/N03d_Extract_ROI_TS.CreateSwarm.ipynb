{
 "cells": [
  {
   "cell_type": "markdown",
   "metadata": {},
   "source": [
    "# Description\n",
    "\n",
    "1. Create average (group-level) T1, T2 and EPI reference image\n",
    "\n",
    "2. Create consensus (group-level) 4th Ventricle ROI\n",
    "\n",
    "2. Create consensus (group-level) iFV ROI\n",
    "\n",
    "3. Create a Swarm file for batch processing of all subjects. Processing steps include:\n",
    "\n",
    "* Generate new mPP dataset with Signal Percent Units\n",
    "\n",
    "* Extract representative time-series (based on SPC dataset) for GM, Full Brain (Global Signal), FV (using group ROI), FV (using subject-specific ROI), lateral ventricles, WM.\n",
    "\n",
    "## Ouputs\n",
    "\n",
    "### Group-level Files\n",
    "\n",
    "* ```${DATA_DIR}/ALL/ALL_T1w_restore_brain.nii.gz```: average T1 image across all subjects\n",
    "* ```${DATA_DIR}/ALL/ALL_T2w_restore_brain.nii.gz```: average T2 image across all subjects\n",
    "* ```${DATA_DIR}/ALL/ALL_EPI.nii.gz```: average EPI across all runs\n",
    "* ```${DATA_DIR}/ALL/ALL_ROI.V4.mPP.nii.gz```: group-level FV ROI.\n",
    "* ```${DATA_DIR}/ALL/ALL_ROI.V4lt.mPP.nii.gz```: group-level iFV ROI.\n",
    "\n",
    "\n",
    "### Run Specific Outputs\n",
    "* ```${DATA_DIR}/${SBJ}/${RUN}/${RUN}_mPP.scale.nii.gz```:     minimally pre-processed dataset in units of signal percent change.\n",
    "* ```${DATA_DIR}/${SBJ}/${RUN}/${RUN}_mPP.Signal.V4_grp.1D```: representative timeseries for FV (using group-level ROI)\n",
    "* ```${DATA_DIR}/${SBJ}/${RUN}/${RUN}_mPP.Signal.V4_e.1D```:   representative timeseries for FV (using subject-specific ROI)\n",
    "* ```${DATA_DIR}/${SBJ}/${RUN}/${RUN}_mPP.Signal.Vl_e.1D```:   representative timeseries for the laterval ventricles eroded (subject-specific)\n",
    "* ```${DATA_DIR}/${SBJ}/${RUN}/${RUN}_mPP.Signal.FB.1D```:     global signal (full brain - subject-specific)\n",
    "* ```${DATA_DIR}/${SBJ}/${RUN}/${RUN}_mPP.Signal.GM.1D```:     global signal (GM ribbon only - subject-specific)\n",
    "* ```${DATA_DIR}/${SBJ}/${RUN}/${RUN}_mPP.Signal.WM_e.1D```:   representative WM signal (subject-specific)\n",
    "\n",
    "***"
   ]
  },
  {
   "cell_type": "code",
   "execution_count": 1,
   "metadata": {},
   "outputs": [],
   "source": [
    "import os\n",
    "import os.path as osp\n",
    "import numpy as np\n",
    "import pandas as pd\n",
    "import subprocess\n",
    "\n",
    "from utils.variables import Resources_Dir, DATA_DIR\n",
    "from utils.basics import get_7t_subjects, get_available_runs"
   ]
  },
  {
   "cell_type": "code",
   "execution_count": 2,
   "metadata": {},
   "outputs": [
    {
     "name": "stdout",
     "output_type": "stream",
     "text": [
      "++ INFO: Number of subjects: 183\n",
      "++ INFO: Number of runs:     404\n"
     ]
    }
   ],
   "source": [
    "Sbjs     = get_7t_subjects()\n",
    "Runs     = get_available_runs(when='final', type='all')\n",
    "print('++ INFO: Number of subjects: %d' % len(Sbjs))\n",
    "print('++ INFO: Number of runs:     %d' % len(Runs))"
   ]
  },
  {
   "cell_type": "markdown",
   "metadata": {},
   "source": [
    "***\n",
    "## 1. Create folder where to save group-level files"
   ]
  },
  {
   "cell_type": "code",
   "execution_count": 3,
   "metadata": {},
   "outputs": [
    {
     "name": "stdout",
     "output_type": "stream",
     "text": [
      "++ INFO: Group level folder already existed. None were created at this time\n"
     ]
    }
   ],
   "source": [
    "ALL_DIR = osp.join(DATA_DIR,'ALL')\n",
    "if not osp.exists(ALL_DIR):\n",
    "    os.mkdir(ALL_DIR)\n",
    "    print('++ INFO: New folder for group results created')\n",
    "else:\n",
    "    print('++ INFO: Group level folder already existed. None were created at this time')"
   ]
  },
  {
   "cell_type": "markdown",
   "metadata": {},
   "source": [
    "***\n",
    "# 2. Create Average T1, T2 and EPI images for reference in group folder"
   ]
  },
  {
   "cell_type": "code",
   "execution_count": 4,
   "metadata": {},
   "outputs": [
    {
     "name": "stdout",
     "output_type": "stream",
     "text": [
      "[+] Loading AFNI current-openmp  ... \n",
      "AFNI/current-openmp last updated  2022-01-27\n",
      "\n",
      "++ 3dMean: AFNI version=AFNI_22.0.03 (Jan 18 2022) [64-bit]\n",
      "CPU times: user 3.5 ms, sys: 7.45 ms, total: 11 ms\n",
      "Wall time: 1min 34s\n"
     ]
    }
   ],
   "source": [
    "%%time\n",
    "t1_files = ['../{sbj}/T1w_restore_brain.nii.gz'.format(sbj=sbj) for sbj in Sbjs]\n",
    "command  = 'module load afni; \\\n",
    "            cd {all_dir}; \\\n",
    "            3dMean -overwrite -prefix ALL_T1w_restore_brain.nii.gz {files};'.format(all_dir=ALL_DIR,files=' '.join(t1_files))\n",
    "output  = subprocess.check_output(command, shell=True, stderr=subprocess.STDOUT)\n",
    "print(output.strip().decode())"
   ]
  },
  {
   "cell_type": "code",
   "execution_count": 5,
   "metadata": {},
   "outputs": [
    {
     "name": "stdout",
     "output_type": "stream",
     "text": [
      "[+] Loading AFNI current-openmp  ... \n",
      "AFNI/current-openmp last updated  2022-01-27\n",
      "\n",
      "++ 3dMean: AFNI version=AFNI_22.0.03 (Jan 18 2022) [64-bit]\n",
      "CPU times: user 3.25 ms, sys: 7.95 ms, total: 11.2 ms\n",
      "Wall time: 1min 34s\n"
     ]
    }
   ],
   "source": [
    "%%time\n",
    "t2_files = ['../{sbj}/T2w_restore_brain.nii.gz'.format(sbj=sbj) for sbj in Sbjs]\n",
    "command  = 'module load afni; \\\n",
    "            cd {all_dir}; \\\n",
    "            3dMean -overwrite -prefix ALL_T2w_restore_brain.nii.gz {files};'.format(all_dir=ALL_DIR,files=' '.join(t2_files))\n",
    "output  = subprocess.check_output(command, shell=True, stderr=subprocess.STDOUT)\n",
    "print(output.strip().decode())"
   ]
  },
  {
   "cell_type": "code",
   "execution_count": null,
   "metadata": {},
   "outputs": [],
   "source": [
    "%%time\n",
    "epi_files = ['../{sbj}/{run}/{run}_mPP.nii.gz[0]'.format(sbj=item.split('_')[0],run=item.split('_',1)[1]) for item in Runs]\n",
    "command   = 'module load afni; \\\n",
    "             cd {all_dir}; \\\n",
    "             3dTcat -overwrite -prefix ALL_EPI_firstvols.nii.gz {files}; \\\n",
    "             3dTstat -overwrite -mean -prefix ALL_EPI.nii.gz ALL_EPI_firstvols.nii.gz; \\\n",
    "             rm ALL_EPI_firstvols.nii.gz'.format(all_dir=ALL_DIR, files=' '.join(epi_files))\n",
    "output  = subprocess.check_output(command, shell=True, stderr=subprocess.STDOUT)\n",
    "print(output.strip().decode())"
   ]
  },
  {
   "cell_type": "markdown",
   "metadata": {},
   "source": [
    "*** \n",
    "## 3. Create Forth Ventricle (FV) group-level ROI"
   ]
  },
  {
   "cell_type": "code",
   "execution_count": 6,
   "metadata": {},
   "outputs": [
    {
     "name": "stdout",
     "output_type": "stream",
     "text": [
      "[+] Loading AFNI current-openmp  ... \n",
      "AFNI/current-openmp last updated  2022-01-27\n",
      "\n",
      "++ 3dMean: AFNI version=AFNI_22.0.03 (Jan 18 2022) [64-bit]\n",
      "++ 3dcalc: AFNI version=AFNI_22.0.03 (Jan 18 2022) [64-bit]\n",
      "++ Authored by: A cast of thousands\n",
      "++ Output dataset ./ALL_ROI.V4.mPP.nii.gz\n",
      "++ 3dcalc: AFNI version=AFNI_22.0.03 (Jan 18 2022) [64-bit]\n",
      "++ Authored by: A cast of thousands\n",
      "++ Symbol k using predefined value\n",
      "++ Output dataset ./ALL_ROI.V4lt.mPP.nii.gz\n",
      "CPU times: user 2.61 ms, sys: 5.29 ms, total: 7.89 ms\n",
      "Wall time: 5.29 s\n"
     ]
    }
   ],
   "source": [
    "%%time\n",
    "fv_masks = ['../{sbj}/ROI.V4.mPP.nii.gz'.format(sbj=sbj) for sbj in Sbjs]\n",
    "command  = 'module load afni; \\\n",
    "            cd {all_dir}; \\\n",
    "            3dMean -overwrite -prefix ALL_ROI.V4.mPP_avg.nii.gz {files}; \\\n",
    "            3dcalc -overwrite -a ALL_ROI.V4.mPP_avg.nii.gz -expr \"ispositive(a-0.98)\" -prefix ALL_ROI.V4.mPP.nii.gz; \\\n",
    "            3dcalc -overwrite -a ALL_ROI.V4.mPP.nii.gz -expr \"a*isnegative(k-28)\" -prefix ALL_ROI.V4lt.mPP.nii.gz; \\\n",
    "            rm ALL_ROI.V4.mPP_avg.nii.gz'.format(all_dir=ALL_DIR, files=' '.join(fv_masks))\n",
    "output  = subprocess.check_output(command, shell=True, stderr=subprocess.STDOUT)\n",
    "print(output.strip().decode())"
   ]
  },
  {
   "cell_type": "markdown",
   "metadata": {},
   "source": [
    "***\n",
    "# 3. Create Swarm Scripts for job submission"
   ]
  },
  {
   "cell_type": "code",
   "execution_count": 7,
   "metadata": {},
   "outputs": [
    {
     "name": "stdout",
     "output_type": "stream",
     "text": [
      "++ INFO: Creating logging dir: ./N03d_Extract_ROI_TS.logs\n"
     ]
    }
   ],
   "source": [
    "if not osp.exists('./N03d_Extract_ROI_TS.logs'):\n",
    "    print('++ INFO: Creating logging dir: ./N03d_Extract_ROI_TS.logs')\n",
    "    os.mkdir('./N03d_Extract_ROI_TS.logs')\n",
    "else:\n",
    "    print('++ INFO: Logging directory already existed')"
   ]
  },
  {
   "cell_type": "code",
   "execution_count": 8,
   "metadata": {},
   "outputs": [],
   "source": [
    "# Create Swarm file for extracting representative power\n",
    "# ==========================================================\n",
    "os.system('echo \"#swarm -f ./N03d_Extract_ROI_TS.SWARM.sh -g 64 -t 32 --partition quick,norm --logdir ./N03d_Extract_ROI_TS.logs\" > ./N03d_Extract_ROI_TS.SWARM.sh')\n",
    "for sbj_run in Runs:\n",
    "    sbj,run  = sbj_run.split('_',1)\n",
    "    out_dir  = osp.join(DATA_DIR,sbj,run)\n",
    "    os.system('echo \"export SBJ={sbj} RUN={run}; sh ./N03d_Extract_ROI_TS.sh\" >> ./N03d_Extract_ROI_TS.SWARM.sh'.format(sbj=sbj, run=run, ddir=DATA_DIR))"
   ]
  },
  {
   "cell_type": "markdown",
   "metadata": {},
   "source": [
    "***\n",
    "\n",
    "# 4. Check all outputs exists\n",
    "\n",
    "## 4.1. Group Files"
   ]
  },
  {
   "cell_type": "code",
   "execution_count": 9,
   "metadata": {},
   "outputs": [],
   "source": [
    "for group_file in ['ALL_EPI.nii.gz','ALL_T1w_restore_brain.nii.gz','ALL_T2w_restore_brain.nii.gz','ALL_ROI.V4.mPP.nii.gz','ALL_ROI.V4lt.mPP.nii.gz']:\n",
    "    path = osp.join(DATA_DIR,'ALL',group_file)\n",
    "    if not osp.exists(path):\n",
    "        print(\"++ WARNING: [%s] is missing.\" % path)"
   ]
  },
  {
   "cell_type": "markdown",
   "metadata": {},
   "source": [
    "## 4.2 Subject-specific Files"
   ]
  },
  {
   "cell_type": "code",
   "execution_count": 10,
   "metadata": {},
   "outputs": [
    {
     "name": "stdout",
     "output_type": "stream",
     "text": [
      "CPU times: user 40.1 ms, sys: 120 ms, total: 160 ms\n",
      "Wall time: 2.11 s\n"
     ]
    }
   ],
   "source": [
    "%%time\n",
    "for item in Runs:\n",
    "    sbj,run=item.split('_',1)\n",
    "    for suffix in ['scale.nii.gz', 'Signal.V4_grp.1D', 'Signal.V4_e.1D', 'Signal.Vl_e.1D', 'Signal.FB.1D', 'Signal.GM.1D', 'Signal.WM_e.1D']:\n",
    "        path = osp.join(DATA_DIR,sbj,run,'{run}_mPP.{suffix}'.format(run=run, suffix=suffix))\n",
    "        if not osp.exists(path):\n",
    "            print('++ WARNING: [%s] is missing.' % path)"
   ]
  },
  {
   "cell_type": "code",
   "execution_count": null,
   "metadata": {},
   "outputs": [],
   "source": []
  }
 ],
 "metadata": {
  "jupytext": {
   "formats": "ipynb,py:light"
  },
  "kernelspec": {
   "display_name": "Vigilance Project",
   "language": "python",
   "name": "vigilance"
  },
  "language_info": {
   "codemirror_mode": {
    "name": "ipython",
    "version": 3
   },
   "file_extension": ".py",
   "mimetype": "text/x-python",
   "name": "python",
   "nbconvert_exporter": "python",
   "pygments_lexer": "ipython3",
   "version": "3.8.5"
  }
 },
 "nbformat": 4,
 "nbformat_minor": 4
}
