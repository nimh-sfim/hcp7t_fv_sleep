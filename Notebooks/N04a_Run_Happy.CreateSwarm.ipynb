{
 "cells": [
  {
   "cell_type": "markdown",
   "id": "def98125-95fc-4468-ae80-63b4bdc633a1",
   "metadata": {},
   "source": [
    "#### Load necessary libraries"
   ]
  },
  {
   "cell_type": "code",
   "execution_count": 9,
   "id": "acf1aa41-788f-462b-8981-e6bf4dfb207a",
   "metadata": {},
   "outputs": [],
   "source": [
    "import os.path as osp\n",
    "import os\n",
    "import numpy as np\n",
    "import pandas as pd\n",
    "import subprocess\n",
    "import hvplot.pandas\n",
    "import holoviews as hv\n",
    "import panel as pn\n",
    "from utils.variables import Resources_Dir, DATA_DIR\n",
    "from utils.basics import get_available_runs, aliased_freq\n",
    "from IPython.display import Markdown as md"
   ]
  },
  {
   "cell_type": "markdown",
   "id": "abbd383c-3e11-4da5-bda1-3daac790c9c5",
   "metadata": {},
   "source": [
    "***\n",
    "\n",
    "## 1. Description of the potential problem (Figure 3)"
   ]
  },
  {
   "cell_type": "code",
   "execution_count": null,
   "id": "16ab51a0-0026-4b87-a721-88d06f8f26f1",
   "metadata": {},
   "outputs": [],
   "source": [
    "fmri_fs = 1        # Sampling Frequency of the fMRI recordings [Hz]\n",
    "card_min_f = 50/60 # Common lower cardiac frequency\n",
    "card_max_f = 80/60 # Common higher cardiac frequency"
   ]
  },
  {
   "cell_type": "code",
   "execution_count": null,
   "id": "e0f64ccf-c844-48b7-b41a-d48d91fe8075",
   "metadata": {},
   "outputs": [],
   "source": [
    "n = 500\n",
    "hrs_df = pd.DataFrame(columns=['Heart Rate','Aliased Heart Rate'])\n",
    "for hr in np.linspace(start=card_min_f,stop=card_max_f,num=n):\n",
    "    hrs_df = hrs_df.append({'Heart Rate':hr, 'Aliased Heart Rate':aliased_freq(fmri_fs,hr)}, ignore_index=True)"
   ]
  },
  {
   "cell_type": "code",
   "execution_count": 6,
   "id": "97d4ac32-ecab-4990-8615-fef1b9eaef43",
   "metadata": {},
   "outputs": [],
   "source": [
    "plot = hv.VLine(0.03).opts(line_color='k',line_dash='dashed', xlim=(-.1,2)) * \\\n",
    "hv.VLine(0.07).opts(line_color='k',line_dash='dashed') * \\\n",
    "hv.VLine(1).opts(line_color='k') * \\\n",
    "hrs_df.hvplot.hist(bins=100, alpha=0.5, normed=True).opts(legend_position='top_right') * \\\n",
    "hrs_df.hvplot.kde(alpha=.3).opts(xlabel='Frequency [Hz]', ylabel='Density', toolbar=None, fontsize={'xticks':18, 'yticks':18, 'xlabel':18, 'ylabel':18, 'legend':18}) "
   ]
  },
  {
   "cell_type": "code",
   "execution_count": 11,
   "id": "5f8f25a6-5393-4118-b929-015c844483e1",
   "metadata": {},
   "outputs": [],
   "source": [
    "pn.pane.HoloViews(plot).save('./figures/Revision1_SuppFigure02.png')"
   ]
  },
  {
   "cell_type": "code",
   "execution_count": 12,
   "id": "646430c6-5979-4cca-8eb7-4360af41af6b",
   "metadata": {},
   "outputs": [
    {
     "data": {
      "text/markdown": [
       "![](./figures/Revision1_SuppFigure02.png)"
      ],
      "text/plain": [
       "<IPython.core.display.Markdown object>"
      ]
     },
     "execution_count": 12,
     "metadata": {},
     "output_type": "execute_result"
    }
   ],
   "source": [
    "text=\"![](./figures/Revision1_SuppFigure02.png)\"\n",
    "md(text)"
   ]
  },
  {
   "cell_type": "markdown",
   "id": "881c161c-a1b3-4e92-b458-c9eab391156d",
   "metadata": {},
   "source": [
    "> Figure 3. Simulation of frequency aliasing for cardiac pulsations. The sampling frequency of the fMRI data is 1Hz (black continuous line). Our target fluctuations of interest sit in the vicinity of 0.05Hz, and we will attempt their detection by focusing our attention on the frequency range [0.03Hz - 0.05 Hz] (narrow band between the two vertical balck dashed lines). Typical cardiac rates range from 50 to 80 beats per minute while subjects are resting (blue histogram/distribution). Due to frequency aliasing, cardiac pulsations at those frequencies will appear at lower parts of the spectrum in the fMRI recordings. As the figure shows, given an Fs=1 Hz there is potential for those to overlap (red histogram/distribution) with the target frequency of our study. "
   ]
  },
  {
   "cell_type": "markdown",
   "id": "f91ab74e-d4e8-4e4b-b49e-d2cbad773468",
   "metadata": {},
   "source": [
    "***\n",
    "## 2. Extract Cardiac Traces from fMRI data using the \"Happy\" Package"
   ]
  },
  {
   "cell_type": "markdown",
   "id": "0637aee9-dac4-4af4-8a5a-c26926bc972b",
   "metadata": {},
   "source": [
    "#### Load List of Scans to process"
   ]
  },
  {
   "cell_type": "code",
   "execution_count": 5,
   "id": "3900fcfe-f655-43b5-affe-69e8964f55d5",
   "metadata": {},
   "outputs": [
    {
     "name": "stdout",
     "output_type": "stream",
     "text": [
      "++ INFO: Number of scans to process: 404\n"
     ]
    }
   ],
   "source": [
    "scan_list = get_available_runs(when='final',type='all')\n",
    "print('++ INFO: Number of scans to process: %d' % len(scan_list))"
   ]
  },
  {
   "cell_type": "markdown",
   "id": "eee32838-7be1-4140-bd07-2c93f31d75b5",
   "metadata": {},
   "source": [
    "#### Create Log Dir for swarm jobs"
   ]
  },
  {
   "cell_type": "code",
   "execution_count": 6,
   "id": "c4b65705-0d64-44f3-a6e7-9bb8e3ec3e25",
   "metadata": {},
   "outputs": [
    {
     "name": "stdout",
     "output_type": "stream",
     "text": [
      "++ INFO: Creating logging dir: N04a_Run_Happy.logs\n"
     ]
    }
   ],
   "source": [
    "if not osp.exists('./N04a_Run_Happy.logs'):\n",
    "    print('++ INFO: Creating logging dir: N04a_Run_Happy.logs')\n",
    "    os.mkdir('./N04a_Run_Happy.logs')"
   ]
  },
  {
   "cell_type": "markdown",
   "id": "cb062344-878a-4004-a1bc-7844b60c2820",
   "metadata": {},
   "source": [
    "#### Create Swarm File"
   ]
  },
  {
   "cell_type": "code",
   "execution_count": 7,
   "id": "10a25c57-68fc-4ff4-85aa-613c26765292",
   "metadata": {},
   "outputs": [],
   "source": [
    "os.system('echo \"#swarm -f ./N04a_Run_Happy..SWARM.sh -g 128 -t 32  --partition quick,norm --logdir ./N04a_Run_Happy.logs\" > ./N04a_Run_Happy.SWARM.sh')\n",
    "for item in scan_list:\n",
    "    sbj,run = item.split('_',1)\n",
    "    os.system('echo \"export SBJ={sbj} RUN={run}; sh ./N04a_Run_Happy.CreateSwarm.sh\" >> ./N04a_Run_Happy.SWARM.sh'.format(sbj=sbj,run=run))"
   ]
  },
  {
   "cell_type": "markdown",
   "id": "93e7f523-b9ed-4bae-b901-5e359d8cc085",
   "metadata": {},
   "source": [
    "#### Check all outputs were generated"
   ]
  },
  {
   "cell_type": "code",
   "execution_count": 8,
   "id": "93c1aba2-8a5d-41f8-be07-4fc765ed4dc9",
   "metadata": {},
   "outputs": [],
   "source": [
    "for scanID in scan_list:\n",
    "    sbj,run = scanID.split('_',1)\n",
    "    output_path = osp.join(DATA_DIR,sbj,run,'{run}_orig.happy'.format(run=run),'{run}_orig.happy_desc-stdrescardfromfmri_timeseries.tsv'.format(run=run))\n",
    "    if not osp.exists(output_path):\n",
    "        print('++ WARNING: %s is missing' % output_path)"
   ]
  },
  {
   "cell_type": "markdown",
   "id": "45b9971c-9f5b-4ec0-96eb-e8f557ea712c",
   "metadata": {},
   "source": [
    "***\n",
    "***\n",
    "# END OF NOTEBOOK\n",
    "***\n",
    "***"
   ]
  },
  {
   "cell_type": "code",
   "execution_count": null,
   "id": "80c90206-8983-481d-bda4-9e3964a3dda7",
   "metadata": {},
   "outputs": [],
   "source": []
  }
 ],
 "metadata": {
  "jupytext": {
   "formats": "ipynb,py:light"
  },
  "kernelspec": {
   "display_name": "hcp7t_fv_sleep_env",
   "language": "python",
   "name": "hcp7t_fv_sleep_env"
  },
  "language_info": {
   "codemirror_mode": {
    "name": "ipython",
    "version": 3
   },
   "file_extension": ".py",
   "mimetype": "text/x-python",
   "name": "python",
   "nbconvert_exporter": "python",
   "pygments_lexer": "ipython3",
   "version": "3.7.11"
  }
 },
 "nbformat": 4,
 "nbformat_minor": 5
}
