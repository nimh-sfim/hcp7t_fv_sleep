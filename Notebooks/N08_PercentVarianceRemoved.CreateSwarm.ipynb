{
 "cells": [
  {
   "cell_type": "markdown",
   "id": "88b23df2-b189-443f-86e9-f9b84c692672",
   "metadata": {},
   "source": [
    "# Description\n",
    "\n",
    "This notebook generate the figures that help us understand how the different regression scenarios explain variance. We rely on the \"Percent Variance Reduction\" metric introduced by deB. Frederick et al. \"Physiological Denoising of BOLD fMRI data using Regressor Interpolation at Progressive Time Delays (RIPTiDe)\" processing of concurrent fMRI and near-infrared spectroscopy (NIRS)\" "
   ]
  },
  {
   "cell_type": "code",
   "execution_count": null,
   "id": "d04d4d7f-e072-482a-bed2-958f5c34c01d",
   "metadata": {},
   "outputs": [],
   "source": [
    "import pandas as pd\n",
    "import numpy as np\n",
    "import os.path as osp\n",
    "import os\n",
    "from utils.basics import get_available_runs\n",
    "from utils.basics import DATA_DIR\n",
    "\n",
    "import subprocess\n",
    "from nilearn.masking import apply_mask\n",
    "from nilearn.plotting import plot_stat_map, plot_epi\n",
    "import hvplot.pandas\n",
    "import panel as pn\n",
    "import matplotlib.pyplot as plt\n",
    "import holoviews as hv\n",
    "%matplotlib inline\n",
    "\n",
    "fontsize_opts={'xlabel':14,'ylabel':14,'xticks':12,'yticks':12,'legend':12,'legend_title':12,'title':16}"
   ]
  },
  {
   "cell_type": "markdown",
   "id": "6f4d0463-65ad-4a47-9f71-d8b58952e852",
   "metadata": {},
   "source": [
    "***\n",
    "## 1. Generation of Swarm Jobs\n",
    "**Load list of scans to analize**"
   ]
  },
  {
   "cell_type": "code",
   "execution_count": null,
   "id": "f1206c7a-7563-4956-9ac9-c2d1029021f5",
   "metadata": {},
   "outputs": [],
   "source": [
    "Manuscript_Runs = get_available_runs(when='final',type='all')\n",
    "print('++ INFO: Number of scans: %d scans' % len(Manuscript_Runs))"
   ]
  },
  {
   "cell_type": "markdown",
   "id": "587ef027-9a6d-4814-8c9a-7549ce5efc19",
   "metadata": {},
   "source": [
    "**Create logging folder for swarm jobs if missing**"
   ]
  },
  {
   "cell_type": "code",
   "execution_count": null,
   "id": "a06f5aae-ac96-4195-8422-a2390ed1bc26",
   "metadata": {},
   "outputs": [],
   "source": [
    "if not osp.exists('./N08_PercentVarianceRemoved.logs'):\n",
    "    print('++ INFO: Creating logging dir')\n",
    "    os.mkdir('./N08_PercentVarianceRemoved.logs')"
   ]
  },
  {
   "cell_type": "markdown",
   "id": "04ae1d92-5ceb-453b-820f-53ef2a12b261",
   "metadata": {},
   "source": [
    "**Create swarm file for all scans**\n",
    "\n",
    "This will generate the following outputs per scan:\n",
    "\n",
    "* ```${DATA_DUR}/${SBJ}/${RUN}/${RUN}_PVR.BASIC.nii.gz```: Percent removed variance by **motion parameters + 1st derivative (BASIC)** relative to bandpassing and polort **(Refernece)**\n",
    "* ```${DATA_DUR}/${SBJ}/${RUN}/${RUN}_PVR.COMPCOR.nii.gz```: Percent removed variance by **motion parameters + 1st derivative + CompCor (CompCor)** relative to bandpassing and polort **(Reference)**\n",
    "* ```${DATA_DUR}/${SBJ}/${RUN}/${RUN}_PVR.BASICpp.nii.gz```:  Percent removed variance by **motion parameters + 1st derivative + lagged iFV (BASICpp)** relative to bandpassing and polort **(Reference)**\n",
    "* ```${DATA_DUR}/${SBJ}/${RUN}/${RUN}_PVR.COMPCORpp.nii.gz```: Percent removed variance by **motion parameters + 1st derivative + CompCor + lagged iFV (COMPCORpp)** relative to bandpassing and polort **(Reference)**"
   ]
  },
  {
   "cell_type": "code",
   "execution_count": null,
   "id": "356dd708-ac31-4ff2-8539-952c7b72e600",
   "metadata": {},
   "outputs": [],
   "source": [
    "# Create Swarm file for extracting representative power\n",
    "# ==========================================================\n",
    "os.system('echo \"#swarm -f ./N08_PercentVarianceRemoved.SWARM.sh -g 4 -t 4 -b 30 --time=00:05:00 --partition quick,norm --logdir ./N08_PercentVarianceRemoved.logs')\n",
    "for sbj_run in Manuscript_Runs:\n",
    "    sbj,run  = sbj_run.split('_',1)\n",
    "    os.system('echo \"export SBJ={sbj} RUN={run}; sh ./N08_PercentVarianceRemoved.sh\" >> ./N08_PercentVarianceRemoved.SWARM.sh'.format(sbj=sbj, run=run, ddir=DATA_DIR))"
   ]
  },
  {
   "cell_type": "markdown",
   "id": "d44bd86e-4a6a-4609-be39-58a9f53871f1",
   "metadata": {},
   "source": [
    "***\n",
    "## 2. Check Swarm Jobs Generated ouputs"
   ]
  },
  {
   "cell_type": "code",
   "execution_count": null,
   "id": "ff9e5897-c97d-420d-a454-b531b2335c88",
   "metadata": {},
   "outputs": [],
   "source": [
    "%%time\n",
    "for item in Manuscript_Runs:\n",
    "    sbj,run = item.split('_',1)\n",
    "    for suffix in ['PVR.BASIC.nii.gz', 'PVR.BASICpp.nii.gz', 'PVR.COMPCOR.nii.gz', 'PVR.COMPCORpp.nii.gz']:\n",
    "        path = osp.join(DATA_DIR,sbj,run,'{run}_{suffix}'.format(run=run, suffix=suffix))\n",
    "        if not osp.exists(path):\n",
    "            print ('++ WARNING: Primary output missing [%s]' % path)"
   ]
  },
  {
   "cell_type": "markdown",
   "id": "04e2ad81-fefe-4170-9704-b3432a616c23",
   "metadata": {},
   "source": [
    "***\n",
    "\n",
    "## 3. Create and visualize group-level results\n",
    "\n",
    "**Load list of scans labeled drowsy and awake**\n",
    "\n",
    "> **NOTE:** We only report results for drowsy scans"
   ]
  },
  {
   "cell_type": "code",
   "execution_count": null,
   "id": "58b72cd5-9425-412d-8659-8bab86d66a31",
   "metadata": {},
   "outputs": [],
   "source": [
    "drowsy_scans    = get_available_runs(when='final', type='drowsy')\n",
    "awake_scans     = get_available_runs(when='final', type='awake')\n",
    "print('++ INFO: Number of Runs [Drowsy] = %d' % len(drowsy_scans))\n",
    "print('++ INFO: Number of Runs [Awake]  = %d' % len(awake_scans))"
   ]
  },
  {
   "cell_type": "markdown",
   "id": "147ade4c-a9b7-46f5-a334-c6d941239923",
   "metadata": {},
   "source": [
    "**Generate group-level (average) PRV maps for all regression schemes**"
   ]
  },
  {
   "cell_type": "code",
   "execution_count": null,
   "id": "33856483-f5fb-4440-bc73-4ddfaa85c46a",
   "metadata": {},
   "outputs": [],
   "source": [
    "%%time\n",
    "for scenario in ['BASIC','BASICpp','COMPCOR','COMPCORpp']:\n",
    "    command       = 'module load afni; 3dMean -overwrite -prefix {DATA_DIR}/ALL/DROWSY_PVR_{scenario}.nii.gz '.format(DATA_DIR=DATA_DIR, scenario=scenario) + \\\n",
    "                    ' '.join(['/data/SFIMJGC_HCP7T/HCP7T/{sbj}/{run}/{run}_PVR.{scenario}.nii.gz'.format(scenario=scenario, sbj=item.split('_',1)[0],run=item.split('_',1)[1]) for item in drowsy_scans])\n",
    "    output        = subprocess.check_output(command, shell=True, stderr=subprocess.STDOUT)\n",
    "    print(output.strip().decode())"
   ]
  },
  {
   "cell_type": "markdown",
   "id": "8924a96a-44fe-455a-b98b-41459f203284",
   "metadata": {},
   "source": [
    "**Load voxel-wise PRV values per regression scheme into dataframe (to explore differences in distribution of values across the brain)**"
   ]
  },
  {
   "cell_type": "code",
   "execution_count": null,
   "id": "10013a62-21a3-4f9e-ace1-ae3e8eda6558",
   "metadata": {},
   "outputs": [],
   "source": [
    "mask_path = '/data/SFIMJGC_HCP7T/HCP7T/ALL/ROI.ALL.GM.mPP.mask.nii.gz'\n",
    "files2labels={'BASIC':'Motion','BASICpp':'Motion + Lagged iFV','COMPCOR':'Motion + CompCor','COMPCORpp':'Motion + CompCor + Lagged iFV'}\n",
    "df = pd.DataFrame(columns=['Motion','Motion + Lagged iFV','Motion + CompCor','Motion + CompCor + Lagged iFV'])\n",
    "df.columns.name='Regressors:'\n",
    "for scenario in ['BASIC','BASICpp','COMPCOR','COMPCORpp']:\n",
    "    data_path = osp.join(DATA_DIR,'ALL','DROWSY_PVR_{scenario}.nii.gz'.format(scenario=scenario))\n",
    "    df[files2labels[scenario]] = apply_mask(data_path,mask_path)"
   ]
  },
  {
   "cell_type": "markdown",
   "id": "207ffb35-f0ae-4036-811a-edf7fd8dffc8",
   "metadata": {},
   "source": [
    "**Create Histogram with distributions**"
   ]
  },
  {
   "cell_type": "code",
   "execution_count": null,
   "id": "8c636d7a-b7c2-491e-82f9-03579cfcc2a6",
   "metadata": {},
   "outputs": [],
   "source": [
    "hist_plots = df.hvplot.kde(title='(E) % Variance Removed (PVR) in GM Ribbon - Drowsy Scans', fontsize=fontsize_opts, xlabel='% Variance Removed (PVR)').opts(legend_position='right', toolbar=None)"
   ]
  },
  {
   "cell_type": "markdown",
   "id": "d0d4b363-1f26-4624-9f19-9dd1b850db06",
   "metadata": {},
   "source": [
    "**Plot Voxel-wise Maps**"
   ]
  },
  {
   "cell_type": "code",
   "execution_count": null,
   "id": "76b49f01-1120-4ace-bd4f-3aa2649aa264",
   "metadata": {},
   "outputs": [],
   "source": [
    "fig, axs = plt.subplots(2,2,figsize=(14,5))\n",
    "map_1 = plot_stat_map(osp.join(DATA_DIR,'ALL','DROWSY_PVR_BASIC.nii.gz'),     osp.join(DATA_DIR,'ALL','ALL_T1w_restore_brain.nii.gz'), cmap='jet', vmax=50, axes=axs[0,0], title='(A) Motion')\n",
    "map_2 = plot_stat_map(osp.join(DATA_DIR,'ALL','DROWSY_PVR_BASICpp.nii.gz'),   osp.join(DATA_DIR,'ALL','ALL_T1w_restore_brain.nii.gz'), cmap='jet', vmax=50, axes=axs[0,1], title='(B) Motion + Lagged iFV')\n",
    "map_3 = plot_stat_map(osp.join(DATA_DIR,'ALL','DROWSY_PVR_COMPCOR.nii.gz'),   osp.join(DATA_DIR,'ALL','ALL_T1w_restore_brain.nii.gz'), cmap='jet', vmax=50, axes=axs[1,0], title='(C) Motion + CompCor')\n",
    "map_4 = plot_stat_map(osp.join(DATA_DIR,'ALL','DROWSY_PVR_COMPCORpp.nii.gz'), osp.join(DATA_DIR,'ALL','ALL_T1w_restore_brain.nii.gz'), cmap='jet', vmax=50, axes=axs[1,1], title='(D) Motion + CompCor + Lagged iFV')\n",
    "fig.suptitle('% Variance Removed (PVR)  Maps per Regression Scenario', fontsize=20, ha='center')\n",
    "plt.close()"
   ]
  },
  {
   "cell_type": "code",
   "execution_count": null,
   "id": "694c3eff-8ebe-402f-84b2-9fb901d03432",
   "metadata": {},
   "outputs": [],
   "source": [
    "combined_figure = pn.Row(fig,pn.Column(pn.pane.Markdown('#'),hist_plots))"
   ]
  },
  {
   "cell_type": "code",
   "execution_count": null,
   "id": "2f593925-c058-42fe-bb7a-c2a570b44fde",
   "metadata": {},
   "outputs": [],
   "source": [
    "combined_figure.save('./figures/PRV.png')"
   ]
  },
  {
   "cell_type": "markdown",
   "id": "2899ed8c-5eb1-40fa-95e6-a3dddbd982a5",
   "metadata": {},
   "source": [
    "![](./figures/PRV.png)"
   ]
  },
  {
   "cell_type": "markdown",
   "id": "7c874548-56ef-4072-9499-f4ae439a5450",
   "metadata": {},
   "source": [
    "**Print median PRV per regression scheme**"
   ]
  },
  {
   "cell_type": "code",
   "execution_count": 13,
   "id": "6e25c46d-6afe-47be-96d1-b2b44e004860",
   "metadata": {},
   "outputs": [
    {
     "data": {
      "text/plain": [
       "Regressors:\n",
       "Motion                           26.526361\n",
       "Motion + Lagged iFV              30.918262\n",
       "Motion + CompCor                 41.773750\n",
       "Motion + CompCor + Lagged iFV    43.786308\n",
       "dtype: float32"
      ]
     },
     "execution_count": 13,
     "metadata": {},
     "output_type": "execute_result"
    }
   ],
   "source": [
    "df.median()"
   ]
  },
  {
   "cell_type": "markdown",
   "id": "3660fb93-2a60-46bf-991c-e7ff79384782",
   "metadata": {},
   "source": [
    "***\n",
    "## 4. Additional non-reported results\n",
    "\n",
    "### Voxel-wise correlation of data across pre-processing pipelines\n",
    "\n",
    "**Create group-level maps**"
   ]
  },
  {
   "cell_type": "code",
   "execution_count": 14,
   "id": "5cfa84a3-16c0-4ba1-9b65-4406a635fea9",
   "metadata": {},
   "outputs": [],
   "source": [
    "command_file = open('./N08_PercentVarianceRemoved_CorrMaps.sh','w+')\n",
    "for sc_a,sc_b in [('Reference','BASIC'),('Reference','BASICpp'),('Reference','COMPCOR'),('Reference','COMPCORpp')]:\n",
    "    command = '3dMean -overwrite -prefix {DATA_DIR}/ALL/DROWSY_corr_{sc_b}_2_{sc_a}.nii.gz '.format(sc_a=sc_a,sc_b=sc_b, DATA_DIR=DATA_DIR) + \\\n",
    "              ' '.join([osp.join(DATA_DIR, item.split('_',1)[0], item.split('_',1)[1], '{run}_{sc_b}_2_{sc_a}.nii.gz'.format(run=item.split('_',1)[1], sc_a=sc_a,sc_b=sc_b)) for item in drowsy_scans]) + '\\n'\n",
    "    command_file.write(command)\n",
    "command_file.close()"
   ]
  },
  {
   "cell_type": "markdown",
   "id": "09877e88-781e-4f24-b212-8522591ee656",
   "metadata": {},
   "source": [
    "Run the following code on a termninal\n",
    "\n",
    "```bash\n",
    "cd /data/SFIMJGC_HCP7T/hcp7t_fv_sleep/Notebooks\n",
    "sh ./N08_PercentVarianceRemoved_CorrMaps.sh\n",
    "```\n",
    "\n",
    "**Plot group-level maps**"
   ]
  },
  {
   "cell_type": "code",
   "execution_count": 15,
   "id": "54bec9a6-baa6-4992-8913-dd31a4dfca95",
   "metadata": {},
   "outputs": [],
   "source": [
    "fig, axs = plt.subplots(2,2,figsize=(14,5))\n",
    "fig.suptitle('Voxel-wise correlation of data after different regression schemes relative to bandpass + polort only', fontsize=16, ha='center', fontweight='bold')\n",
    "map_1    = plot_epi(osp.join(DATA_DIR,'ALL','DROWSY_corr_BASIC_2_Reference.nii.gz'),     cmap='jet', vmin=0.6, vmax=1, axes=axs[0,0], title='Motion')\n",
    "map_2    = plot_epi(osp.join(DATA_DIR,'ALL','DROWSY_corr_BASICpp_2_Reference.nii.gz'),   cmap='jet', vmin=0.6, vmax=1, axes=axs[0,1], title='Motion + Lagged iFV')\n",
    "map_3    = plot_epi(osp.join(DATA_DIR,'ALL','DROWSY_corr_COMPCOR_2_Reference.nii.gz'),   cmap='jet', vmin=0.6, vmax=1, axes=axs[1,0], title='Motion + CompCor')\n",
    "map_4    = plot_epi(osp.join(DATA_DIR,'ALL','DROWSY_corr_COMPCORpp_2_Reference.nii.gz'), cmap='jet', vmin=0.6, vmax=1, axes=axs[1,1], title='Motion + CompCor + Lagged iFV')\n",
    "plt.close()"
   ]
  },
  {
   "cell_type": "markdown",
   "id": "ef4c2812-3ae6-470b-8cf4-c668a11deb95",
   "metadata": {},
   "source": [
    "**Distribution of time-series correlation across regression schemes**"
   ]
  },
  {
   "cell_type": "code",
   "execution_count": 16,
   "id": "4ff179d0-9b75-4688-b415-fe1aa498d4b4",
   "metadata": {},
   "outputs": [],
   "source": [
    "df = pd.DataFrame(columns=['Basic_2_Reference','Basic+_2_Reference','CompCor_2_Reference','CompCor+_2_Reference'])\n",
    "df['Basic_2_Reference']   = apply_mask('/data/SFIMJGC_HCP7T/HCP7T/ALL/DROWSY_corr_BASIC_2_Reference.nii.gz','/data/SFIMJGC_HCP7T/HCP7T/ALL/ALL_EPI_FBmask.er2.nii.gz')\n",
    "df['Basic+_2_Reference']  = apply_mask('/data/SFIMJGC_HCP7T/HCP7T/ALL/DROWSY_corr_BASICpp_2_Reference.nii.gz','/data/SFIMJGC_HCP7T/HCP7T/ALL/ALL_EPI_FBmask.er2.nii.gz')\n",
    "df['CompCor_2_Reference'] = apply_mask('/data/SFIMJGC_HCP7T/HCP7T/ALL/DROWSY_corr_COMPCOR_2_Reference.nii.gz','/data/SFIMJGC_HCP7T/HCP7T/ALL/ALL_EPI_FBmask.er2.nii.gz')\n",
    "df['CompCor+_2_Reference'] = apply_mask('/data/SFIMJGC_HCP7T/HCP7T/ALL/DROWSY_corr_COMPCORpp_2_Reference.nii.gz','/data/SFIMJGC_HCP7T/HCP7T/ALL/ALL_EPI_FBmask.er2.nii.gz')"
   ]
  },
  {
   "cell_type": "code",
   "execution_count": 17,
   "id": "b07c42c2-6a00-4e63-baf9-eb763bdb6ed4",
   "metadata": {},
   "outputs": [],
   "source": [
    "hist_plots = ((df.hvplot.scatter(x='Basic_2_Reference',y='Basic+_2_Reference',   xlabel='R(BASIC,Reference)', ylabel='R(BASIC+,Reference)', datashade=True, aspect='square', fontsize=fontsize_opts) * hv.Curve([[0, 0], [1, 1]]).opts(line_dash='dashed', color='black')) + \\\n",
    "(df.hvplot.scatter(x='Basic_2_Reference',y='CompCor_2_Reference',  xlabel='R(BASIC,Reference)', ylabel='R(CompCor,Reference)', datashade=True, aspect='square', fontsize=fontsize_opts) * hv.Curve([[0, 0], [1, 1]]).opts(line_dash='dashed', color='black')) + \\\n",
    "(df.hvplot.scatter(x='Basic_2_Reference',y='CompCor+_2_Reference', xlabel='R(BASIC,Reference)', ylabel='R(CompCor+,Reference)', datashade=True, aspect='square', fontsize=fontsize_opts) * hv.Curve([[0, 0], [1, 1]]).opts(line_dash='dashed', color='black'))).opts(toolbar=None, title='Relation to non-regression model decreases when we take into account lagged iFV')"
   ]
  },
  {
   "cell_type": "code",
   "execution_count": 18,
   "id": "cf653cf0-af35-41c7-8176-2b1d772ea137",
   "metadata": {},
   "outputs": [],
   "source": [
    "combined_figure = pn.Row(fig, hist_plots)"
   ]
  },
  {
   "cell_type": "code",
   "execution_count": null,
   "id": "7cd6ab6d-021c-4745-a614-02579ce6ff81",
   "metadata": {},
   "outputs": [],
   "source": [
    "combined_figure.save('./figures/Correlation_across_regression_schemes.png')"
   ]
  },
  {
   "cell_type": "markdown",
   "id": "0ac6fdbf-a6e3-450b-a333-b7133ad827fe",
   "metadata": {},
   "source": [
    "![](./figures/Correlation_across_regression_schemes.png)"
   ]
  }
 ],
 "metadata": {
  "jupytext": {
   "formats": "ipynb,py:light"
  },
  "kernelspec": {
   "display_name": "hcp7t_fv_sleep_env",
   "language": "python",
   "name": "hcp7t_fv_sleep_env"
  },
  "language_info": {
   "codemirror_mode": {
    "name": "ipython",
    "version": 3
   },
   "file_extension": ".py",
   "mimetype": "text/x-python",
   "name": "python",
   "nbconvert_exporter": "python",
   "pygments_lexer": "ipython3",
   "version": "3.7.11"
  }
 },
 "nbformat": 4,
 "nbformat_minor": 5
}
