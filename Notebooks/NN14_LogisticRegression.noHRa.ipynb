{
 "cells": [
  {
   "cell_type": "markdown",
   "id": "dabcc5a3-e33f-4b87-8692-5860397a08a5",
   "metadata": {},
   "source": [
    "# Description - Predictive Power at the Segment Level for PSDsleep and GSamplitude\n",
    "\n",
    "This notebook generates Figure 11"
   ]
  },
  {
   "cell_type": "markdown",
   "id": "2acd8ee7-66bb-4bd8-9d74-685ef9144497",
   "metadata": {},
   "source": [
    "# Import Libraries"
   ]
  },
  {
   "cell_type": "code",
   "execution_count": 1,
   "id": "d69d91db-b54b-4e12-bbc2-ad92b2a66476",
   "metadata": {},
   "outputs": [
    {
     "name": "stdout",
     "output_type": "stream",
     "text": [
      "pandas: 1.3.1\n",
      "sklearn: 0.24.2\n",
      "seaborn: 0.11.1\n"
     ]
    }
   ],
   "source": [
    "import pandas as pd\n",
    "import numpy  as np\n",
    "import xarray as xr\n",
    "import seaborn as sns\n",
    "from scipy.stats import ttest_ind\n",
    "import matplotlib.pyplot as plt\n",
    "import os.path as osp\n",
    "from utils.basics import get_available_runs\n",
    "from utils.variables import DATA_DIR, Resources_Dir\n",
    "\n",
    "from sklearn.model_selection import StratifiedKFold\n",
    "from sklearn.linear_model import LogisticRegression\n",
    "from sklearn.metrics import confusion_matrix\n",
    "from sklearn.utils import shuffle\n",
    "import sklearn \n",
    "\n",
    "print('pandas: %s' % str(pd.__version__))\n",
    "print('sklearn: %s' % str(sklearn.__version__))\n",
    "print('seaborn: %s' % str(sns.__version__))\n",
    "%matplotlib inline"
   ]
  },
  {
   "cell_type": "markdown",
   "id": "9b2044f4-8555-46a5-b392-2d3a3f530660",
   "metadata": {},
   "source": [
    "# Configuration Variables"
   ]
  },
  {
   "cell_type": "code",
   "execution_count": 2,
   "id": "abstract-fisher",
   "metadata": {},
   "outputs": [],
   "source": [
    "k_folds            = 20\n",
    "spectrogram_windur = 60 # In seconds\n",
    "region             = 'V4lt_grp'"
   ]
  },
  {
   "cell_type": "markdown",
   "id": "sapphire-discount",
   "metadata": {},
   "source": [
    "# Load Lists of Scans (all, awake, drowsy)"
   ]
  },
  {
   "cell_type": "code",
   "execution_count": 3,
   "id": "d0b52a6b-47e0-41d9-9302-71f7fedd1f7f",
   "metadata": {},
   "outputs": [
    {
     "name": "stdout",
     "output_type": "stream",
     "text": [
      "++ INFO: Number of Runs: Total = 366 | Awake = 192 | Drowsy = 174\n",
      "CPU times: user 2.97 ms, sys: 2.29 ms, total: 5.27 ms\n",
      "Wall time: 5 ms\n"
     ]
    }
   ],
   "source": [
    "%%time\n",
    "scan_HR_info    = pd.read_csv(osp.join(Resources_Dir,'HR_scaninfo.csv'), index_col=0)\n",
    "scan_HR_info    = scan_HR_info[(scan_HR_info['HR aliased']< 0.03) | (scan_HR_info['HR aliased']> 0.07)]\n",
    "Manuscript_Runs = list(scan_HR_info.index)\n",
    "Awake_Runs      = list(scan_HR_info[scan_HR_info['Scan Type']=='Awake'].index)\n",
    "Drowsy_Runs     = list(scan_HR_info[scan_HR_info['Scan Type']=='Drowsy'].index)\n",
    "\n",
    "print('++ INFO: Number of Runs: Total = %d | Awake = %d | Drowsy = %d' % (len(Manuscript_Runs), len(Awake_Runs), len(Drowsy_Runs)))"
   ]
  },
  {
   "cell_type": "markdown",
   "id": "constant-minority",
   "metadata": {},
   "source": [
    "# Load Pre-processed ET Data and Downsample it to 1Hz (to match fMRI data)"
   ]
  },
  {
   "cell_type": "code",
   "execution_count": 4,
   "id": "formal-symposium",
   "metadata": {},
   "outputs": [],
   "source": [
    "ET_PupilSize_Proc_1Hz = pd.read_pickle(osp.join(Resources_Dir,'ET_PupilSize_Proc_1Hz_corrected.pkl'))"
   ]
  },
  {
   "cell_type": "code",
   "execution_count": 5,
   "id": "worse-slovak",
   "metadata": {},
   "outputs": [
    {
     "name": "stdout",
     "output_type": "stream",
     "text": [
      "++ Number of acquisitions = 890\n",
      "++ Number of runs = 561\n"
     ]
    }
   ],
   "source": [
    "[Nacq, Nruns ]              =  ET_PupilSize_Proc_1Hz.shape\n",
    "print('++ Number of acquisitions = %d' % Nacq)\n",
    "print('++ Number of runs = %d' % Nruns)"
   ]
  },
  {
   "cell_type": "code",
   "execution_count": 6,
   "id": "backed-louisiana",
   "metadata": {},
   "outputs": [
    {
     "name": "stdout",
     "output_type": "stream",
     "text": [
      "++ INFO: Shape of Pupil Size Dataframe [ET_PupilSize_Proc_1Hz] is (890, 366)\n"
     ]
    }
   ],
   "source": [
    "ET_PupilSize_Proc_1Hz = ET_PupilSize_Proc_1Hz[Manuscript_Runs]\n",
    "print('++ INFO: Shape of Pupil Size Dataframe [ET_PupilSize_Proc_1Hz] is %s' % str(ET_PupilSize_Proc_1Hz.shape))"
   ]
  },
  {
   "cell_type": "code",
   "execution_count": 7,
   "id": "front-deadline",
   "metadata": {},
   "outputs": [],
   "source": [
    "EC_Windowed = ET_PupilSize_Proc_1Hz.isna().rolling(window=spectrogram_windur, center=True).sum().dropna()\n",
    "EC_Windowed = 100*(EC_Windowed/spectrogram_windur)"
   ]
  },
  {
   "cell_type": "code",
   "execution_count": 8,
   "id": "emotional-present",
   "metadata": {},
   "outputs": [],
   "source": [
    "def assign_labels(a):\n",
    "    if a >= 60:\n",
    "        return 'EC/Drowsy'\n",
    "    if a <= 40:\n",
    "        return 'EO/Awake'\n",
    "    return 'Mixed'"
   ]
  },
  {
   "cell_type": "code",
   "execution_count": 9,
   "id": "demographic-digit",
   "metadata": {},
   "outputs": [],
   "source": [
    "EC_Windowed_Labels = EC_Windowed.applymap(assign_labels)"
   ]
  },
  {
   "cell_type": "markdown",
   "id": "certain-progressive",
   "metadata": {},
   "source": [
    "# Load PSD in Sleep Band\n",
    "\n",
    "This data is already the result of a windowing operation (computation of the spectrogram). As such, we ensure the index has the correct values corresponding to windowed information"
   ]
  },
  {
   "cell_type": "code",
   "execution_count": 10,
   "id": "happy-raising",
   "metadata": {},
   "outputs": [],
   "source": [
    "# Infer how the index should look for a spectrogram computed with a given window duration\n",
    "time_index         = pd.timedelta_range(start='0 s', periods=Nacq, freq='s')\n",
    "# Create empty dataframe with index having time_delta in steps of seconds\n",
    "aux = pd.DataFrame(np.ones(Nacq),index=time_index)\n",
    "# Simulate rolling windows of spectrogram_windur to gather which index should have data\n",
    "aux                    = aux.rolling(window=spectrogram_windur, center=True).mean()\n",
    "aux                    = aux.dropna()\n",
    "windowed_time_index    = aux.index\n",
    "del aux"
   ]
  },
  {
   "cell_type": "code",
   "execution_count": 11,
   "id": "digital-advertising",
   "metadata": {},
   "outputs": [
    {
     "name": "stdout",
     "output_type": "stream",
     "text": [
      "CPU times: user 288 ms, sys: 38.6 ms, total: 327 ms\n",
      "Wall time: 363 ms\n"
     ]
    }
   ],
   "source": [
    "%%time\n",
    "PSD_Windowed     = pd.DataFrame(index=windowed_time_index, columns=Manuscript_Runs)\n",
    "for sbj_run in Manuscript_Runs:\n",
    "    sbj,run = sbj_run.split('_',1)\n",
    "    file    = '{RUN}_mPP.Signal.{REGION}.Spectrogram_BandLimited.pkl'.format(RUN=run, REGION=region)\n",
    "    path    = osp.join(DATA_DIR,sbj,run,file)\n",
    "    aux     = pd.read_pickle(path)\n",
    "    PSD_Windowed.loc[(windowed_time_index,sbj_run)] = aux['sleep'].values"
   ]
  },
  {
   "cell_type": "code",
   "execution_count": 12,
   "id": "comparable-external",
   "metadata": {},
   "outputs": [
    {
     "data": {
      "text/html": [
       "<div>\n",
       "<style scoped>\n",
       "    .dataframe tbody tr th:only-of-type {\n",
       "        vertical-align: middle;\n",
       "    }\n",
       "\n",
       "    .dataframe tbody tr th {\n",
       "        vertical-align: top;\n",
       "    }\n",
       "\n",
       "    .dataframe thead th {\n",
       "        text-align: right;\n",
       "    }\n",
       "</style>\n",
       "<table border=\"1\" class=\"dataframe\">\n",
       "  <thead>\n",
       "    <tr style=\"text-align: right;\">\n",
       "      <th></th>\n",
       "      <th>100610_rfMRI_REST3_PA</th>\n",
       "      <th>100610_rfMRI_REST4_AP</th>\n",
       "      <th>104416_rfMRI_REST3_PA</th>\n",
       "      <th>105923_rfMRI_REST3_PA</th>\n",
       "      <th>105923_rfMRI_REST4_AP</th>\n",
       "      <th>111312_rfMRI_REST1_PA</th>\n",
       "      <th>111312_rfMRI_REST3_PA</th>\n",
       "      <th>114823_rfMRI_REST2_AP</th>\n",
       "      <th>114823_rfMRI_REST4_AP</th>\n",
       "      <th>115017_rfMRI_REST4_AP</th>\n",
       "      <th>...</th>\n",
       "      <th>942658_rfMRI_REST4_AP</th>\n",
       "      <th>943862_rfMRI_REST1_PA</th>\n",
       "      <th>943862_rfMRI_REST3_PA</th>\n",
       "      <th>958976_rfMRI_REST1_PA</th>\n",
       "      <th>958976_rfMRI_REST3_PA</th>\n",
       "      <th>966975_rfMRI_REST2_AP</th>\n",
       "      <th>966975_rfMRI_REST3_PA</th>\n",
       "      <th>966975_rfMRI_REST4_AP</th>\n",
       "      <th>971160_rfMRI_REST2_AP</th>\n",
       "      <th>995174_rfMRI_REST3_PA</th>\n",
       "    </tr>\n",
       "  </thead>\n",
       "  <tbody>\n",
       "    <tr>\n",
       "      <th>0 days 00:00:30</th>\n",
       "      <td>2.549136</td>\n",
       "      <td>15.06842</td>\n",
       "      <td>1.117133</td>\n",
       "      <td>25.6156</td>\n",
       "      <td>12.842756</td>\n",
       "      <td>8.638944</td>\n",
       "      <td>14.901316</td>\n",
       "      <td>12.340505</td>\n",
       "      <td>1.172426</td>\n",
       "      <td>2.947821</td>\n",
       "      <td>...</td>\n",
       "      <td>6.273698</td>\n",
       "      <td>42.254131</td>\n",
       "      <td>38.955629</td>\n",
       "      <td>0.515301</td>\n",
       "      <td>2.090623</td>\n",
       "      <td>17.764591</td>\n",
       "      <td>23.68478</td>\n",
       "      <td>51.045559</td>\n",
       "      <td>0.991968</td>\n",
       "      <td>0.688141</td>\n",
       "    </tr>\n",
       "    <tr>\n",
       "      <th>0 days 00:00:31</th>\n",
       "      <td>2.363269</td>\n",
       "      <td>13.413667</td>\n",
       "      <td>1.162641</td>\n",
       "      <td>24.257549</td>\n",
       "      <td>12.182682</td>\n",
       "      <td>8.466334</td>\n",
       "      <td>14.124565</td>\n",
       "      <td>11.599217</td>\n",
       "      <td>1.192902</td>\n",
       "      <td>2.409055</td>\n",
       "      <td>...</td>\n",
       "      <td>5.273722</td>\n",
       "      <td>43.821136</td>\n",
       "      <td>36.681123</td>\n",
       "      <td>0.675181</td>\n",
       "      <td>2.178683</td>\n",
       "      <td>17.100493</td>\n",
       "      <td>25.883256</td>\n",
       "      <td>50.571614</td>\n",
       "      <td>1.029551</td>\n",
       "      <td>0.748103</td>\n",
       "    </tr>\n",
       "    <tr>\n",
       "      <th>0 days 00:00:32</th>\n",
       "      <td>2.209525</td>\n",
       "      <td>11.327775</td>\n",
       "      <td>1.199198</td>\n",
       "      <td>22.555677</td>\n",
       "      <td>10.924166</td>\n",
       "      <td>8.131935</td>\n",
       "      <td>13.386574</td>\n",
       "      <td>11.174929</td>\n",
       "      <td>1.227875</td>\n",
       "      <td>2.039676</td>\n",
       "      <td>...</td>\n",
       "      <td>4.359094</td>\n",
       "      <td>46.935463</td>\n",
       "      <td>35.245071</td>\n",
       "      <td>0.812344</td>\n",
       "      <td>2.265799</td>\n",
       "      <td>16.402025</td>\n",
       "      <td>29.529777</td>\n",
       "      <td>50.031299</td>\n",
       "      <td>1.091669</td>\n",
       "      <td>1.001462</td>\n",
       "    </tr>\n",
       "    <tr>\n",
       "      <th>0 days 00:00:33</th>\n",
       "      <td>2.08291</td>\n",
       "      <td>8.962747</td>\n",
       "      <td>1.238974</td>\n",
       "      <td>20.704385</td>\n",
       "      <td>9.344547</td>\n",
       "      <td>7.704778</td>\n",
       "      <td>12.943813</td>\n",
       "      <td>10.902662</td>\n",
       "      <td>1.23393</td>\n",
       "      <td>2.019673</td>\n",
       "      <td>...</td>\n",
       "      <td>3.771409</td>\n",
       "      <td>51.317898</td>\n",
       "      <td>34.501648</td>\n",
       "      <td>0.873003</td>\n",
       "      <td>2.274345</td>\n",
       "      <td>15.361872</td>\n",
       "      <td>34.191784</td>\n",
       "      <td>49.891527</td>\n",
       "      <td>1.13791</td>\n",
       "      <td>1.420147</td>\n",
       "    </tr>\n",
       "    <tr>\n",
       "      <th>0 days 00:00:34</th>\n",
       "      <td>1.970267</td>\n",
       "      <td>6.849076</td>\n",
       "      <td>1.325144</td>\n",
       "      <td>18.828783</td>\n",
       "      <td>7.7797</td>\n",
       "      <td>7.345057</td>\n",
       "      <td>12.940821</td>\n",
       "      <td>10.638341</td>\n",
       "      <td>1.180362</td>\n",
       "      <td>2.038604</td>\n",
       "      <td>...</td>\n",
       "      <td>3.587751</td>\n",
       "      <td>56.288946</td>\n",
       "      <td>34.320736</td>\n",
       "      <td>0.876964</td>\n",
       "      <td>2.233439</td>\n",
       "      <td>14.24667</td>\n",
       "      <td>39.003926</td>\n",
       "      <td>49.900917</td>\n",
       "      <td>1.163724</td>\n",
       "      <td>1.852698</td>\n",
       "    </tr>\n",
       "  </tbody>\n",
       "</table>\n",
       "<p>5 rows × 366 columns</p>\n",
       "</div>"
      ],
      "text/plain": [
       "                100610_rfMRI_REST3_PA 100610_rfMRI_REST4_AP  \\\n",
       "0 days 00:00:30              2.549136              15.06842   \n",
       "0 days 00:00:31              2.363269             13.413667   \n",
       "0 days 00:00:32              2.209525             11.327775   \n",
       "0 days 00:00:33               2.08291              8.962747   \n",
       "0 days 00:00:34              1.970267              6.849076   \n",
       "\n",
       "                104416_rfMRI_REST3_PA 105923_rfMRI_REST3_PA  \\\n",
       "0 days 00:00:30              1.117133               25.6156   \n",
       "0 days 00:00:31              1.162641             24.257549   \n",
       "0 days 00:00:32              1.199198             22.555677   \n",
       "0 days 00:00:33              1.238974             20.704385   \n",
       "0 days 00:00:34              1.325144             18.828783   \n",
       "\n",
       "                105923_rfMRI_REST4_AP 111312_rfMRI_REST1_PA  \\\n",
       "0 days 00:00:30             12.842756              8.638944   \n",
       "0 days 00:00:31             12.182682              8.466334   \n",
       "0 days 00:00:32             10.924166              8.131935   \n",
       "0 days 00:00:33              9.344547              7.704778   \n",
       "0 days 00:00:34                7.7797              7.345057   \n",
       "\n",
       "                111312_rfMRI_REST3_PA 114823_rfMRI_REST2_AP  \\\n",
       "0 days 00:00:30             14.901316             12.340505   \n",
       "0 days 00:00:31             14.124565             11.599217   \n",
       "0 days 00:00:32             13.386574             11.174929   \n",
       "0 days 00:00:33             12.943813             10.902662   \n",
       "0 days 00:00:34             12.940821             10.638341   \n",
       "\n",
       "                114823_rfMRI_REST4_AP 115017_rfMRI_REST4_AP  ...  \\\n",
       "0 days 00:00:30              1.172426              2.947821  ...   \n",
       "0 days 00:00:31              1.192902              2.409055  ...   \n",
       "0 days 00:00:32              1.227875              2.039676  ...   \n",
       "0 days 00:00:33               1.23393              2.019673  ...   \n",
       "0 days 00:00:34              1.180362              2.038604  ...   \n",
       "\n",
       "                942658_rfMRI_REST4_AP 943862_rfMRI_REST1_PA  \\\n",
       "0 days 00:00:30              6.273698             42.254131   \n",
       "0 days 00:00:31              5.273722             43.821136   \n",
       "0 days 00:00:32              4.359094             46.935463   \n",
       "0 days 00:00:33              3.771409             51.317898   \n",
       "0 days 00:00:34              3.587751             56.288946   \n",
       "\n",
       "                943862_rfMRI_REST3_PA 958976_rfMRI_REST1_PA  \\\n",
       "0 days 00:00:30             38.955629              0.515301   \n",
       "0 days 00:00:31             36.681123              0.675181   \n",
       "0 days 00:00:32             35.245071              0.812344   \n",
       "0 days 00:00:33             34.501648              0.873003   \n",
       "0 days 00:00:34             34.320736              0.876964   \n",
       "\n",
       "                958976_rfMRI_REST3_PA 966975_rfMRI_REST2_AP  \\\n",
       "0 days 00:00:30              2.090623             17.764591   \n",
       "0 days 00:00:31              2.178683             17.100493   \n",
       "0 days 00:00:32              2.265799             16.402025   \n",
       "0 days 00:00:33              2.274345             15.361872   \n",
       "0 days 00:00:34              2.233439              14.24667   \n",
       "\n",
       "                966975_rfMRI_REST3_PA 966975_rfMRI_REST4_AP  \\\n",
       "0 days 00:00:30              23.68478             51.045559   \n",
       "0 days 00:00:31             25.883256             50.571614   \n",
       "0 days 00:00:32             29.529777             50.031299   \n",
       "0 days 00:00:33             34.191784             49.891527   \n",
       "0 days 00:00:34             39.003926             49.900917   \n",
       "\n",
       "                971160_rfMRI_REST2_AP 995174_rfMRI_REST3_PA  \n",
       "0 days 00:00:30              0.991968              0.688141  \n",
       "0 days 00:00:31              1.029551              0.748103  \n",
       "0 days 00:00:32              1.091669              1.001462  \n",
       "0 days 00:00:33               1.13791              1.420147  \n",
       "0 days 00:00:34              1.163724              1.852698  \n",
       "\n",
       "[5 rows x 366 columns]"
      ]
     },
     "execution_count": 12,
     "metadata": {},
     "output_type": "execute_result"
    }
   ],
   "source": [
    "PSD_Windowed.head()"
   ]
  },
  {
   "cell_type": "markdown",
   "id": "freelance-number",
   "metadata": {},
   "source": [
    "# Load Global Signal"
   ]
  },
  {
   "cell_type": "code",
   "execution_count": 13,
   "id": "roman-arbor",
   "metadata": {},
   "outputs": [
    {
     "name": "stdout",
     "output_type": "stream",
     "text": [
      " + INFO: df.shape = (890, 366)\n"
     ]
    }
   ],
   "source": [
    "GS_df = pd.DataFrame(columns=Manuscript_Runs)\n",
    "for item in Manuscript_Runs:\n",
    "    sbj,run  = item.split('_',1)\n",
    "    aux_path = osp.join(DATA_DIR,sbj,run,'{RUN}_mPP.Signal.FB.1D'.format(RUN=run))\n",
    "    if not osp.exists(aux_path):\n",
    "        print(' + --> WARNING: Missing file: %s' % aux_path)\n",
    "        continue\n",
    "    aux_data = np.loadtxt(aux_path)\n",
    "    assert aux_data.shape[0] == Nacq, \"{file} has incorrect length {length}\".format(file=aux_path, length=str(aux_data.shape[0]))\n",
    "    GS_df[item] = aux_data\n",
    "print(' + INFO: df.shape = %s' % str(GS_df.shape))  "
   ]
  },
  {
   "cell_type": "code",
   "execution_count": null,
   "id": "black-promise",
   "metadata": {},
   "outputs": [],
   "source": [
    "GS_Windowed = GS_df.rolling(window=spectrogram_windur, center=True).std().dropna()\n",
    "GS_Windowed.index = PSD_Windowed.index"
   ]
  },
  {
   "cell_type": "code",
   "execution_count": null,
   "id": "concrete-brisbane",
   "metadata": {},
   "outputs": [],
   "source": [
    "GS_Windowed.head()"
   ]
  },
  {
   "cell_type": "markdown",
   "id": "awful-treasure",
   "metadata": {},
   "source": [
    "# Generate Classification Problem"
   ]
  },
  {
   "cell_type": "code",
   "execution_count": null,
   "id": "separated-estimate",
   "metadata": {},
   "outputs": [],
   "source": [
    "data = pd.DataFrame()\n",
    "data['PSDsleep']    = PSD_Windowed.melt()['value']\n",
    "data['GSamplitude'] = GS_Windowed.melt()['value']\n",
    "data['EC']          = EC_Windowed.melt()['value']\n",
    "data['Label']       = EC_Windowed_Labels.melt()['value']\n",
    "print(data.shape)"
   ]
  },
  {
   "cell_type": "code",
   "execution_count": 17,
   "id": "economic-hungarian",
   "metadata": {},
   "outputs": [
    {
     "name": "stdout",
     "output_type": "stream",
     "text": [
      "(281648, 4)\n"
     ]
    }
   ],
   "source": [
    "data = data[(data['Label']=='EO/Awake') | (data['Label']=='EC/Drowsy')]\n",
    "data = data.reset_index(drop=True)\n",
    "print(data.shape)"
   ]
  },
  {
   "cell_type": "markdown",
   "id": "polar-means",
   "metadata": {},
   "source": [
    "# Logistic Regression (Stratified k-Cross Validation)\n",
    "\n",
    "I think this will make things better because our sample is very much unbalanced"
   ]
  },
  {
   "cell_type": "code",
   "execution_count": 18,
   "id": "nervous-survey",
   "metadata": {},
   "outputs": [
    {
     "name": "stdout",
     "output_type": "stream",
     "text": [
      "++ INFO: Number of Awake Samples:  212158/281648 [75.33]\n",
      "++ INFO: Number of Drowsy Samples: 69490/281648 [24.67]\n",
      "++ INFO: Number of Mixed Samples: 0/281648 [0.00]\n"
     ]
    }
   ],
   "source": [
    "num_awake_umbalanced  = (data['Label']=='EO/Awake').sum()\n",
    "num_drowsy_umbalanced = (data['Label']=='EC/Drowsy').sum()\n",
    "num_mixed_umbalanced = (data['Label']=='Mixed').sum()\n",
    "num_total_umbalanced  = data.shape[0]\n",
    "print(\"++ INFO: Number of Awake Samples:  %d/%d [%.2f]\" % (num_awake_umbalanced, num_total_umbalanced,100*num_awake_umbalanced/num_total_umbalanced))\n",
    "print(\"++ INFO: Number of Drowsy Samples: %d/%d [%.2f]\" % (num_drowsy_umbalanced,num_total_umbalanced,100*num_drowsy_umbalanced/num_total_umbalanced))\n",
    "print(\"++ INFO: Number of Mixed Samples: %d/%d [%.2f]\" % (num_mixed_umbalanced,num_total_umbalanced,100*num_mixed_umbalanced/num_total_umbalanced))"
   ]
  },
  {
   "cell_type": "code",
   "execution_count": 19,
   "id": "offensive-procedure",
   "metadata": {},
   "outputs": [],
   "source": [
    "skf_umbalanced = StratifiedKFold(n_splits=k_folds, shuffle=True)"
   ]
  },
  {
   "cell_type": "markdown",
   "id": "identified-summary",
   "metadata": {},
   "source": [
    "## Training / Testing in umbalanced sample"
   ]
  },
  {
   "cell_type": "code",
   "execution_count": 20,
   "id": "controlling-kernel",
   "metadata": {},
   "outputs": [],
   "source": [
    "data_umbalanced = data.copy()"
   ]
  },
  {
   "cell_type": "code",
   "execution_count": 21,
   "id": "welsh-video",
   "metadata": {
    "scrolled": true
   },
   "outputs": [
    {
     "name": "stdout",
     "output_type": "stream",
     "text": [
      "++ Working on PSDsleep ...\n",
      " + INFO: Number of Awake Samples:  212158/281648 [75.33]\n",
      " + INFO: Number of Drowsy Samples: 69490/281648 [24.67]\n",
      " + --> Split [0 - Training Set]: Awake [201550/267565 [75.33]] | Drowsy [66015/267565 [24.67]]\n",
      " + --> Split [0 - Test Set    ]: Awake [10608/14083 [75.32]] | Drowsy [3475/14083 [24.68]]\n",
      " + --> Split [1 - Training Set]: Awake [201550/267565 [75.33]] | Drowsy [66015/267565 [24.67]]\n",
      " + --> Split [1 - Test Set    ]: Awake [10608/14083 [75.32]] | Drowsy [3475/14083 [24.68]]\n",
      " + --> Split [2 - Training Set]: Awake [201550/267565 [75.33]] | Drowsy [66015/267565 [24.67]]\n",
      " + --> Split [2 - Test Set    ]: Awake [10608/14083 [75.32]] | Drowsy [3475/14083 [24.68]]\n",
      " + --> Split [3 - Training Set]: Awake [201550/267565 [75.33]] | Drowsy [66015/267565 [24.67]]\n",
      " + --> Split [3 - Test Set    ]: Awake [10608/14083 [75.32]] | Drowsy [3475/14083 [24.68]]\n",
      " + --> Split [4 - Training Set]: Awake [201550/267565 [75.33]] | Drowsy [66015/267565 [24.67]]\n",
      " + --> Split [4 - Test Set    ]: Awake [10608/14083 [75.32]] | Drowsy [3475/14083 [24.68]]\n",
      " + --> Split [5 - Training Set]: Awake [201550/267565 [75.33]] | Drowsy [66015/267565 [24.67]]\n",
      " + --> Split [5 - Test Set    ]: Awake [10608/14083 [75.32]] | Drowsy [3475/14083 [24.68]]\n",
      " + --> Split [6 - Training Set]: Awake [201550/267565 [75.33]] | Drowsy [66015/267565 [24.67]]\n",
      " + --> Split [6 - Test Set    ]: Awake [10608/14083 [75.32]] | Drowsy [3475/14083 [24.68]]\n",
      " + --> Split [7 - Training Set]: Awake [201550/267565 [75.33]] | Drowsy [66015/267565 [24.67]]\n",
      " + --> Split [7 - Test Set    ]: Awake [10608/14083 [75.32]] | Drowsy [3475/14083 [24.68]]\n",
      " + --> Split [8 - Training Set]: Awake [201550/267566 [75.33]] | Drowsy [66016/267566 [24.67]]\n",
      " + --> Split [8 - Test Set    ]: Awake [10608/14082 [75.33]] | Drowsy [3474/14082 [24.67]]\n",
      " + --> Split [9 - Training Set]: Awake [201550/267566 [75.33]] | Drowsy [66016/267566 [24.67]]\n",
      " + --> Split [9 - Test Set    ]: Awake [10608/14082 [75.33]] | Drowsy [3474/14082 [24.67]]\n",
      " + --> Split [10 - Training Set]: Awake [201550/267566 [75.33]] | Drowsy [66016/267566 [24.67]]\n",
      " + --> Split [10 - Test Set    ]: Awake [10608/14082 [75.33]] | Drowsy [3474/14082 [24.67]]\n",
      " + --> Split [11 - Training Set]: Awake [201550/267566 [75.33]] | Drowsy [66016/267566 [24.67]]\n",
      " + --> Split [11 - Test Set    ]: Awake [10608/14082 [75.33]] | Drowsy [3474/14082 [24.67]]\n",
      " + --> Split [12 - Training Set]: Awake [201550/267566 [75.33]] | Drowsy [66016/267566 [24.67]]\n",
      " + --> Split [12 - Test Set    ]: Awake [10608/14082 [75.33]] | Drowsy [3474/14082 [24.67]]\n",
      " + --> Split [13 - Training Set]: Awake [201550/267566 [75.33]] | Drowsy [66016/267566 [24.67]]\n",
      " + --> Split [13 - Test Set    ]: Awake [10608/14082 [75.33]] | Drowsy [3474/14082 [24.67]]\n",
      " + --> Split [14 - Training Set]: Awake [201550/267566 [75.33]] | Drowsy [66016/267566 [24.67]]\n",
      " + --> Split [14 - Test Set    ]: Awake [10608/14082 [75.33]] | Drowsy [3474/14082 [24.67]]\n",
      " + --> Split [15 - Training Set]: Awake [201550/267566 [75.33]] | Drowsy [66016/267566 [24.67]]\n",
      " + --> Split [15 - Test Set    ]: Awake [10608/14082 [75.33]] | Drowsy [3474/14082 [24.67]]\n",
      " + --> Split [16 - Training Set]: Awake [201550/267566 [75.33]] | Drowsy [66016/267566 [24.67]]\n",
      " + --> Split [16 - Test Set    ]: Awake [10608/14082 [75.33]] | Drowsy [3474/14082 [24.67]]\n",
      " + --> Split [17 - Training Set]: Awake [201550/267566 [75.33]] | Drowsy [66016/267566 [24.67]]\n",
      " + --> Split [17 - Test Set    ]: Awake [10608/14082 [75.33]] | Drowsy [3474/14082 [24.67]]\n",
      " + --> Split [18 - Training Set]: Awake [201551/267566 [75.33]] | Drowsy [66015/267566 [24.67]]\n",
      " + --> Split [18 - Test Set    ]: Awake [10607/14082 [75.32]] | Drowsy [3475/14082 [24.68]]\n",
      " + --> Split [19 - Training Set]: Awake [201551/267566 [75.33]] | Drowsy [66015/267566 [24.67]]\n",
      " + --> Split [19 - Test Set    ]: Awake [10607/14082 [75.32]] | Drowsy [3475/14082 [24.68]]\n",
      "++ Working on GSamplitude ...\n",
      " + INFO: Number of Awake Samples:  212158/281648 [75.33]\n",
      " + INFO: Number of Drowsy Samples: 69490/281648 [24.67]\n",
      " + --> Split [0 - Training Set]: Awake [201550/267565 [75.33]] | Drowsy [66015/267565 [24.67]]\n",
      " + --> Split [0 - Test Set    ]: Awake [10608/14083 [75.32]] | Drowsy [3475/14083 [24.68]]\n",
      " + --> Split [1 - Training Set]: Awake [201550/267565 [75.33]] | Drowsy [66015/267565 [24.67]]\n",
      " + --> Split [1 - Test Set    ]: Awake [10608/14083 [75.32]] | Drowsy [3475/14083 [24.68]]\n",
      " + --> Split [2 - Training Set]: Awake [201550/267565 [75.33]] | Drowsy [66015/267565 [24.67]]\n",
      " + --> Split [2 - Test Set    ]: Awake [10608/14083 [75.32]] | Drowsy [3475/14083 [24.68]]\n",
      " + --> Split [3 - Training Set]: Awake [201550/267565 [75.33]] | Drowsy [66015/267565 [24.67]]\n",
      " + --> Split [3 - Test Set    ]: Awake [10608/14083 [75.32]] | Drowsy [3475/14083 [24.68]]\n",
      " + --> Split [4 - Training Set]: Awake [201550/267565 [75.33]] | Drowsy [66015/267565 [24.67]]\n",
      " + --> Split [4 - Test Set    ]: Awake [10608/14083 [75.32]] | Drowsy [3475/14083 [24.68]]\n",
      " + --> Split [5 - Training Set]: Awake [201550/267565 [75.33]] | Drowsy [66015/267565 [24.67]]\n",
      " + --> Split [5 - Test Set    ]: Awake [10608/14083 [75.32]] | Drowsy [3475/14083 [24.68]]\n",
      " + --> Split [6 - Training Set]: Awake [201550/267565 [75.33]] | Drowsy [66015/267565 [24.67]]\n",
      " + --> Split [6 - Test Set    ]: Awake [10608/14083 [75.32]] | Drowsy [3475/14083 [24.68]]\n",
      " + --> Split [7 - Training Set]: Awake [201550/267565 [75.33]] | Drowsy [66015/267565 [24.67]]\n",
      " + --> Split [7 - Test Set    ]: Awake [10608/14083 [75.32]] | Drowsy [3475/14083 [24.68]]\n",
      " + --> Split [8 - Training Set]: Awake [201550/267566 [75.33]] | Drowsy [66016/267566 [24.67]]\n",
      " + --> Split [8 - Test Set    ]: Awake [10608/14082 [75.33]] | Drowsy [3474/14082 [24.67]]\n",
      " + --> Split [9 - Training Set]: Awake [201550/267566 [75.33]] | Drowsy [66016/267566 [24.67]]\n",
      " + --> Split [9 - Test Set    ]: Awake [10608/14082 [75.33]] | Drowsy [3474/14082 [24.67]]\n",
      " + --> Split [10 - Training Set]: Awake [201550/267566 [75.33]] | Drowsy [66016/267566 [24.67]]\n",
      " + --> Split [10 - Test Set    ]: Awake [10608/14082 [75.33]] | Drowsy [3474/14082 [24.67]]\n",
      " + --> Split [11 - Training Set]: Awake [201550/267566 [75.33]] | Drowsy [66016/267566 [24.67]]\n",
      " + --> Split [11 - Test Set    ]: Awake [10608/14082 [75.33]] | Drowsy [3474/14082 [24.67]]\n",
      " + --> Split [12 - Training Set]: Awake [201550/267566 [75.33]] | Drowsy [66016/267566 [24.67]]\n",
      " + --> Split [12 - Test Set    ]: Awake [10608/14082 [75.33]] | Drowsy [3474/14082 [24.67]]\n",
      " + --> Split [13 - Training Set]: Awake [201550/267566 [75.33]] | Drowsy [66016/267566 [24.67]]\n",
      " + --> Split [13 - Test Set    ]: Awake [10608/14082 [75.33]] | Drowsy [3474/14082 [24.67]]\n",
      " + --> Split [14 - Training Set]: Awake [201550/267566 [75.33]] | Drowsy [66016/267566 [24.67]]\n",
      " + --> Split [14 - Test Set    ]: Awake [10608/14082 [75.33]] | Drowsy [3474/14082 [24.67]]\n",
      " + --> Split [15 - Training Set]: Awake [201550/267566 [75.33]] | Drowsy [66016/267566 [24.67]]\n",
      " + --> Split [15 - Test Set    ]: Awake [10608/14082 [75.33]] | Drowsy [3474/14082 [24.67]]\n",
      " + --> Split [16 - Training Set]: Awake [201550/267566 [75.33]] | Drowsy [66016/267566 [24.67]]\n",
      " + --> Split [16 - Test Set    ]: Awake [10608/14082 [75.33]] | Drowsy [3474/14082 [24.67]]\n",
      " + --> Split [17 - Training Set]: Awake [201550/267566 [75.33]] | Drowsy [66016/267566 [24.67]]\n",
      " + --> Split [17 - Test Set    ]: Awake [10608/14082 [75.33]] | Drowsy [3474/14082 [24.67]]\n",
      " + --> Split [18 - Training Set]: Awake [201551/267566 [75.33]] | Drowsy [66015/267566 [24.67]]\n",
      " + --> Split [18 - Test Set    ]: Awake [10607/14082 [75.32]] | Drowsy [3475/14082 [24.68]]\n",
      " + --> Split [19 - Training Set]: Awake [201551/267566 [75.33]] | Drowsy [66015/267566 [24.67]]\n",
      " + --> Split [19 - Test Set    ]: Awake [10607/14082 [75.32]] | Drowsy [3475/14082 [24.68]]\n",
      "++ Working on Control ...\n",
      " + INFO: Number of Awake Samples:  212158/281648 [75.33]\n",
      " + INFO: Number of Drowsy Samples: 69490/281648 [24.67]\n",
      " + --> Split [0 - Training Set]: Awake [201578/267565 [75.34]] | Drowsy [65987/267565 [24.66]]\n",
      " + --> Split [0 - Test Set    ]: Awake [10580/14083 [75.13]] | Drowsy [3503/14083 [24.87]]\n",
      " + --> Split [1 - Training Set]: Awake [201542/267565 [75.32]] | Drowsy [66023/267565 [24.68]]\n",
      " + --> Split [1 - Test Set    ]: Awake [10616/14083 [75.38]] | Drowsy [3467/14083 [24.62]]\n",
      " + --> Split [2 - Training Set]: Awake [201513/267565 [75.31]] | Drowsy [66052/267565 [24.69]]\n",
      " + --> Split [2 - Test Set    ]: Awake [10645/14083 [75.59]] | Drowsy [3438/14083 [24.41]]\n",
      " + --> Split [3 - Training Set]: Awake [201440/267565 [75.29]] | Drowsy [66125/267565 [24.71]]\n",
      " + --> Split [3 - Test Set    ]: Awake [10718/14083 [76.11]] | Drowsy [3365/14083 [23.89]]\n",
      " + --> Split [4 - Training Set]: Awake [201608/267565 [75.35]] | Drowsy [65957/267565 [24.65]]\n",
      " + --> Split [4 - Test Set    ]: Awake [10550/14083 [74.91]] | Drowsy [3533/14083 [25.09]]\n",
      " + --> Split [5 - Training Set]: Awake [201533/267565 [75.32]] | Drowsy [66032/267565 [24.68]]\n",
      " + --> Split [5 - Test Set    ]: Awake [10625/14083 [75.45]] | Drowsy [3458/14083 [24.55]]\n",
      " + --> Split [6 - Training Set]: Awake [201511/267565 [75.31]] | Drowsy [66054/267565 [24.69]]\n",
      " + --> Split [6 - Test Set    ]: Awake [10647/14083 [75.60]] | Drowsy [3436/14083 [24.40]]\n",
      " + --> Split [7 - Training Set]: Awake [201589/267565 [75.34]] | Drowsy [65976/267565 [24.66]]\n",
      " + --> Split [7 - Test Set    ]: Awake [10569/14083 [75.05]] | Drowsy [3514/14083 [24.95]]\n",
      " + --> Split [8 - Training Set]: Awake [201560/267566 [75.33]] | Drowsy [66006/267566 [24.67]]\n",
      " + --> Split [8 - Test Set    ]: Awake [10598/14082 [75.26]] | Drowsy [3484/14082 [24.74]]\n",
      " + --> Split [9 - Training Set]: Awake [201599/267566 [75.35]] | Drowsy [65967/267566 [24.65]]\n",
      " + --> Split [9 - Test Set    ]: Awake [10559/14082 [74.98]] | Drowsy [3523/14082 [25.02]]\n",
      " + --> Split [10 - Training Set]: Awake [201559/267566 [75.33]] | Drowsy [66007/267566 [24.67]]\n",
      " + --> Split [10 - Test Set    ]: Awake [10599/14082 [75.27]] | Drowsy [3483/14082 [24.73]]\n",
      " + --> Split [11 - Training Set]: Awake [201515/267566 [75.31]] | Drowsy [66051/267566 [24.69]]\n",
      " + --> Split [11 - Test Set    ]: Awake [10643/14082 [75.58]] | Drowsy [3439/14082 [24.42]]\n",
      " + --> Split [12 - Training Set]: Awake [201574/267566 [75.34]] | Drowsy [65992/267566 [24.66]]\n",
      " + --> Split [12 - Test Set    ]: Awake [10584/14082 [75.16]] | Drowsy [3498/14082 [24.84]]\n",
      " + --> Split [13 - Training Set]: Awake [201576/267566 [75.34]] | Drowsy [65990/267566 [24.66]]\n",
      " + --> Split [13 - Test Set    ]: Awake [10582/14082 [75.15]] | Drowsy [3500/14082 [24.85]]\n",
      " + --> Split [14 - Training Set]: Awake [201670/267566 [75.37]] | Drowsy [65896/267566 [24.63]]\n",
      " + --> Split [14 - Test Set    ]: Awake [10488/14082 [74.48]] | Drowsy [3594/14082 [25.52]]\n",
      " + --> Split [15 - Training Set]: Awake [201607/267566 [75.35]] | Drowsy [65959/267566 [24.65]]\n",
      " + --> Split [15 - Test Set    ]: Awake [10551/14082 [74.93]] | Drowsy [3531/14082 [25.07]]\n",
      " + --> Split [16 - Training Set]: Awake [201469/267566 [75.30]] | Drowsy [66097/267566 [24.70]]\n",
      " + --> Split [16 - Test Set    ]: Awake [10689/14082 [75.91]] | Drowsy [3393/14082 [24.09]]\n",
      " + --> Split [17 - Training Set]: Awake [201468/267566 [75.30]] | Drowsy [66098/267566 [24.70]]\n",
      " + --> Split [17 - Test Set    ]: Awake [10690/14082 [75.91]] | Drowsy [3392/14082 [24.09]]\n",
      " + --> Split [18 - Training Set]: Awake [201619/267566 [75.35]] | Drowsy [65947/267566 [24.65]]\n",
      " + --> Split [18 - Test Set    ]: Awake [10539/14082 [74.84]] | Drowsy [3543/14082 [25.16]]\n",
      " + --> Split [19 - Training Set]: Awake [201472/267566 [75.30]] | Drowsy [66094/267566 [24.70]]\n",
      " + --> Split [19 - Test Set    ]: Awake [10686/14082 [75.88]] | Drowsy [3396/14082 [24.12]]\n",
      "++ Working on PSD & GS ...\n",
      " + INFO: Number of Awake Samples:  212158/281648 [75.33]\n",
      " + INFO: Number of Drowsy Samples: 69490/281648 [24.67]\n",
      " + --> Split [0 - Training Set]: Awake [201550/267565 [75.33]] | Drowsy [66015/267565 [24.67]]\n",
      " + --> Split [0 - Test Set    ]: Awake [10608/14083 [75.32]] | Drowsy [3475/14083 [24.68]]\n",
      " + --> Split [1 - Training Set]: Awake [201550/267565 [75.33]] | Drowsy [66015/267565 [24.67]]\n",
      " + --> Split [1 - Test Set    ]: Awake [10608/14083 [75.32]] | Drowsy [3475/14083 [24.68]]\n",
      " + --> Split [2 - Training Set]: Awake [201550/267565 [75.33]] | Drowsy [66015/267565 [24.67]]\n",
      " + --> Split [2 - Test Set    ]: Awake [10608/14083 [75.32]] | Drowsy [3475/14083 [24.68]]\n",
      " + --> Split [3 - Training Set]: Awake [201550/267565 [75.33]] | Drowsy [66015/267565 [24.67]]\n",
      " + --> Split [3 - Test Set    ]: Awake [10608/14083 [75.32]] | Drowsy [3475/14083 [24.68]]\n",
      " + --> Split [4 - Training Set]: Awake [201550/267565 [75.33]] | Drowsy [66015/267565 [24.67]]\n",
      " + --> Split [4 - Test Set    ]: Awake [10608/14083 [75.32]] | Drowsy [3475/14083 [24.68]]\n",
      " + --> Split [5 - Training Set]: Awake [201550/267565 [75.33]] | Drowsy [66015/267565 [24.67]]\n",
      " + --> Split [5 - Test Set    ]: Awake [10608/14083 [75.32]] | Drowsy [3475/14083 [24.68]]\n",
      " + --> Split [6 - Training Set]: Awake [201550/267565 [75.33]] | Drowsy [66015/267565 [24.67]]\n",
      " + --> Split [6 - Test Set    ]: Awake [10608/14083 [75.32]] | Drowsy [3475/14083 [24.68]]\n",
      " + --> Split [7 - Training Set]: Awake [201550/267565 [75.33]] | Drowsy [66015/267565 [24.67]]\n",
      " + --> Split [7 - Test Set    ]: Awake [10608/14083 [75.32]] | Drowsy [3475/14083 [24.68]]\n",
      " + --> Split [8 - Training Set]: Awake [201550/267566 [75.33]] | Drowsy [66016/267566 [24.67]]\n",
      " + --> Split [8 - Test Set    ]: Awake [10608/14082 [75.33]] | Drowsy [3474/14082 [24.67]]\n",
      " + --> Split [9 - Training Set]: Awake [201550/267566 [75.33]] | Drowsy [66016/267566 [24.67]]\n",
      " + --> Split [9 - Test Set    ]: Awake [10608/14082 [75.33]] | Drowsy [3474/14082 [24.67]]\n",
      " + --> Split [10 - Training Set]: Awake [201550/267566 [75.33]] | Drowsy [66016/267566 [24.67]]\n",
      " + --> Split [10 - Test Set    ]: Awake [10608/14082 [75.33]] | Drowsy [3474/14082 [24.67]]\n",
      " + --> Split [11 - Training Set]: Awake [201550/267566 [75.33]] | Drowsy [66016/267566 [24.67]]\n",
      " + --> Split [11 - Test Set    ]: Awake [10608/14082 [75.33]] | Drowsy [3474/14082 [24.67]]\n",
      " + --> Split [12 - Training Set]: Awake [201550/267566 [75.33]] | Drowsy [66016/267566 [24.67]]\n",
      " + --> Split [12 - Test Set    ]: Awake [10608/14082 [75.33]] | Drowsy [3474/14082 [24.67]]\n",
      " + --> Split [13 - Training Set]: Awake [201550/267566 [75.33]] | Drowsy [66016/267566 [24.67]]\n",
      " + --> Split [13 - Test Set    ]: Awake [10608/14082 [75.33]] | Drowsy [3474/14082 [24.67]]\n",
      " + --> Split [14 - Training Set]: Awake [201550/267566 [75.33]] | Drowsy [66016/267566 [24.67]]\n",
      " + --> Split [14 - Test Set    ]: Awake [10608/14082 [75.33]] | Drowsy [3474/14082 [24.67]]\n",
      " + --> Split [15 - Training Set]: Awake [201550/267566 [75.33]] | Drowsy [66016/267566 [24.67]]\n",
      " + --> Split [15 - Test Set    ]: Awake [10608/14082 [75.33]] | Drowsy [3474/14082 [24.67]]\n",
      " + --> Split [16 - Training Set]: Awake [201550/267566 [75.33]] | Drowsy [66016/267566 [24.67]]\n",
      " + --> Split [16 - Test Set    ]: Awake [10608/14082 [75.33]] | Drowsy [3474/14082 [24.67]]\n",
      " + --> Split [17 - Training Set]: Awake [201550/267566 [75.33]] | Drowsy [66016/267566 [24.67]]\n",
      " + --> Split [17 - Test Set    ]: Awake [10608/14082 [75.33]] | Drowsy [3474/14082 [24.67]]\n",
      " + --> Split [18 - Training Set]: Awake [201551/267566 [75.33]] | Drowsy [66015/267566 [24.67]]\n",
      " + --> Split [18 - Test Set    ]: Awake [10607/14082 [75.32]] | Drowsy [3475/14082 [24.68]]\n",
      " + --> Split [19 - Training Set]: Awake [201551/267566 [75.33]] | Drowsy [66015/267566 [24.67]]\n",
      " + --> Split [19 - Test Set    ]: Awake [10607/14082 [75.32]] | Drowsy [3475/14082 [24.68]]\n",
      "CPU times: user 1min 4s, sys: 1.85 s, total: 1min 6s\n",
      "Wall time: 1min 45s\n"
     ]
    }
   ],
   "source": [
    "%%time\n",
    "input_features         = ['PSDsleep','GSamplitude','Control','PSD & GS']\n",
    "scores_umbalanced      = pd.DataFrame(index=np.arange(k_folds))\n",
    "predictions_umbalanced = {}\n",
    "true_vals_umbalanced   = {}\n",
    "conf_mat_umbalanced    = xr.DataArray(dims=['Metric','K-Fold','True Label','Predicted Label'],\n",
    "                                      coords={'Metric':input_features,\n",
    "                                              'K-Fold':np.arange(k_folds),\n",
    "                                              'True Label':['EC/Drowsy','EO/Awake'],\n",
    "                                              'Predicted Label':['EC/Drowsy','EO/Awake']})\n",
    "for metric in input_features:\n",
    "    print('++ Working on %s ...' % metric)\n",
    "    if metric == 'Control':\n",
    "        X_aux = data_umbalanced['PSDsleep'].values.reshape(-1, 1)\n",
    "        y_aux = data_umbalanced['Label']\n",
    "        X,y = shuffle(X_aux,y_aux)\n",
    "    if metric == 'PSDsleep':\n",
    "        X = data_umbalanced['PSDsleep'].values.reshape(-1, 1)\n",
    "        y = data_umbalanced['Label']\n",
    "    if metric == 'GSamplitude':\n",
    "        X = data_umbalanced['GSamplitude'].values.reshape(-1, 1)\n",
    "        y = data_umbalanced['Label']\n",
    "    if metric == 'PSD & GS':\n",
    "        X = data_umbalanced[['PSDsleep','GSamplitude']].values\n",
    "        y = data_umbalanced['Label']\n",
    "    aux_num_awake  = (y=='EO/Awake').sum()\n",
    "    aux_num_drowsy = (y=='EC/Drowsy').sum()\n",
    "    aux_num_total  = y.shape[0]\n",
    "    print(\" + INFO: Number of Awake Samples:  %d/%d [%.2f]\" % (aux_num_awake, aux_num_total,100*aux_num_awake/aux_num_total))\n",
    "    print(\" + INFO: Number of Drowsy Samples: %d/%d [%.2f]\" % (aux_num_drowsy,aux_num_total,100*aux_num_drowsy/aux_num_total))\n",
    "    for i, (train_index, test_index) in enumerate(skf_umbalanced.split(X, y)):\n",
    "        log_reg = LogisticRegression(random_state=42, fit_intercept=True, max_iter=5000, n_jobs=-1, class_weight='balanced')\n",
    "        X_train, X_test = X[train_index], X[test_index]\n",
    "        y_train, y_test = y[train_index], y[test_index]\n",
    "        aux_num_awake_train  = (y_train=='EO/Awake').sum()\n",
    "        aux_num_drowsy_train = (y_train=='EC/Drowsy').sum()\n",
    "        aux_num_total_train = y_train.shape[0]\n",
    "        aux_num_awake_test  = (y_test=='EO/Awake').sum()\n",
    "        aux_num_drowsy_test = (y_test=='EC/Drowsy').sum()\n",
    "        aux_num_total_test = y_test.shape[0]\n",
    "        print(' + --> Split [%d - Training Set]: Awake [%d/%d [%.2f]] | Drowsy [%d/%d [%.2f]]' % (i,aux_num_awake_train, aux_num_total_train,100*aux_num_awake_train/aux_num_total_train,\n",
    "                                                                                                                         aux_num_drowsy_train,aux_num_total_train,100*aux_num_drowsy_train/aux_num_total_train))\n",
    "        print(' + --> Split [%d - Test Set    ]: Awake [%d/%d [%.2f]] | Drowsy [%d/%d [%.2f]]' % (i,aux_num_awake_test , aux_num_total_test ,100*aux_num_awake_test/aux_num_total_test,\n",
    "                                                                                                                         aux_num_drowsy_test ,aux_num_total_test ,100*aux_num_drowsy_test/aux_num_total_test))\n",
    "        \n",
    "        log_reg.fit(X_train,y_train)\n",
    "        scores_umbalanced.loc[i,metric]    = log_reg.score(X_test,y_test)\n",
    "        predictions_umbalanced[(metric,i)] = log_reg.predict(X_test)\n",
    "        true_vals_umbalanced[(metric,i)]   = y_test \n",
    "        conf_mat_umbalanced.loc[metric,i,:,:]  = confusion_matrix(true_vals_umbalanced[(metric,i)],predictions_umbalanced[(metric,i)], normalize='pred') #Precision\n",
    "\n",
    "scores_umbalanced = scores_umbalanced.infer_objects()"
   ]
  },
  {
   "cell_type": "code",
   "execution_count": 22,
   "id": "a1371d57-fdea-4761-ba9d-69f3a22abf02",
   "metadata": {},
   "outputs": [
    {
     "name": "stdout",
     "output_type": "stream",
     "text": [
      "Statistical Test for Umbalanced/Original Sample Scenario\n",
      "========================================================\n",
      "PSD vs. Control:  Ttest_indResult(statistic=11.015059420384484, pvalue=2.173556745227076e-13)\n",
      "GS vs. Control:   Ttest_indResult(statistic=11.133336197679448, pvalue=1.590662750634755e-13)\n",
      "GS+ vs. Control:   Ttest_indResult(statistic=11.33626988318219, pvalue=9.348853845443229e-14)\n",
      "-----\n",
      "PSD vs. GS:   Ttest_indResult(statistic=-3.864660782695685, pvalue=0.0004210129323216274)\n",
      "GS+ vs. GS:   Ttest_indResult(statistic=6.876084823484989, pvalue=3.6196663462841935e-08)\n",
      "GS+ vs. GS:   Ttest_indResult(statistic=9.405255495091597, pvalue=1.824308660659524e-11)\n"
     ]
    },
    {
     "data": {
      "image/png": "[encoded data removed]",
      "text/plain": [
       "<Figure size 1080x432 with 9 Axes>"
      ]
     },
     "metadata": {
      "needs_background": "light"
     },
     "output_type": "display_data"
    }
   ],
   "source": [
    "fig_umbal = plt.figure(constrained_layout=True, figsize=(15,6))\n",
    "gs = fig_umbal.add_gridspec(2, 3)\n",
    "fig_umbal_box    = fig_umbal.add_subplot(gs[:, 0])\n",
    "fig_umbal_cm_psd = fig_umbal.add_subplot(gs[0, 1])\n",
    "fig_umbal_cm_gs  = fig_umbal.add_subplot(gs[0, 2])\n",
    "fig_umbal_cm_rnd = fig_umbal.add_subplot(gs[1, 1])\n",
    "fig_umbal_cm_pgs = fig_umbal.add_subplot(gs[1, 2])\n",
    "\n",
    "umbal_boxplot = sns.boxplot(data=scores_umbalanced, ax=fig_umbal_box, color='grey')\n",
    "umbal_boxplot.set_title('(A) Prediction Accuracy', fontsize=18)\n",
    "umbal_boxplot.set_xlabel('Input Features', fontsize=18)\n",
    "umbal_boxplot.set_ylabel('% Accuracy', fontsize=18)\n",
    "umbal_boxplot.set_ylim(0,0.9)\n",
    "cm_umbal_psd       = pd.DataFrame(conf_mat_umbalanced.median(axis=1).loc['PSDsleep'].values, columns=['EC/Drowsy','EO/Awake'], index=['EC/Drowsy','EO/Awake'])\n",
    "cm_umbal_psd_plot  = sns.heatmap(data=cm_umbal_psd,cmap='rocket',annot=True, vmin=0.3, vmax=1, ax=fig_umbal_cm_psd)\n",
    "cm_umbal_psd_plot.set_xlabel('Predicted Label', fontsize=18)\n",
    "cm_umbal_psd_plot.set_ylabel('True Label', fontsize=18)\n",
    "cm_umbal_psd_plot.set_title('(B) PSDsleep', fontsize=18)\n",
    "\n",
    "cm_umbal_gs        = pd.DataFrame(conf_mat_umbalanced.median(axis=1).loc['GSamplitude'].values, columns=['EC/Drowsy','EO/Awake'], index=['EC/Drowsy','EO/Awake'])\n",
    "cm_umbal_gs_plot   = sns.heatmap(data=cm_umbal_gs,cmap='rocket',annot=True, vmin=0.3, vmax=1, ax=fig_umbal_cm_gs)\n",
    "cm_umbal_gs_plot.set_xlabel('Predicted Label', fontsize=18)\n",
    "cm_umbal_gs_plot.set_ylabel('True Label', fontsize=18)\n",
    "cm_umbal_gs_plot.set_title('(C) GSamplitude', fontsize=18)\n",
    "\n",
    "cm_umbal_rand      = pd.DataFrame(conf_mat_umbalanced.median(axis=1).loc['Control'].values, columns=['EC/Drowsy','EO/Awake'], index=['EC/Drowsy','EO/Awake'])\n",
    "cm_umbal_rand_plot = sns.heatmap(data=cm_umbal_rand,cmap='rocket',annot=True, vmin=0.3, vmax=1, ax=fig_umbal_cm_rnd)\n",
    "cm_umbal_rand_plot.set_xlabel('Predicted Label', fontsize=18)\n",
    "cm_umbal_rand_plot.set_ylabel('True Label', fontsize=18)\n",
    "cm_umbal_rand_plot.set_title('(C) Control', fontsize=18)\n",
    "\n",
    "cm_umbal_pgs      = pd.DataFrame(conf_mat_umbalanced.median(axis=1).loc['PSD & GS'].values, columns=['EC/Drowsy','EO/Awake'], index=['EC/Drowsy','EO/Awake'])\n",
    "cm_umbal_pgs_plot = sns.heatmap(data=cm_umbal_pgs,cmap='rocket',annot=True, vmin=0.3, vmax=1, ax=fig_umbal_cm_pgs)\n",
    "cm_umbal_pgs_plot.set_xlabel('Predicted Label', fontsize=18)\n",
    "cm_umbal_pgs_plot.set_ylabel('True Label', fontsize=18)\n",
    "cm_umbal_pgs_plot.set_title('(D) PSDsleep + GSamplitude', fontsize=18)\n",
    "\n",
    "print('Statistical Test for Umbalanced/Original Sample Scenario')\n",
    "print('========================================================')\n",
    "print('PSD vs. Control:  %s' % str(ttest_ind(scores_umbalanced['PSDsleep'],scores_umbalanced['Control'], alternative='two-sided')))\n",
    "print('GS vs. Control:   %s' % str(ttest_ind(scores_umbalanced['GSamplitude'],scores_umbalanced['Control'], alternative='two-sided')))\n",
    "print('GS+ vs. Control:   %s' % str(ttest_ind(scores_umbalanced['PSD & GS'],scores_umbalanced['Control'], alternative='two-sided')))\n",
    "print('-----')\n",
    "print('PSD vs. GS:   %s' % str(ttest_ind(scores_umbalanced['PSDsleep'],scores_umbalanced['GSamplitude'], alternative='two-sided')))\n",
    "print('GS+ vs. GS:   %s' % str(ttest_ind(scores_umbalanced['PSD & GS'],scores_umbalanced['GSamplitude'], alternative='two-sided')))\n",
    "print('GS+ vs. GS:   %s' % str(ttest_ind(scores_umbalanced['PSD & GS'],scores_umbalanced['PSDsleep'], alternative='two-sided')))"
   ]
  },
  {
   "cell_type": "code",
   "execution_count": 23,
   "id": "c0b7b285-400c-4d0f-9056-1961460d697a",
   "metadata": {},
   "outputs": [],
   "source": [
    "fig_umbal.savefig('./figures/Fig11_LogisticRegression.{region}.noHRa.png'.format(region=region))"
   ]
  },
  {
   "cell_type": "markdown",
   "id": "surface-receipt",
   "metadata": {},
   "source": [
    "## Testing/Training Balanced Sample (Not reported)"
   ]
  },
  {
   "cell_type": "code",
   "execution_count": 24,
   "id": "double-tonight",
   "metadata": {},
   "outputs": [],
   "source": [
    "min_num_samples = np.min([num_drowsy_umbalanced,num_awake_umbalanced])\n",
    "data_balanced = pd.concat([data[data['Label']=='EC/Drowsy'].sample(min_num_samples), \n",
    "                           data[data['Label']=='EO/Awake'].sample(min_num_samples)], axis=0).reset_index(drop=True)"
   ]
  },
  {
   "cell_type": "code",
   "execution_count": 25,
   "id": "israeli-copper",
   "metadata": {},
   "outputs": [
    {
     "name": "stdout",
     "output_type": "stream",
     "text": [
      "++ INFO: Number of Awake Samples :  69490/138980 [50.00]\n",
      "++ INFO: Number of Drowsy Samples: 69490/138980 [50.00]\n"
     ]
    }
   ],
   "source": [
    "num_awake_bal  = (data_balanced['Label']=='EO/Awake').sum()\n",
    "num_drowsy_bal = (data_balanced['Label']=='EO/Awake').sum()\n",
    "num_total_bal  = data_balanced.shape[0]\n",
    "print(\"++ INFO: Number of Awake Samples :  %d/%d [%.2f]\" % (num_awake_bal, num_total_bal,100*num_awake_bal/num_total_bal))\n",
    "print(\"++ INFO: Number of Drowsy Samples: %d/%d [%.2f]\" % (num_drowsy_bal,num_total_bal,100*num_drowsy_bal/num_total_bal))"
   ]
  },
  {
   "cell_type": "code",
   "execution_count": 26,
   "id": "instructional-jumping",
   "metadata": {},
   "outputs": [],
   "source": [
    "skf_balanced = StratifiedKFold(n_splits=k_folds, shuffle=True)"
   ]
  },
  {
   "cell_type": "code",
   "execution_count": 27,
   "id": "pressed-breakdown",
   "metadata": {
    "scrolled": true
   },
   "outputs": [
    {
     "name": "stdout",
     "output_type": "stream",
     "text": [
      "++ Working on PSDsleep ...\n",
      " + INFO: Number of Awake Samples : 69490/138980 [50.00]\n",
      " + INFO: Number of Drowsy Samples: 69490/138980 [50.00]\n",
      " + --> Split [0 - Training Set]: Awake [66016/132031 [50.00]] | Drowsy [66015/132031 [50.00]]\n",
      " + --> Split [0 - Test Set    ]: Awake [3474/6949 [49.99]] | Drowsy [3475/6949 [50.01]]\n",
      " + --> Split [1 - Training Set]: Awake [66016/132031 [50.00]] | Drowsy [66015/132031 [50.00]]\n",
      " + --> Split [1 - Test Set    ]: Awake [3474/6949 [49.99]] | Drowsy [3475/6949 [50.01]]\n",
      " + --> Split [2 - Training Set]: Awake [66016/132031 [50.00]] | Drowsy [66015/132031 [50.00]]\n",
      " + --> Split [2 - Test Set    ]: Awake [3474/6949 [49.99]] | Drowsy [3475/6949 [50.01]]\n",
      " + --> Split [3 - Training Set]: Awake [66016/132031 [50.00]] | Drowsy [66015/132031 [50.00]]\n",
      " + --> Split [3 - Test Set    ]: Awake [3474/6949 [49.99]] | Drowsy [3475/6949 [50.01]]\n",
      " + --> Split [4 - Training Set]: Awake [66016/132031 [50.00]] | Drowsy [66015/132031 [50.00]]\n",
      " + --> Split [4 - Test Set    ]: Awake [3474/6949 [49.99]] | Drowsy [3475/6949 [50.01]]\n",
      " + --> Split [5 - Training Set]: Awake [66016/132031 [50.00]] | Drowsy [66015/132031 [50.00]]\n",
      " + --> Split [5 - Test Set    ]: Awake [3474/6949 [49.99]] | Drowsy [3475/6949 [50.01]]\n",
      " + --> Split [6 - Training Set]: Awake [66016/132031 [50.00]] | Drowsy [66015/132031 [50.00]]\n",
      " + --> Split [6 - Test Set    ]: Awake [3474/6949 [49.99]] | Drowsy [3475/6949 [50.01]]\n",
      " + --> Split [7 - Training Set]: Awake [66016/132031 [50.00]] | Drowsy [66015/132031 [50.00]]\n",
      " + --> Split [7 - Test Set    ]: Awake [3474/6949 [49.99]] | Drowsy [3475/6949 [50.01]]\n",
      " + --> Split [8 - Training Set]: Awake [66016/132031 [50.00]] | Drowsy [66015/132031 [50.00]]\n",
      " + --> Split [8 - Test Set    ]: Awake [3474/6949 [49.99]] | Drowsy [3475/6949 [50.01]]\n",
      " + --> Split [9 - Training Set]: Awake [66016/132031 [50.00]] | Drowsy [66015/132031 [50.00]]\n",
      " + --> Split [9 - Test Set    ]: Awake [3474/6949 [49.99]] | Drowsy [3475/6949 [50.01]]\n",
      " + --> Split [10 - Training Set]: Awake [66015/132031 [50.00]] | Drowsy [66016/132031 [50.00]]\n",
      " + --> Split [10 - Test Set    ]: Awake [3475/6949 [50.01]] | Drowsy [3474/6949 [49.99]]\n",
      " + --> Split [11 - Training Set]: Awake [66015/132031 [50.00]] | Drowsy [66016/132031 [50.00]]\n",
      " + --> Split [11 - Test Set    ]: Awake [3475/6949 [50.01]] | Drowsy [3474/6949 [49.99]]\n",
      " + --> Split [12 - Training Set]: Awake [66015/132031 [50.00]] | Drowsy [66016/132031 [50.00]]\n",
      " + --> Split [12 - Test Set    ]: Awake [3475/6949 [50.01]] | Drowsy [3474/6949 [49.99]]\n",
      " + --> Split [13 - Training Set]: Awake [66015/132031 [50.00]] | Drowsy [66016/132031 [50.00]]\n",
      " + --> Split [13 - Test Set    ]: Awake [3475/6949 [50.01]] | Drowsy [3474/6949 [49.99]]\n",
      " + --> Split [14 - Training Set]: Awake [66015/132031 [50.00]] | Drowsy [66016/132031 [50.00]]\n",
      " + --> Split [14 - Test Set    ]: Awake [3475/6949 [50.01]] | Drowsy [3474/6949 [49.99]]\n",
      " + --> Split [15 - Training Set]: Awake [66015/132031 [50.00]] | Drowsy [66016/132031 [50.00]]\n",
      " + --> Split [15 - Test Set    ]: Awake [3475/6949 [50.01]] | Drowsy [3474/6949 [49.99]]\n",
      " + --> Split [16 - Training Set]: Awake [66015/132031 [50.00]] | Drowsy [66016/132031 [50.00]]\n",
      " + --> Split [16 - Test Set    ]: Awake [3475/6949 [50.01]] | Drowsy [3474/6949 [49.99]]\n",
      " + --> Split [17 - Training Set]: Awake [66015/132031 [50.00]] | Drowsy [66016/132031 [50.00]]\n",
      " + --> Split [17 - Test Set    ]: Awake [3475/6949 [50.01]] | Drowsy [3474/6949 [49.99]]\n",
      " + --> Split [18 - Training Set]: Awake [66015/132031 [50.00]] | Drowsy [66016/132031 [50.00]]\n",
      " + --> Split [18 - Test Set    ]: Awake [3475/6949 [50.01]] | Drowsy [3474/6949 [49.99]]\n",
      " + --> Split [19 - Training Set]: Awake [66015/132031 [50.00]] | Drowsy [66016/132031 [50.00]]\n",
      " + --> Split [19 - Test Set    ]: Awake [3475/6949 [50.01]] | Drowsy [3474/6949 [49.99]]\n",
      "++ Working on GSamplitude ...\n",
      " + INFO: Number of Awake Samples : 69490/138980 [50.00]\n",
      " + INFO: Number of Drowsy Samples: 69490/138980 [50.00]\n",
      " + --> Split [0 - Training Set]: Awake [66016/132031 [50.00]] | Drowsy [66015/132031 [50.00]]\n",
      " + --> Split [0 - Test Set    ]: Awake [3474/6949 [49.99]] | Drowsy [3475/6949 [50.01]]\n",
      " + --> Split [1 - Training Set]: Awake [66016/132031 [50.00]] | Drowsy [66015/132031 [50.00]]\n",
      " + --> Split [1 - Test Set    ]: Awake [3474/6949 [49.99]] | Drowsy [3475/6949 [50.01]]\n",
      " + --> Split [2 - Training Set]: Awake [66016/132031 [50.00]] | Drowsy [66015/132031 [50.00]]\n",
      " + --> Split [2 - Test Set    ]: Awake [3474/6949 [49.99]] | Drowsy [3475/6949 [50.01]]\n",
      " + --> Split [3 - Training Set]: Awake [66016/132031 [50.00]] | Drowsy [66015/132031 [50.00]]\n",
      " + --> Split [3 - Test Set    ]: Awake [3474/6949 [49.99]] | Drowsy [3475/6949 [50.01]]\n",
      " + --> Split [4 - Training Set]: Awake [66016/132031 [50.00]] | Drowsy [66015/132031 [50.00]]\n",
      " + --> Split [4 - Test Set    ]: Awake [3474/6949 [49.99]] | Drowsy [3475/6949 [50.01]]\n",
      " + --> Split [5 - Training Set]: Awake [66016/132031 [50.00]] | Drowsy [66015/132031 [50.00]]\n",
      " + --> Split [5 - Test Set    ]: Awake [3474/6949 [49.99]] | Drowsy [3475/6949 [50.01]]\n",
      " + --> Split [6 - Training Set]: Awake [66016/132031 [50.00]] | Drowsy [66015/132031 [50.00]]\n",
      " + --> Split [6 - Test Set    ]: Awake [3474/6949 [49.99]] | Drowsy [3475/6949 [50.01]]\n",
      " + --> Split [7 - Training Set]: Awake [66016/132031 [50.00]] | Drowsy [66015/132031 [50.00]]\n",
      " + --> Split [7 - Test Set    ]: Awake [3474/6949 [49.99]] | Drowsy [3475/6949 [50.01]]\n",
      " + --> Split [8 - Training Set]: Awake [66016/132031 [50.00]] | Drowsy [66015/132031 [50.00]]\n",
      " + --> Split [8 - Test Set    ]: Awake [3474/6949 [49.99]] | Drowsy [3475/6949 [50.01]]\n",
      " + --> Split [9 - Training Set]: Awake [66016/132031 [50.00]] | Drowsy [66015/132031 [50.00]]\n",
      " + --> Split [9 - Test Set    ]: Awake [3474/6949 [49.99]] | Drowsy [3475/6949 [50.01]]\n",
      " + --> Split [10 - Training Set]: Awake [66015/132031 [50.00]] | Drowsy [66016/132031 [50.00]]\n",
      " + --> Split [10 - Test Set    ]: Awake [3475/6949 [50.01]] | Drowsy [3474/6949 [49.99]]\n",
      " + --> Split [11 - Training Set]: Awake [66015/132031 [50.00]] | Drowsy [66016/132031 [50.00]]\n",
      " + --> Split [11 - Test Set    ]: Awake [3475/6949 [50.01]] | Drowsy [3474/6949 [49.99]]\n",
      " + --> Split [12 - Training Set]: Awake [66015/132031 [50.00]] | Drowsy [66016/132031 [50.00]]\n",
      " + --> Split [12 - Test Set    ]: Awake [3475/6949 [50.01]] | Drowsy [3474/6949 [49.99]]\n",
      " + --> Split [13 - Training Set]: Awake [66015/132031 [50.00]] | Drowsy [66016/132031 [50.00]]\n",
      " + --> Split [13 - Test Set    ]: Awake [3475/6949 [50.01]] | Drowsy [3474/6949 [49.99]]\n",
      " + --> Split [14 - Training Set]: Awake [66015/132031 [50.00]] | Drowsy [66016/132031 [50.00]]\n",
      " + --> Split [14 - Test Set    ]: Awake [3475/6949 [50.01]] | Drowsy [3474/6949 [49.99]]\n",
      " + --> Split [15 - Training Set]: Awake [66015/132031 [50.00]] | Drowsy [66016/132031 [50.00]]\n",
      " + --> Split [15 - Test Set    ]: Awake [3475/6949 [50.01]] | Drowsy [3474/6949 [49.99]]\n",
      " + --> Split [16 - Training Set]: Awake [66015/132031 [50.00]] | Drowsy [66016/132031 [50.00]]\n",
      " + --> Split [16 - Test Set    ]: Awake [3475/6949 [50.01]] | Drowsy [3474/6949 [49.99]]\n",
      " + --> Split [17 - Training Set]: Awake [66015/132031 [50.00]] | Drowsy [66016/132031 [50.00]]\n",
      " + --> Split [17 - Test Set    ]: Awake [3475/6949 [50.01]] | Drowsy [3474/6949 [49.99]]\n",
      " + --> Split [18 - Training Set]: Awake [66015/132031 [50.00]] | Drowsy [66016/132031 [50.00]]\n",
      " + --> Split [18 - Test Set    ]: Awake [3475/6949 [50.01]] | Drowsy [3474/6949 [49.99]]\n",
      " + --> Split [19 - Training Set]: Awake [66015/132031 [50.00]] | Drowsy [66016/132031 [50.00]]\n",
      " + --> Split [19 - Test Set    ]: Awake [3475/6949 [50.01]] | Drowsy [3474/6949 [49.99]]\n",
      "++ Working on Control ...\n",
      " + INFO: Number of Awake Samples : 69490/138980 [50.00]\n",
      " + INFO: Number of Drowsy Samples: 69490/138980 [50.00]\n",
      " + --> Split [0 - Training Set]: Awake [66041/132031 [50.02]] | Drowsy [65990/132031 [49.98]]\n",
      " + --> Split [0 - Test Set    ]: Awake [3449/6949 [49.63]] | Drowsy [3500/6949 [50.37]]\n",
      " + --> Split [1 - Training Set]: Awake [65978/132031 [49.97]] | Drowsy [66053/132031 [50.03]]\n",
      " + --> Split [1 - Test Set    ]: Awake [3512/6949 [50.54]] | Drowsy [3437/6949 [49.46]]\n",
      " + --> Split [2 - Training Set]: Awake [66032/132031 [50.01]] | Drowsy [65999/132031 [49.99]]\n",
      " + --> Split [2 - Test Set    ]: Awake [3458/6949 [49.76]] | Drowsy [3491/6949 [50.24]]\n",
      " + --> Split [3 - Training Set]: Awake [66100/132031 [50.06]] | Drowsy [65931/132031 [49.94]]\n",
      " + --> Split [3 - Test Set    ]: Awake [3390/6949 [48.78]] | Drowsy [3559/6949 [51.22]]\n",
      " + --> Split [4 - Training Set]: Awake [66033/132031 [50.01]] | Drowsy [65998/132031 [49.99]]\n",
      " + --> Split [4 - Test Set    ]: Awake [3457/6949 [49.75]] | Drowsy [3492/6949 [50.25]]\n",
      " + --> Split [5 - Training Set]: Awake [65949/132031 [49.95]] | Drowsy [66082/132031 [50.05]]\n",
      " + --> Split [5 - Test Set    ]: Awake [3541/6949 [50.96]] | Drowsy [3408/6949 [49.04]]\n",
      " + --> Split [6 - Training Set]: Awake [66012/132031 [50.00]] | Drowsy [66019/132031 [50.00]]\n",
      " + --> Split [6 - Test Set    ]: Awake [3478/6949 [50.05]] | Drowsy [3471/6949 [49.95]]\n",
      " + --> Split [7 - Training Set]: Awake [66108/132031 [50.07]] | Drowsy [65923/132031 [49.93]]\n",
      " + --> Split [7 - Test Set    ]: Awake [3382/6949 [48.67]] | Drowsy [3567/6949 [51.33]]\n",
      " + --> Split [8 - Training Set]: Awake [66077/132031 [50.05]] | Drowsy [65954/132031 [49.95]]\n",
      " + --> Split [8 - Test Set    ]: Awake [3413/6949 [49.11]] | Drowsy [3536/6949 [50.89]]\n",
      " + --> Split [9 - Training Set]: Awake [65993/132031 [49.98]] | Drowsy [66038/132031 [50.02]]\n",
      " + --> Split [9 - Test Set    ]: Awake [3497/6949 [50.32]] | Drowsy [3452/6949 [49.68]]\n",
      " + --> Split [10 - Training Set]: Awake [65993/132031 [49.98]] | Drowsy [66038/132031 [50.02]]\n",
      " + --> Split [10 - Test Set    ]: Awake [3497/6949 [50.32]] | Drowsy [3452/6949 [49.68]]\n",
      " + --> Split [11 - Training Set]: Awake [66070/132031 [50.04]] | Drowsy [65961/132031 [49.96]]\n",
      " + --> Split [11 - Test Set    ]: Awake [3420/6949 [49.22]] | Drowsy [3529/6949 [50.78]]\n",
      " + --> Split [12 - Training Set]: Awake [66005/132031 [49.99]] | Drowsy [66026/132031 [50.01]]\n",
      " + --> Split [12 - Test Set    ]: Awake [3485/6949 [50.15]] | Drowsy [3464/6949 [49.85]]\n",
      " + --> Split [13 - Training Set]: Awake [65938/132031 [49.94]] | Drowsy [66093/132031 [50.06]]\n",
      " + --> Split [13 - Test Set    ]: Awake [3552/6949 [51.12]] | Drowsy [3397/6949 [48.88]]\n",
      " + --> Split [14 - Training Set]: Awake [65966/132031 [49.96]] | Drowsy [66065/132031 [50.04]]\n",
      " + --> Split [14 - Test Set    ]: Awake [3524/6949 [50.71]] | Drowsy [3425/6949 [49.29]]\n",
      " + --> Split [15 - Training Set]: Awake [65978/132031 [49.97]] | Drowsy [66053/132031 [50.03]]\n",
      " + --> Split [15 - Test Set    ]: Awake [3512/6949 [50.54]] | Drowsy [3437/6949 [49.46]]\n",
      " + --> Split [16 - Training Set]: Awake [65995/132031 [49.98]] | Drowsy [66036/132031 [50.02]]\n",
      " + --> Split [16 - Test Set    ]: Awake [3495/6949 [50.30]] | Drowsy [3454/6949 [49.70]]\n",
      " + --> Split [17 - Training Set]: Awake [66099/132031 [50.06]] | Drowsy [65932/132031 [49.94]]\n",
      " + --> Split [17 - Test Set    ]: Awake [3391/6949 [48.80]] | Drowsy [3558/6949 [51.20]]\n",
      " + --> Split [18 - Training Set]: Awake [65950/132031 [49.95]] | Drowsy [66081/132031 [50.05]]\n",
      " + --> Split [18 - Test Set    ]: Awake [3540/6949 [50.94]] | Drowsy [3409/6949 [49.06]]\n",
      " + --> Split [19 - Training Set]: Awake [65993/132031 [49.98]] | Drowsy [66038/132031 [50.02]]\n",
      " + --> Split [19 - Test Set    ]: Awake [3497/6949 [50.32]] | Drowsy [3452/6949 [49.68]]\n",
      "++ Working on PSD & GS ...\n",
      " + INFO: Number of Awake Samples : 69490/138980 [50.00]\n",
      " + INFO: Number of Drowsy Samples: 69490/138980 [50.00]\n",
      " + --> Split [0 - Training Set]: Awake [66016/132031 [50.00]] | Drowsy [66015/132031 [50.00]]\n",
      " + --> Split [0 - Test Set    ]: Awake [3474/6949 [49.99]] | Drowsy [3475/6949 [50.01]]\n",
      " + --> Split [1 - Training Set]: Awake [66016/132031 [50.00]] | Drowsy [66015/132031 [50.00]]\n",
      " + --> Split [1 - Test Set    ]: Awake [3474/6949 [49.99]] | Drowsy [3475/6949 [50.01]]\n",
      " + --> Split [2 - Training Set]: Awake [66016/132031 [50.00]] | Drowsy [66015/132031 [50.00]]\n",
      " + --> Split [2 - Test Set    ]: Awake [3474/6949 [49.99]] | Drowsy [3475/6949 [50.01]]\n",
      " + --> Split [3 - Training Set]: Awake [66016/132031 [50.00]] | Drowsy [66015/132031 [50.00]]\n",
      " + --> Split [3 - Test Set    ]: Awake [3474/6949 [49.99]] | Drowsy [3475/6949 [50.01]]\n",
      " + --> Split [4 - Training Set]: Awake [66016/132031 [50.00]] | Drowsy [66015/132031 [50.00]]\n",
      " + --> Split [4 - Test Set    ]: Awake [3474/6949 [49.99]] | Drowsy [3475/6949 [50.01]]\n",
      " + --> Split [5 - Training Set]: Awake [66016/132031 [50.00]] | Drowsy [66015/132031 [50.00]]\n",
      " + --> Split [5 - Test Set    ]: Awake [3474/6949 [49.99]] | Drowsy [3475/6949 [50.01]]\n",
      " + --> Split [6 - Training Set]: Awake [66016/132031 [50.00]] | Drowsy [66015/132031 [50.00]]\n",
      " + --> Split [6 - Test Set    ]: Awake [3474/6949 [49.99]] | Drowsy [3475/6949 [50.01]]\n",
      " + --> Split [7 - Training Set]: Awake [66016/132031 [50.00]] | Drowsy [66015/132031 [50.00]]\n",
      " + --> Split [7 - Test Set    ]: Awake [3474/6949 [49.99]] | Drowsy [3475/6949 [50.01]]\n",
      " + --> Split [8 - Training Set]: Awake [66016/132031 [50.00]] | Drowsy [66015/132031 [50.00]]\n",
      " + --> Split [8 - Test Set    ]: Awake [3474/6949 [49.99]] | Drowsy [3475/6949 [50.01]]\n",
      " + --> Split [9 - Training Set]: Awake [66016/132031 [50.00]] | Drowsy [66015/132031 [50.00]]\n",
      " + --> Split [9 - Test Set    ]: Awake [3474/6949 [49.99]] | Drowsy [3475/6949 [50.01]]\n",
      " + --> Split [10 - Training Set]: Awake [66015/132031 [50.00]] | Drowsy [66016/132031 [50.00]]\n",
      " + --> Split [10 - Test Set    ]: Awake [3475/6949 [50.01]] | Drowsy [3474/6949 [49.99]]\n",
      " + --> Split [11 - Training Set]: Awake [66015/132031 [50.00]] | Drowsy [66016/132031 [50.00]]\n",
      " + --> Split [11 - Test Set    ]: Awake [3475/6949 [50.01]] | Drowsy [3474/6949 [49.99]]\n",
      " + --> Split [12 - Training Set]: Awake [66015/132031 [50.00]] | Drowsy [66016/132031 [50.00]]\n",
      " + --> Split [12 - Test Set    ]: Awake [3475/6949 [50.01]] | Drowsy [3474/6949 [49.99]]\n",
      " + --> Split [13 - Training Set]: Awake [66015/132031 [50.00]] | Drowsy [66016/132031 [50.00]]\n",
      " + --> Split [13 - Test Set    ]: Awake [3475/6949 [50.01]] | Drowsy [3474/6949 [49.99]]\n",
      " + --> Split [14 - Training Set]: Awake [66015/132031 [50.00]] | Drowsy [66016/132031 [50.00]]\n",
      " + --> Split [14 - Test Set    ]: Awake [3475/6949 [50.01]] | Drowsy [3474/6949 [49.99]]\n",
      " + --> Split [15 - Training Set]: Awake [66015/132031 [50.00]] | Drowsy [66016/132031 [50.00]]\n",
      " + --> Split [15 - Test Set    ]: Awake [3475/6949 [50.01]] | Drowsy [3474/6949 [49.99]]\n",
      " + --> Split [16 - Training Set]: Awake [66015/132031 [50.00]] | Drowsy [66016/132031 [50.00]]\n",
      " + --> Split [16 - Test Set    ]: Awake [3475/6949 [50.01]] | Drowsy [3474/6949 [49.99]]\n",
      " + --> Split [17 - Training Set]: Awake [66015/132031 [50.00]] | Drowsy [66016/132031 [50.00]]\n",
      " + --> Split [17 - Test Set    ]: Awake [3475/6949 [50.01]] | Drowsy [3474/6949 [49.99]]\n",
      " + --> Split [18 - Training Set]: Awake [66015/132031 [50.00]] | Drowsy [66016/132031 [50.00]]\n",
      " + --> Split [18 - Test Set    ]: Awake [3475/6949 [50.01]] | Drowsy [3474/6949 [49.99]]\n",
      " + --> Split [19 - Training Set]: Awake [66015/132031 [50.00]] | Drowsy [66016/132031 [50.00]]\n",
      " + --> Split [19 - Test Set    ]: Awake [3475/6949 [50.01]] | Drowsy [3474/6949 [49.99]]\n",
      "CPU times: user 27 s, sys: 561 ms, total: 27.5 s\n",
      "Wall time: 46.9 s\n"
     ]
    }
   ],
   "source": [
    "%%time\n",
    "input_features       = ['PSDsleep','GSamplitude','Control','PSD & GS']\n",
    "scores_balanced      = pd.DataFrame(index=np.arange(k_folds))\n",
    "predictions_balanced = {}\n",
    "true_vals_balanced   = {}\n",
    "conf_mat_balanced    = xr.DataArray(dims=['Metric','K-Fold','True Label','Predicted Label'],\n",
    "                                      coords={'Metric':input_features,\n",
    "                                              'K-Fold':np.arange(k_folds),\n",
    "                                              'True Label':['EC/Drowsy','EO/Awake'],\n",
    "                                              'Predicted Label':['EC/Drowsy','EO/Awake']})\n",
    "for metric in input_features:\n",
    "    print('++ Working on %s ...' % metric)\n",
    "    if metric == 'Control':\n",
    "        X_aux = data_balanced['PSDsleep'].values.reshape(-1, 1)\n",
    "        y_aux = data_balanced['Label']\n",
    "        X,y = shuffle(X_aux,y_aux)\n",
    "    if metric == 'PSDsleep':\n",
    "        X = data_balanced['PSDsleep'].values.reshape(-1, 1)\n",
    "        y = data_balanced['Label']\n",
    "    if metric == 'GSamplitude':\n",
    "        X = data_balanced['GSamplitude'].values.reshape(-1, 1)\n",
    "        y = data_balanced['Label']\n",
    "    if metric == 'PSD & GS':\n",
    "        X = data_balanced[['PSDsleep','GSamplitude']].values\n",
    "        y = data_balanced['Label']\n",
    "    aux_num_awake  = (y=='EO/Awake').sum()\n",
    "    aux_num_drowsy = (y=='EC/Drowsy').sum()\n",
    "    aux_num_total  = y.shape[0]\n",
    "    print(\" + INFO: Number of Awake Samples : %d/%d [%.2f]\" % (aux_num_awake, aux_num_total,100*aux_num_awake/aux_num_total))\n",
    "    print(\" + INFO: Number of Drowsy Samples: %d/%d [%.2f]\" % (aux_num_drowsy,aux_num_total,100*aux_num_drowsy/aux_num_total))\n",
    "    for i, (train_index, test_index) in enumerate(skf_balanced.split(X, y)):\n",
    "        log_reg = LogisticRegression(random_state=42, fit_intercept=True, max_iter=5000, n_jobs=-1)\n",
    "        X_train, X_test = X[train_index], X[test_index]\n",
    "        y_train, y_test = y[train_index], y[test_index]\n",
    "        aux_num_awake_train  = (y_train=='EO/Awake').sum()\n",
    "        aux_num_drowsy_train = (y_train=='EC/Drowsy').sum()\n",
    "        aux_num_total_train = y_train.shape[0]\n",
    "        aux_num_awake_test  = (y_test=='EO/Awake').sum()\n",
    "        aux_num_drowsy_test = (y_test=='EC/Drowsy').sum()\n",
    "        aux_num_total_test = y_test.shape[0]\n",
    "        print(' + --> Split [%d - Training Set]: Awake [%d/%d [%.2f]] | Drowsy [%d/%d [%.2f]]' % (i,aux_num_awake_train, aux_num_total_train,100*aux_num_awake_train/aux_num_total_train,\n",
    "                                                                                                                         aux_num_drowsy_train,aux_num_total_train,100*aux_num_drowsy_train/aux_num_total_train))\n",
    "        print(' + --> Split [%d - Test Set    ]: Awake [%d/%d [%.2f]] | Drowsy [%d/%d [%.2f]]' % (i,aux_num_awake_test , aux_num_total_test ,100*aux_num_awake_test/aux_num_total_test,\n",
    "                                                                                                                         aux_num_drowsy_test ,aux_num_total_test ,100*aux_num_drowsy_test/aux_num_total_test))\n",
    "        \n",
    "        log_reg.fit(X_train,y_train)\n",
    "        scores_balanced.loc[i,metric]    = log_reg.score(X_test,y_test)\n",
    "        predictions_balanced[(metric,i)] = log_reg.predict(X_test)\n",
    "        true_vals_balanced[(metric,i)]   = y_test \n",
    "        conf_mat_balanced.loc[metric,i,:,:]  = confusion_matrix(true_vals_balanced[(metric,i)],predictions_balanced[(metric,i)], normalize='pred') #PRECISION\n",
    "scores_balanced = scores_balanced.infer_objects()"
   ]
  },
  {
   "cell_type": "code",
   "execution_count": 28,
   "id": "579f5d8a-559f-4b3e-a751-676d49f75e08",
   "metadata": {},
   "outputs": [
    {
     "data": {
      "text/plain": [
       "Text(0.5, 1.0, '(D) PSDsleep + GSamplitude')"
      ]
     },
     "execution_count": 28,
     "metadata": {},
     "output_type": "execute_result"
    },
    {
     "data": {
      "image/png": "[encoded data removed]",
      "text/plain": [
       "<Figure size 1080x432 with 9 Axes>"
      ]
     },
     "metadata": {
      "needs_background": "light"
     },
     "output_type": "display_data"
    }
   ],
   "source": [
    "fig_bal = plt.figure(constrained_layout=True, figsize=(15,6))\n",
    "gs = fig_bal.add_gridspec(2, 3)\n",
    "fig_bal_box    = fig_bal.add_subplot(gs[:, 0])\n",
    "fig_bal_cm_psd = fig_bal.add_subplot(gs[0, 1])\n",
    "fig_bal_cm_gs  = fig_bal.add_subplot(gs[0, 2])\n",
    "fig_bal_cm_rnd = fig_bal.add_subplot(gs[1, 1])\n",
    "fig_bal_cm_pgs = fig_bal.add_subplot(gs[1, 2])\n",
    "\n",
    "bal_boxplot = sns.boxplot(data=scores_balanced, ax=fig_bal_box, palette=sns.color_palette(\"Paired\", 4))\n",
    "bal_boxplot.set_title('(A) Prediction Accuracy', fontsize=18)\n",
    "bal_boxplot.set_xlabel('Input Features', fontsize=18)\n",
    "bal_boxplot.set_ylabel('% Accuracy', fontsize=18)\n",
    "\n",
    "cm_bal_psd       = pd.DataFrame(conf_mat_balanced.median(axis=1).loc['PSDsleep'].values, columns=['EC/Drowsy','EO/Awake'], index=['EC/Drowsy','EO/Awake'])\n",
    "cm_bal_psd_plot  = sns.heatmap(data=cm_bal_psd,cmap='rocket',annot=True, vmin=0.3, vmax=1, ax=fig_bal_cm_psd)\n",
    "cm_bal_psd_plot.set_xlabel('Predicted Label', fontsize=18)\n",
    "cm_bal_psd_plot.set_ylabel('True Label', fontsize=18)\n",
    "cm_bal_psd_plot.set_title('(B) PSDsleep', fontsize=18)\n",
    "\n",
    "cm_bal_gs        = pd.DataFrame(conf_mat_balanced.median(axis=1).loc['GSamplitude'].values, columns=['EC/Drowsy','EO/Awake'], index=['EC/Drowsy','EO/Awake'])\n",
    "cm_bal_gs_plot   = sns.heatmap(data=cm_bal_gs,cmap='rocket',annot=True, vmin=0.3, vmax=1, ax=fig_bal_cm_gs)\n",
    "cm_bal_gs_plot.set_xlabel('Predicted Label', fontsize=18)\n",
    "cm_bal_gs_plot.set_ylabel('True Label', fontsize=18)\n",
    "cm_bal_gs_plot.set_title('(C) GSamplitude', fontsize=18)\n",
    "\n",
    "cm_bal_rand      = pd.DataFrame(conf_mat_balanced.median(axis=1).loc['Control'].values, columns=['EC/Drowsy','EO/Awake'], index=['EC/Drowsy','EO/Awake'])\n",
    "cm_bal_rand_plot = sns.heatmap(data=cm_bal_rand,cmap='rocket',annot=True, vmin=0.3, vmax=1, ax=fig_bal_cm_rnd)\n",
    "cm_bal_rand_plot.set_xlabel('Predicted Label', fontsize=18)\n",
    "cm_bal_rand_plot.set_ylabel('True Label', fontsize=18)\n",
    "cm_bal_rand_plot.set_title('(C) Control', fontsize=18)\n",
    "\n",
    "cm_bal_pgs      = pd.DataFrame(conf_mat_balanced.median(axis=1).loc['PSD & GS'].values, columns=['EC/Drowsy','EO/Awake'], index=['EC/Drowsy','EO/Awake'])\n",
    "cm_bal_pgs_plot = sns.heatmap(data=cm_bal_pgs,cmap='rocket',annot=True, vmin=0.3, vmax=1, ax=fig_bal_cm_pgs)\n",
    "cm_bal_pgs_plot.set_xlabel('Predicted Label', fontsize=18)\n",
    "cm_bal_pgs_plot.set_ylabel('True Label', fontsize=18)\n",
    "cm_bal_pgs_plot.set_title('(D) PSDsleep + GSamplitude', fontsize=18)"
   ]
  },
  {
   "cell_type": "code",
   "execution_count": 29,
   "id": "505374eb-f238-42ec-bc1e-df4c378487e3",
   "metadata": {},
   "outputs": [
    {
     "name": "stdout",
     "output_type": "stream",
     "text": [
      "Statistical Test for Balanced Sample Scenario\n",
      "===============================================\n",
      "PSD vs. Control:  Ttest_indResult(statistic=59.691886042772325, pvalue=3.588809587749041e-39)\n",
      "GS vs. Control:   Ttest_indResult(statistic=116.55667756136523, pvalue=3.7514179911881344e-50)\n",
      "PSD vs. GS:   Ttest_indResult(statistic=-37.28930519004274, pvalue=1.5415516574141203e-31)\n",
      "GS+ vs. GS:   Ttest_indResult(statistic=0.6324326483715421, pvalue=0.5308914529598905)\n"
     ]
    }
   ],
   "source": [
    "print('Statistical Test for Balanced Sample Scenario')\n",
    "print('===============================================')\n",
    "print('PSD vs. Control:  %s' % str(ttest_ind(scores_balanced['PSDsleep'],scores_balanced['Control'], alternative='two-sided')))\n",
    "print('GS vs. Control:   %s' % str(ttest_ind(scores_balanced['GSamplitude'],scores_balanced['Control'], alternative='two-sided')))\n",
    "print('PSD vs. GS:   %s' % str(ttest_ind(scores_balanced['PSDsleep'],scores_balanced['GSamplitude'], alternative='two-sided')))\n",
    "print('GS+ vs. GS:   %s' % str(ttest_ind(scores_balanced['PSD & GS'],scores_balanced['GSamplitude'], alternative='two-sided')))"
   ]
  },
  {
   "cell_type": "code",
   "execution_count": null,
   "id": "37150034-8f3d-4d89-be5c-23f8a7c6d268",
   "metadata": {},
   "outputs": [],
   "source": []
  }
 ],
 "metadata": {
  "jupytext": {
   "formats": "ipynb,py:light"
  },
  "kernelspec": {
   "display_name": "hcp7t_fv_sleep_env",
   "language": "python",
   "name": "hcp7t_fv_sleep_env"
  },
  "language_info": {
   "codemirror_mode": {
    "name": "ipython",
    "version": 3
   },
   "file_extension": ".py",
   "mimetype": "text/x-python",
   "name": "python",
   "nbconvert_exporter": "python",
   "pygments_lexer": "ipython3",
   "version": "3.7.11"
  }
 },
 "nbformat": 4,
 "nbformat_minor": 5
}
